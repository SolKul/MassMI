{
 "cells": [
  {
   "cell_type": "code",
   "execution_count": 3,
   "id": "elementary-bullet",
   "metadata": {},
   "outputs": [],
   "source": [
    "import numpy as np\n",
    "import itertools\n",
    "from rdkit import Chem\n",
    "from rdkit.Chem import AllChem, Draw\n",
    "from PIL import Image\n",
    "import matplotlib.pyplot as plt"
   ]
  },
  {
   "cell_type": "code",
   "execution_count": 14,
   "id": "running-receipt",
   "metadata": {},
   "outputs": [],
   "source": [
    "d_atm2vlc={'C':4,'H':1,'F':1,'O':2,'N':3}\n",
    "\n",
    "\n",
    "l_p_atm=['C','F','C','H','F']\n",
    "l_p_atm=l_p_atm.copy()\n",
    "l_vlc=[]\n",
    "for atm in l_p_atm:\n",
    "    l_vlc.append(d_atm2vlc[atm])\n",
    "arg_s=np.argsort(l_vlc)[::-1]\n",
    "l_p_atm=np.array(l_p_atm)[arg_s]\n",
    "l_vlc=np.array(l_vlc)[arg_s]\n",
    "n_atm=len(l_p_atm)\n",
    "generated=False"
   ]
  },
  {
   "cell_type": "code",
   "execution_count": 97,
   "id": "sensitive-wayne",
   "metadata": {},
   "outputs": [
    {
     "data": {
      "image/png": "[encoded data removed]",
      "text/plain": [
       "<PIL.PngImagePlugin.PngImageFile image mode=RGB size=100x100 at 0x7F280A0951C0>"
      ]
     },
     "metadata": {},
     "output_type": "display_data"
    },
    {
     "name": "stdout",
     "output_type": "stream",
     "text": [
      "Symbol: C\n",
      "Num: 6\n",
      "Valence: 4\n",
      "\n",
      "Symbol: C\n",
      "Num: 6\n",
      "Valence: 4\n",
      "\n",
      "Symbol: F\n",
      "Num: 9\n",
      "Valence: 1\n",
      "\n",
      "Symbol: Cl\n",
      "Num: 17\n",
      "Valence: 1\n",
      "\n",
      "Symbol: Cl\n",
      "Num: 17\n",
      "Valence: 1\n",
      "\n",
      "Symbol: F\n",
      "Num: 9\n",
      "Valence: 1\n",
      "\n",
      "Symbol: F\n",
      "Num: 9\n",
      "Valence: 1\n",
      "\n",
      "Symbol: Cl\n",
      "Num: 17\n",
      "Valence: 1\n",
      "\n"
     ]
    }
   ],
   "source": [
    "mol=Chem.MolFromSmiles(\"C(C(F)(Cl)Cl)(F)(F)Cl\")\n",
    "mol=Chem.AddHs(mol)\n",
    "display(Draw.MolToImage(mol,size=(100,100)))\n",
    "\n",
    "atm_list=[]\n",
    "for atm in mol.GetAtoms():\n",
    "    atm_list.append(atm)\n",
    "    print(\"Symbol:\",atm.GetSymbol())\n",
    "    print(\"Num:\",atm.GetAtomicNum())\n",
    "    print(\"Valence:\",atm.GetExplicitValence())\n",
    "    print()"
   ]
  },
  {
   "cell_type": "code",
   "execution_count": 122,
   "id": "continuous-process",
   "metadata": {},
   "outputs": [
    {
     "data": {
      "text/plain": [
       "[<rdkit.Chem.rdchem.Atom at 0x7f2809a18ee0>,\n",
       " <rdkit.Chem.rdchem.Atom at 0x7f2809a18e80>,\n",
       " <rdkit.Chem.rdchem.Atom at 0x7f2809a18d60>,\n",
       " <rdkit.Chem.rdchem.Atom at 0x7f2809d4bac0>,\n",
       " <rdkit.Chem.rdchem.Atom at 0x7f2809d4b640>,\n",
       " <rdkit.Chem.rdchem.Atom at 0x7f2809d4b3a0>,\n",
       " <rdkit.Chem.rdchem.Atom at 0x7f2809d4b7c0>,\n",
       " <rdkit.Chem.rdchem.Atom at 0x7f2809d4bb80>]"
      ]
     },
     "execution_count": 122,
     "metadata": {},
     "output_type": "execute_result"
    }
   ],
   "source": [
    "list(mol.GetAtoms())"
   ]
  },
  {
   "cell_type": "code",
   "execution_count": 99,
   "id": "random-military",
   "metadata": {},
   "outputs": [
    {
     "name": "stdout",
     "output_type": "stream",
     "text": [
      "Symbol: C\n",
      "Num: 6\n",
      "Valence: 4\n",
      "\n",
      "Symbol: C\n",
      "Num: 6\n",
      "Valence: 4\n",
      "\n",
      "Symbol: Cl\n",
      "Num: 17\n",
      "Valence: 1\n",
      "\n",
      "Symbol: Cl\n",
      "Num: 17\n",
      "Valence: 1\n",
      "\n",
      "Symbol: Cl\n",
      "Num: 17\n",
      "Valence: 1\n",
      "\n",
      "Symbol: F\n",
      "Num: 9\n",
      "Valence: 1\n",
      "\n",
      "Symbol: F\n",
      "Num: 9\n",
      "Valence: 1\n",
      "\n",
      "Symbol: F\n",
      "Num: 9\n",
      "Valence: 1\n",
      "\n"
     ]
    }
   ],
   "source": [
    "s_atm_list=sorted(atm_list,key=lambda x: (x.GetExplicitValence(),x.GetAtomicNum()),reverse=True)\n",
    "for atm in s_atm_list:\n",
    "    print(\"Symbol:\",atm.GetSymbol())\n",
    "    print(\"Num:\",atm.GetAtomicNum())\n",
    "    print(\"Valence:\",atm.GetExplicitValence())\n",
    "    print()"
   ]
  },
  {
   "cell_type": "code",
   "execution_count": 120,
   "id": "corresponding-grove",
   "metadata": {},
   "outputs": [
    {
     "data": {
      "text/plain": [
       "[<rdkit.Chem.rdchem.Atom at 0x7f2809d4b220>,\n",
       " <rdkit.Chem.rdchem.Atom at 0x7f280a4e01c0>,\n",
       " <rdkit.Chem.rdchem.Atom at 0x7f280a4e08e0>,\n",
       " <rdkit.Chem.rdchem.Atom at 0x7f280a4e0640>]"
      ]
     },
     "execution_count": 120,
     "metadata": {},
     "output_type": "execute_result"
    }
   ],
   "source": [
    "str_atm_list=[\"C\",\"C\",\"F\",\"H\"]\n",
    "atm_list=[]\n",
    "for str_atm in str_atm_list:\n",
    "    atm_list.append(Chem.AtomFromSmiles(\"[\"+str_atm+\"]\"))"
   ]
  },
  {
   "cell_type": "code",
   "execution_count": 111,
   "id": "worth-intent",
   "metadata": {
    "scrolled": true
   },
   "outputs": [],
   "source": [
    "vlc_list=[]\n",
    "s_atm_list=sorted(atm_list,key=lambda x: (x.GetExplicitValence(),x.GetAtomicNum()),reverse=True)\n",
    "for atm in s_atm_list:\n",
    "    vlc_list.append(atm.GetExplicitValence())\n",
    "num_atm=len(atm_list)"
   ]
  },
  {
   "cell_type": "code",
   "execution_count": 118,
   "id": "backed-resident",
   "metadata": {},
   "outputs": [],
   "source": [
    "l_bond_p=[[[0]*num_atm]]\n",
    "for k in range(1,self.num_atm):\n",
    "    #重複組み合わせの玉の種類。\n",
    "    #三角形の横方向の数+1\n",
    "\n",
    "    #詳しくは足してnになる組み合わせの数の応用の\n",
    "    #足してn以下になる組み合わせの数を参照\n",
    "    conb_rep_kind=k+1\n",
    "    # 結合する相手の原子の数への結合数が\n",
    "    # 足して価電子数(valence_num)以下なるような場合の数\n",
    "    # =注目している結合する相手の原子の数+1種類の玉から\n",
    "    # 重複して選ぶときの場合の数\n",
    "    valence_num=vlc_list[k]\n",
    "    comb_rep_list=list(itertools.combinations_with_replacement(list(range(conb_rep_kind)),valence_num))\n",
    "    l_bond_r_p=[]\n",
    "    #隣接行列のある1行が取りうる行のリスト\n",
    "    for i in range(len(comb_rep_list)):\n",
    "        l_bond=[0]*num_atm\n",
    "        for j in range(conb_rep_kind-1):\n",
    "            # 結合数=ある玉の数\n",
    "            b_num=comb_rep_list[i].count(j)\n",
    "            if(b_num>=4):\n",
    "                break\n",
    "            l_bond[j]=b_num\n",
    "        else:\n",
    "            l_bond_r_p.append(l_bond)\n",
    "    l_bond_p.append(l_bond_r_p)"
   ]
  },
  {
   "cell_type": "code",
   "execution_count": 117,
   "id": "treated-punch",
   "metadata": {},
   "outputs": [
    {
     "data": {
      "text/plain": [
       "[[3, 0, 0, 0, 0, 0, 0, 0],\n",
       " [2, 0, 0, 0, 0, 0, 0, 0],\n",
       " [1, 0, 0, 0, 0, 0, 0, 0],\n",
       " [0, 0, 0, 0, 0, 0, 0, 0]]"
      ]
     },
     "execution_count": 117,
     "metadata": {},
     "output_type": "execute_result"
    }
   ],
   "source": [
    "l_bond_r_p"
   ]
  },
  {
   "cell_type": "code",
   "execution_count": 106,
   "id": "aware-charge",
   "metadata": {},
   "outputs": [
    {
     "name": "stdout",
     "output_type": "stream",
     "text": [
      "[(0, 0, 0, 0), (0, 0, 0, 1), (0, 0, 0, 2), (0, 0, 1, 1), (0, 0, 1, 2), (0, 0, 2, 2), (0, 1, 1, 1), (0, 1, 1, 2), (0, 1, 2, 2), (0, 2, 2, 2), (1, 1, 1, 1), (1, 1, 1, 2), (1, 1, 2, 2), (1, 2, 2, 2), (2, 2, 2, 2)]\n"
     ]
    },
    {
     "data": {
      "text/plain": [
       "15"
      ]
     },
     "execution_count": 106,
     "metadata": {},
     "output_type": "execute_result"
    }
   ],
   "source": [
    "l_cr=list(itertools.combinations_with_replacement(list(range(3)),4))\n",
    "print(l_cr)\n",
    "len(l_cr)"
   ]
  },
  {
   "cell_type": "code",
   "execution_count": 71,
   "id": "committed-desktop",
   "metadata": {
    "scrolled": false
   },
   "outputs": [
    {
     "name": "stdout",
     "output_type": "stream",
     "text": [
      "1\n"
     ]
    }
   ],
   "source": [
    "peri_tab=Chem.GetPeriodicTable()\n",
    "for i in peri_tab.GetValenceList(19):\n",
    "    print(i)"
   ]
  },
  {
   "cell_type": "code",
   "execution_count": 135,
   "id": "legislative-curve",
   "metadata": {},
   "outputs": [
    {
     "data": {
      "text/plain": [
       "4"
      ]
     },
     "execution_count": 135,
     "metadata": {},
     "output_type": "execute_result"
    }
   ],
   "source": [
    "peri_tab.GetAtomicNumber(\"N\")\n",
    "peri_tab.GetDefaultValence(atm.GetAtomicNum())"
   ]
  },
  {
   "cell_type": "code",
   "execution_count": 134,
   "id": "weekly-airplane",
   "metadata": {},
   "outputs": [
    {
     "ename": "RuntimeError",
     "evalue": "Pre-condition Violation\n\tvalence not defined for atoms not associated with molecules\n\tViolation occurred on line 204 in file Code/GraphMol/Atom.cpp\n\tFailed Expression: dp_mol\n\tRDKIT: 2020.09.5\n\tBOOST: 1_74\n",
     "output_type": "error",
     "traceback": [
      "\u001b[0;31m---------------------------------------------------------------------------\u001b[0m",
      "\u001b[0;31mRuntimeError\u001b[0m                              Traceback (most recent call last)",
      "\u001b[0;32m<ipython-input-134-a07078196b4e>\u001b[0m in \u001b[0;36m<module>\u001b[0;34m\u001b[0m\n\u001b[1;32m      1\u001b[0m \u001b[0matm\u001b[0m\u001b[0;34m=\u001b[0m\u001b[0matm_list\u001b[0m\u001b[0;34m[\u001b[0m\u001b[0;36m0\u001b[0m\u001b[0;34m]\u001b[0m\u001b[0;34m\u001b[0m\u001b[0;34m\u001b[0m\u001b[0m\n\u001b[0;32m----> 2\u001b[0;31m \u001b[0matm\u001b[0m\u001b[0;34m.\u001b[0m\u001b[0mGetTotalValence\u001b[0m\u001b[0;34m(\u001b[0m\u001b[0;34m)\u001b[0m\u001b[0;34m\u001b[0m\u001b[0;34m\u001b[0m\u001b[0m\n\u001b[0m",
      "\u001b[0;31mRuntimeError\u001b[0m: Pre-condition Violation\n\tvalence not defined for atoms not associated with molecules\n\tViolation occurred on line 204 in file Code/GraphMol/Atom.cpp\n\tFailed Expression: dp_mol\n\tRDKIT: 2020.09.5\n\tBOOST: 1_74\n"
     ]
    }
   ],
   "source": [
    "atm=atm_list[0]\n",
    "atm.GetTotalValence()"
   ]
  },
  {
   "cell_type": "code",
   "execution_count": 88,
   "id": "transsexual-champagne",
   "metadata": {},
   "outputs": [],
   "source": [
    "import pubchempy as pcp"
   ]
  },
  {
   "cell_type": "code",
   "execution_count": 90,
   "id": "polar-undergraduate",
   "metadata": {},
   "outputs": [],
   "source": [
    "comp_list=pcp.get_compounds(\"76-13-1\", 'name')"
   ]
  },
  {
   "cell_type": "code",
   "execution_count": 96,
   "id": "imperial-parks",
   "metadata": {},
   "outputs": [
    {
     "data": {
      "text/plain": [
       "'C(C(F)(Cl)Cl)(F)(F)Cl'"
      ]
     },
     "execution_count": 96,
     "metadata": {},
     "output_type": "execute_result"
    }
   ],
   "source": [
    "comp_list[0].canonical_smiles"
   ]
  },
  {
   "cell_type": "code",
   "execution_count": 89,
   "id": "bridal-outside",
   "metadata": {},
   "outputs": [
    {
     "data": {
      "text/plain": [
       "array(['C', 'C', 'F', 'H', 'F'], dtype='<U1')"
      ]
     },
     "execution_count": 89,
     "metadata": {},
     "output_type": "execute_result"
    }
   ],
   "source": [
    "l_p_atm"
   ]
  },
  {
   "cell_type": "code",
   "execution_count": null,
   "id": "criminal-adrian",
   "metadata": {},
   "outputs": [],
   "source": []
  }
 ],
 "metadata": {
  "kernelspec": {
   "display_name": "Python 3",
   "language": "python",
   "name": "python3"
  },
  "language_info": {
   "codemirror_mode": {
    "name": "ipython",
    "version": 3
   },
   "file_extension": ".py",
   "mimetype": "text/x-python",
   "name": "python",
   "nbconvert_exporter": "python",
   "pygments_lexer": "ipython3",
   "version": "3.8.8"
  }
 },
 "nbformat": 4,
 "nbformat_minor": 5
}
