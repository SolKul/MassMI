{
 "cells": [
  {
   "cell_type": "code",
   "execution_count": 12,
   "metadata": {},
   "outputs": [],
   "source": [
    "import pathlib\n",
    "import time\n",
    "\n",
    "import numpy as np\n",
    "import pandas as pd\n",
    "import pubchempy as pcp\n",
    "from jcamp import JCAMP_reader"
   ]
  },
  {
   "cell_type": "code",
   "execution_count": 5,
   "metadata": {},
   "outputs": [],
   "source": [
    "# スペクトルデータがあるフォルダのパス\n",
    "p_temp=pathlib.Path('data/nist-mass-spectrum/')"
   ]
  },
  {
   "cell_type": "code",
   "execution_count": 6,
   "metadata": {},
   "outputs": [],
   "source": [
    "# 1つ1つのスペクトルデータのパスを取得し、\n",
    "# jcampで辞書型に変換し、その後DataFrameに変換\n",
    "spectrum_list=[]\n",
    "for path in p_temp.iterdir():\n",
    "    spectrum_list.append(JCAMP_reader(path))\n",
    "spectrum_df=pd.DataFrame(spectrum_list)"
   ]
  },
  {
   "cell_type": "code",
   "execution_count": 7,
   "metadata": {},
   "outputs": [
    {
     "name": "stdout",
     "output_type": "stream",
     "text": [
      "0\n",
      "1\n",
      "2\n",
      "3\n",
      "4\n",
      "5\n",
      "6\n",
      "7\n",
      "8\n",
      "9\n",
      "10\n",
      "11\n",
      "12\n",
      "13\n",
      "14\n"
     ]
    }
   ],
   "source": [
    "# スペクトルデータからCAS noを取得して、\n",
    "# PubChemで検索し、データを取得。\n",
    "# 時間がかかるので注意\n",
    "# またあまりたくさん検索しすぎない。\n",
    "comp_num=len(spectrum_df)\n",
    "comp_spectrum_list=[]\n",
    "for i in range(comp_num):\n",
    "    # 1秒待つ\n",
    "    time.sleep(1)\n",
    "    print(i)\n",
    "    row=spectrum_df.iloc[i,:]\n",
    "    comp_list=pcp.get_compounds(row[\"cas registry no\"], 'name')\n",
    "    if len(comp_list)==0:\n",
    "        comp_spectrum_list.append(row)\n",
    "    # スペクトルデータとpubchemデータを連結\n",
    "    comp_spectrum_list.append(\n",
    "        pd.concat([row,comp_list[0].to_series()]))\n",
    "    "
   ]
  },
  {
   "cell_type": "code",
   "execution_count": 8,
   "metadata": {
    "scrolled": true
   },
   "outputs": [
    {
     "data": {
      "text/plain": [
       "0     [14.0, 15.0, 19.0, 25.0, 26.0, 27.0, 28.0, 29....\n",
       "1     [19.0, 20.0, 24.0, 25.0, 31.0, 41.0, 43.0, 50....\n",
       "2     [13.0, 14.0, 25.0, 26.0, 31.0, 32.0, 33.0, 34....\n",
       "3     [2.0, 12.0, 13.0, 14.0, 15.0, 16.0, 19.0, 20.0...\n",
       "4     [19.0, 20.0, 24.0, 25.0, 26.0, 27.0, 31.0, 32....\n",
       "5     [12.0, 13.0, 14.0, 15.0, 31.0, 32.0, 33.0, 34....\n",
       "6     [25.0, 26.0, 31.0, 33.0, 34.0, 44.0, 45.0, 46....\n",
       "7                  [12.0, 13.0, 14.0, 15.0, 16.0, 17.0]\n",
       "8     [2.0, 12.0, 13.0, 14.0, 15.0, 16.0, 24.0, 25.0...\n",
       "9     [12.0, 13.0, 14.0, 19.0, 20.0, 31.0, 32.0, 33....\n",
       "10    [2.0, 12.0, 13.0, 14.0, 15.0, 16.0, 19.0, 20.0...\n",
       "11    [12.0, 13.0, 19.0, 20.0, 31.0, 32.0, 39.0, 50....\n",
       "12     [19.0, 31.0, 32.0, 50.0, 51.0, 69.0, 70.0, 88.0]\n",
       "13    [12.0, 13.0, 19.0, 24.0, 31.0, 32.0, 43.0, 50....\n",
       "14    [25.0, 26.0, 29.0, 31.0, 32.0, 33.0, 34.0, 35....\n",
       "Name: x, dtype: object"
      ]
     },
     "execution_count": 8,
     "metadata": {},
     "output_type": "execute_result"
    }
   ],
   "source": [
    "# DataFrame化\n",
    "df=pd.DataFrame(comp_spectrum_list,index=list(range(comp_num)))\n",
    "df.x"
   ]
  },
  {
   "cell_type": "code",
   "execution_count": 14,
   "metadata": {},
   "outputs": [],
   "source": [
    "df.to_pickle(\"ProcessedData/nist_ms_pcp.pkl\")"
   ]
  },
  {
   "cell_type": "code",
   "execution_count": 33,
   "metadata": {
    "scrolled": false
   },
   "outputs": [],
   "source": [
    "\n",
    "comp_num=len(spectrum_df)\n",
    "comp_dict=[]\n",
    "for index, row in spectrum_df.iterrows():\n",
    "    cas_no=row['cas registry no']\n",
    "    comp_list=pcp.get_compounds(cas_no, 'name')\n",
    "    comp_dict.append(comp_list[0].to_series())"
   ]
  },
  {
   "cell_type": "code",
   "execution_count": 59,
   "metadata": {},
   "outputs": [],
   "source": [
    "comp_spectrum_list.append(spectrum_df.iloc[4,:])"
   ]
  },
  {
   "cell_type": "code",
   "execution_count": 64,
   "metadata": {},
   "outputs": [
    {
     "data": {
      "text/plain": [
       "pandas.core.series.Series"
      ]
     },
     "execution_count": 64,
     "metadata": {},
     "output_type": "execute_result"
    }
   ],
   "source": [
    "comp_spectrum_list[0]"
   ]
  },
  {
   "cell_type": "code",
   "execution_count": 66,
   "metadata": {},
   "outputs": [
    {
     "data": {
      "text/plain": [
       "[0, 1, 2, 3, 4]"
      ]
     },
     "execution_count": 66,
     "metadata": {},
     "output_type": "execute_result"
    }
   ],
   "source": [
    "list(range(5))"
   ]
  },
  {
   "cell_type": "code",
   "execution_count": 68,
   "metadata": {
    "scrolled": true
   },
   "outputs": [
    {
     "data": {
      "text/html": [
       "<div>\n",
       "<style scoped>\n",
       "    .dataframe tbody tr th:only-of-type {\n",
       "        vertical-align: middle;\n",
       "    }\n",
       "\n",
       "    .dataframe tbody tr th {\n",
       "        vertical-align: top;\n",
       "    }\n",
       "\n",
       "    .dataframe thead th {\n",
       "        text-align: right;\n",
       "    }\n",
       "</style>\n",
       "<table border=\"1\" class=\"dataframe\">\n",
       "  <thead>\n",
       "    <tr style=\"text-align: right;\">\n",
       "      <th></th>\n",
       "      <th>title</th>\n",
       "      <th>jcamp-dx</th>\n",
       "      <th>data type</th>\n",
       "      <th>owner</th>\n",
       "      <th>cas registry no</th>\n",
       "      <th>$nist mass spec no</th>\n",
       "      <th>molform</th>\n",
       "      <th>mw</th>\n",
       "      <th>$nist source</th>\n",
       "      <th>xunits</th>\n",
       "      <th>...</th>\n",
       "      <th>pharmacophore_features_3d</th>\n",
       "      <th>record</th>\n",
       "      <th>rotatable_bond_count</th>\n",
       "      <th>shape_fingerprint_3d</th>\n",
       "      <th>shape_selfoverlap_3d</th>\n",
       "      <th>tpsa</th>\n",
       "      <th>undefined_atom_stereo_count</th>\n",
       "      <th>undefined_bond_stereo_count</th>\n",
       "      <th>volume_3d</th>\n",
       "      <th>xlogp</th>\n",
       "    </tr>\n",
       "  </thead>\n",
       "  <tbody>\n",
       "    <tr>\n",
       "      <th>0</th>\n",
       "      <td>Ethane, fluoro-</td>\n",
       "      <td>4.24</td>\n",
       "      <td>MASS SPECTRUM</td>\n",
       "      <td>NIST Mass Spectrometry Data Center</td>\n",
       "      <td>353-36-6</td>\n",
       "      <td>18890</td>\n",
       "      <td>C2 H5 F</td>\n",
       "      <td>48</td>\n",
       "      <td>MSDC</td>\n",
       "      <td>M/Z</td>\n",
       "      <td>...</td>\n",
       "      <td>NaN</td>\n",
       "      <td>{'id': {'id': {'cid': 9620}}, 'atoms': {'aid':...</td>\n",
       "      <td>0.0</td>\n",
       "      <td>NaN</td>\n",
       "      <td>NaN</td>\n",
       "      <td>0.0</td>\n",
       "      <td>0.0</td>\n",
       "      <td>0.0</td>\n",
       "      <td>NaN</td>\n",
       "      <td>0.9</td>\n",
       "    </tr>\n",
       "    <tr>\n",
       "      <th>1</th>\n",
       "      <td>Ethane, pentafluoro-</td>\n",
       "      <td>4.24</td>\n",
       "      <td>MASS SPECTRUM</td>\n",
       "      <td>NIST Mass Spectrometry Data Center</td>\n",
       "      <td>354-33-6</td>\n",
       "      <td>142366</td>\n",
       "      <td>C2 H F5</td>\n",
       "      <td>120</td>\n",
       "      <td>MSDC</td>\n",
       "      <td>M/Z</td>\n",
       "      <td>...</td>\n",
       "      <td>NaN</td>\n",
       "      <td>{'id': {'id': {'cid': 9633}}, 'atoms': {'aid':...</td>\n",
       "      <td>0.0</td>\n",
       "      <td>NaN</td>\n",
       "      <td>NaN</td>\n",
       "      <td>0.0</td>\n",
       "      <td>0.0</td>\n",
       "      <td>0.0</td>\n",
       "      <td>NaN</td>\n",
       "      <td>2.2</td>\n",
       "    </tr>\n",
       "    <tr>\n",
       "      <th>2</th>\n",
       "      <td>Ethane, 1,1,2,2-tetrafluoro-</td>\n",
       "      <td>4.24</td>\n",
       "      <td>MASS SPECTRUM</td>\n",
       "      <td>NIST Mass Spectrometry Data Center</td>\n",
       "      <td>359-35-3</td>\n",
       "      <td>1233</td>\n",
       "      <td>C2 H2 F4</td>\n",
       "      <td>102</td>\n",
       "      <td>MSDC</td>\n",
       "      <td>M/Z</td>\n",
       "      <td>...</td>\n",
       "      <td>NaN</td>\n",
       "      <td>{'id': {'id': {'cid': 9667}}, 'atoms': {'aid':...</td>\n",
       "      <td>1.0</td>\n",
       "      <td>NaN</td>\n",
       "      <td>NaN</td>\n",
       "      <td>0.0</td>\n",
       "      <td>0.0</td>\n",
       "      <td>0.0</td>\n",
       "      <td>NaN</td>\n",
       "      <td>1.9</td>\n",
       "    </tr>\n",
       "    <tr>\n",
       "      <th>3</th>\n",
       "      <td>1,1,2-Trifluoroethane</td>\n",
       "      <td>4.24</td>\n",
       "      <td>MASS SPECTRUM</td>\n",
       "      <td>NIST Mass Spectrometry Data Center</td>\n",
       "      <td>430-66-0</td>\n",
       "      <td>142370</td>\n",
       "      <td>C2 H3 F3</td>\n",
       "      <td>84</td>\n",
       "      <td>MSDC</td>\n",
       "      <td>M/Z</td>\n",
       "      <td>...</td>\n",
       "      <td>NaN</td>\n",
       "      <td>NaN</td>\n",
       "      <td>NaN</td>\n",
       "      <td>NaN</td>\n",
       "      <td>NaN</td>\n",
       "      <td>NaN</td>\n",
       "      <td>NaN</td>\n",
       "      <td>NaN</td>\n",
       "      <td>NaN</td>\n",
       "      <td>NaN</td>\n",
       "    </tr>\n",
       "  </tbody>\n",
       "</table>\n",
       "<p>4 rows × 71 columns</p>\n",
       "</div>"
      ],
      "text/plain": [
       "                          title  jcamp-dx      data type  \\\n",
       "0               Ethane, fluoro-      4.24  MASS SPECTRUM   \n",
       "1          Ethane, pentafluoro-      4.24  MASS SPECTRUM   \n",
       "2  Ethane, 1,1,2,2-tetrafluoro-      4.24  MASS SPECTRUM   \n",
       "3         1,1,2-Trifluoroethane      4.24  MASS SPECTRUM   \n",
       "\n",
       "                                owner cas registry no  $nist mass spec no  \\\n",
       "0  NIST Mass Spectrometry Data Center        353-36-6               18890   \n",
       "1  NIST Mass Spectrometry Data Center        354-33-6              142366   \n",
       "2  NIST Mass Spectrometry Data Center        359-35-3                1233   \n",
       "3  NIST Mass Spectrometry Data Center        430-66-0              142370   \n",
       "\n",
       "    molform   mw $nist source xunits  ... pharmacophore_features_3d  \\\n",
       "0   C2 H5 F   48         MSDC    M/Z  ...                       NaN   \n",
       "1   C2 H F5  120         MSDC    M/Z  ...                       NaN   \n",
       "2  C2 H2 F4  102         MSDC    M/Z  ...                       NaN   \n",
       "3  C2 H3 F3   84         MSDC    M/Z  ...                       NaN   \n",
       "\n",
       "                                              record  rotatable_bond_count  \\\n",
       "0  {'id': {'id': {'cid': 9620}}, 'atoms': {'aid':...                   0.0   \n",
       "1  {'id': {'id': {'cid': 9633}}, 'atoms': {'aid':...                   0.0   \n",
       "2  {'id': {'id': {'cid': 9667}}, 'atoms': {'aid':...                   1.0   \n",
       "3                                                NaN                   NaN   \n",
       "\n",
       "   shape_fingerprint_3d  shape_selfoverlap_3d  tpsa  \\\n",
       "0                   NaN                   NaN   0.0   \n",
       "1                   NaN                   NaN   0.0   \n",
       "2                   NaN                   NaN   0.0   \n",
       "3                   NaN                   NaN   NaN   \n",
       "\n",
       "   undefined_atom_stereo_count  undefined_bond_stereo_count  volume_3d  xlogp  \n",
       "0                          0.0                          0.0        NaN    0.9  \n",
       "1                          0.0                          0.0        NaN    2.2  \n",
       "2                          0.0                          0.0        NaN    1.9  \n",
       "3                          NaN                          NaN        NaN    NaN  \n",
       "\n",
       "[4 rows x 71 columns]"
      ]
     },
     "execution_count": 68,
     "metadata": {},
     "output_type": "execute_result"
    }
   ],
   "source": []
  },
  {
   "cell_type": "code",
   "execution_count": 69,
   "metadata": {},
   "outputs": [
    {
     "data": {
      "text/plain": [
       "Index(['title', 'jcamp-dx', 'data type', 'owner', 'cas registry no',\n",
       "       '$nist mass spec no', 'molform', 'mw', '$nist source', 'xunits',\n",
       "       'yunits', 'xfactor', 'yfactor', 'firstx', 'lastx', 'firsty', 'maxx',\n",
       "       'minx', 'maxy', 'miny', 'npoints', 'peak table', 'end', 'x', 'y',\n",
       "       'filename', 'origin', 'atom_stereo_count', 'atoms', 'bond_stereo_count',\n",
       "       'bonds', 'cactvs_fingerprint', 'canonical_smiles', 'charge', 'cid',\n",
       "       'complexity', 'conformer_id_3d', 'conformer_rmsd_3d', 'coordinate_type',\n",
       "       'covalent_unit_count', 'defined_atom_stereo_count',\n",
       "       'defined_bond_stereo_count', 'effective_rotor_count_3d', 'elements',\n",
       "       'exact_mass', 'feature_selfoverlap_3d', 'fingerprint',\n",
       "       'h_bond_acceptor_count', 'h_bond_donor_count', 'heavy_atom_count',\n",
       "       'inchi', 'inchikey', 'isomeric_smiles', 'isotope_atom_count',\n",
       "       'iupac_name', 'mmff94_energy_3d', 'mmff94_partial_charges_3d',\n",
       "       'molecular_formula', 'molecular_weight', 'monoisotopic_mass',\n",
       "       'multipoles_3d', 'pharmacophore_features_3d', 'record',\n",
       "       'rotatable_bond_count', 'shape_fingerprint_3d', 'shape_selfoverlap_3d',\n",
       "       'tpsa', 'undefined_atom_stereo_count', 'undefined_bond_stereo_count',\n",
       "       'volume_3d', 'xlogp'],\n",
       "      dtype='object')"
      ]
     },
     "execution_count": 69,
     "metadata": {},
     "output_type": "execute_result"
    }
   ],
   "source": [
    "df.columns"
   ]
  },
  {
   "cell_type": "code",
   "execution_count": 53,
   "metadata": {},
   "outputs": [
    {
     "data": {
      "text/plain": [
       "title                                                   Ethane, fluoro-\n",
       "jcamp-dx                                                           4.24\n",
       "data type                                                 MASS SPECTRUM\n",
       "owner                                NIST Mass Spectrometry Data Center\n",
       "cas registry no                                                353-36-6\n",
       "$nist mass spec no                                                18890\n",
       "molform                                                         C2 H5 F\n",
       "mw                                                                   48\n",
       "$nist source                                                       MSDC\n",
       "xunits                                                              M/Z\n",
       "yunits                                               RELATIVE INTENSITY\n",
       "xfactor                                                               1\n",
       "yfactor                                                               1\n",
       "firstx                                                               14\n",
       "lastx                                                                49\n",
       "firsty                                                               60\n",
       "maxx                                                                 49\n",
       "minx                                                                 14\n",
       "maxy                                                               9999\n",
       "miny                                                                 10\n",
       "npoints                                                              19\n",
       "peak table                                                     (XY..XY)\n",
       "end                                                                    \n",
       "x                     [14.0, 15.0, 19.0, 25.0, 26.0, 27.0, 28.0, 29....\n",
       "y                     [60.0, 60.0, 10.0, 130.0, 480.0, 1772.0, 681.0...\n",
       "filename                      data/nist-mass-spectrum/353-36-6-Mass.jdx\n",
       "origin                                                              NaN\n",
       "Name: 0, dtype: object"
      ]
     },
     "execution_count": 53,
     "metadata": {},
     "output_type": "execute_result"
    }
   ],
   "source": []
  },
  {
   "cell_type": "code",
   "execution_count": 44,
   "metadata": {},
   "outputs": [],
   "source": [
    "comp_list=pcp.get_compounds('faoijfeoiwaofjewoi', 'name')"
   ]
  },
  {
   "cell_type": "code",
   "execution_count": 50,
   "metadata": {},
   "outputs": [
    {
     "name": "stdout",
     "output_type": "stream",
     "text": [
      "yes\n"
     ]
    }
   ],
   "source": [
    "if len(comp_list)==0:\n",
    "    print('yes')"
   ]
  },
  {
   "cell_type": "code",
   "execution_count": 42,
   "metadata": {},
   "outputs": [
    {
     "data": {
      "text/plain": [
       "title                                                  Norflurane\n",
       "jcamp-dx                                                     4.24\n",
       "data type                                           MASS SPECTRUM\n",
       "owner                          NIST Mass Spectrometry Data Center\n",
       "cas registry no                                          811-97-2\n",
       "                                              ...                \n",
       "tpsa                                                            0\n",
       "undefined_atom_stereo_count                                     0\n",
       "undefined_bond_stereo_count                                     0\n",
       "volume_3d                                                    None\n",
       "xlogp                                                         1.7\n",
       "Length: 71, dtype: object"
      ]
     },
     "execution_count": 42,
     "metadata": {},
     "output_type": "execute_result"
    }
   ],
   "source": [
    "pd.concat([row,comp_list[0].to_series()])"
   ]
  },
  {
   "cell_type": "code",
   "execution_count": 38,
   "metadata": {},
   "outputs": [
    {
     "data": {
      "text/plain": [
       "title                                                        Norflurane\n",
       "jcamp-dx                                                           4.24\n",
       "data type                                                 MASS SPECTRUM\n",
       "owner                                NIST Mass Spectrometry Data Center\n",
       "cas registry no                                                811-97-2\n",
       "$nist mass spec no                                               298494\n",
       "molform                                                        C2 H2 F4\n",
       "mw                                                                  102\n",
       "$nist source                                                       MSDC\n",
       "xunits                                                              M/Z\n",
       "yunits                                               RELATIVE INTENSITY\n",
       "xfactor                                                               1\n",
       "yfactor                                                               1\n",
       "firstx                                                               25\n",
       "lastx                                                               103\n",
       "firsty                                                               30\n",
       "maxx                                                                103\n",
       "minx                                                                 25\n",
       "maxy                                                               9999\n",
       "miny                                                                 10\n",
       "npoints                                                              35\n",
       "peak table                                                     (XY..XY)\n",
       "end                                                                    \n",
       "x                     [25.0, 26.0, 29.0, 31.0, 32.0, 33.0, 34.0, 35....\n",
       "y                     [30.0, 30.0, 10.0, 1371.0, 250.0, 9999.0, 60.0...\n",
       "filename                      data/nist-mass-spectrum/811-97-2-Mass.jdx\n",
       "origin                       James Little,Eastman Chem.Co.,Kingsport,TN\n",
       "Name: 14, dtype: object"
      ]
     },
     "execution_count": 38,
     "metadata": {},
     "output_type": "execute_result"
    }
   ],
   "source": [
    "row"
   ]
  },
  {
   "cell_type": "code",
   "execution_count": 39,
   "metadata": {},
   "outputs": [
    {
     "data": {
      "text/plain": [
       "atom_stereo_count                                                              0\n",
       "atoms                          [{'aid': 1, 'number': 9, 'element': 'F', 'x': ...\n",
       "bond_stereo_count                                                              0\n",
       "bonds                          [{'aid1': 1, 'aid2': 5, 'order': 1}, {'aid1': ...\n",
       "cactvs_fingerprint             0000000001000000000000011100000000000000000000...\n",
       "canonical_smiles                                                    C(C(F)(F)F)F\n",
       "charge                                                                         0\n",
       "cid                                                                        13129\n",
       "complexity                                                                  35.3\n",
       "conformer_id_3d                                                             None\n",
       "conformer_rmsd_3d                                                           None\n",
       "coordinate_type                                                               2d\n",
       "covalent_unit_count                                                            1\n",
       "defined_atom_stereo_count                                                      0\n",
       "defined_bond_stereo_count                                                      0\n",
       "effective_rotor_count_3d                                                    None\n",
       "elements                                                [F, F, F, F, C, C, H, H]\n",
       "exact_mass                                                            102.009263\n",
       "feature_selfoverlap_3d                                                      None\n",
       "fingerprint                    00000371004001C0000000000000000000000000000000...\n",
       "h_bond_acceptor_count                                                          4\n",
       "h_bond_donor_count                                                             0\n",
       "heavy_atom_count                                                               6\n",
       "inchi                                          InChI=1S/C2H2F4/c3-1-2(4,5)6/h1H2\n",
       "inchikey                                             LVGUZGTVOIAKKC-UHFFFAOYSA-N\n",
       "isomeric_smiles                                                     C(C(F)(F)F)F\n",
       "isotope_atom_count                                                             0\n",
       "iupac_name                                             1,1,1,2-tetrafluoroethane\n",
       "mmff94_energy_3d                                                            None\n",
       "mmff94_partial_charges_3d                                                   None\n",
       "molecular_formula                                                         C2H2F4\n",
       "molecular_weight                                                          102.03\n",
       "monoisotopic_mass                                                     102.009263\n",
       "multipoles_3d                                                               None\n",
       "pharmacophore_features_3d                                                   None\n",
       "record                         {'id': {'id': {'cid': 13129}}, 'atoms': {'aid'...\n",
       "rotatable_bond_count                                                           0\n",
       "shape_fingerprint_3d                                                        None\n",
       "shape_selfoverlap_3d                                                        None\n",
       "tpsa                                                                           0\n",
       "undefined_atom_stereo_count                                                    0\n",
       "undefined_bond_stereo_count                                                    0\n",
       "volume_3d                                                                   None\n",
       "xlogp                                                                        1.7\n",
       "dtype: object"
      ]
     },
     "execution_count": 39,
     "metadata": {},
     "output_type": "execute_result"
    }
   ],
   "source": [
    "comp_list[0].to_series()"
   ]
  },
  {
   "cell_type": "code",
   "execution_count": 27,
   "metadata": {},
   "outputs": [],
   "source": [
    "comp_list=pcp.get_compounds('50-78-2', 'name')"
   ]
  },
  {
   "cell_type": "code",
   "execution_count": 32,
   "metadata": {},
   "outputs": [
    {
     "data": {
      "text/plain": [
       "atom_stereo_count                                                              0\n",
       "atoms                          [{'aid': 1, 'number': 8, 'element': 'O', 'x': ...\n",
       "bond_stereo_count                                                              0\n",
       "bonds                          [{'aid1': 1, 'aid2': 5, 'order': 1}, {'aid1': ...\n",
       "cactvs_fingerprint             1100000001110000001110000000000000000000000000...\n",
       "canonical_smiles                                        CC(=O)OC1=CC=CC=C1C(=O)O\n",
       "charge                                                                         0\n",
       "cid                                                                         2244\n",
       "complexity                                                                   212\n",
       "conformer_id_3d                                                             None\n",
       "conformer_rmsd_3d                                                           None\n",
       "coordinate_type                                                               2d\n",
       "covalent_unit_count                                                            1\n",
       "defined_atom_stereo_count                                                      0\n",
       "defined_bond_stereo_count                                                      0\n",
       "effective_rotor_count_3d                                                    None\n",
       "elements                       [O, O, O, O, C, C, C, C, C, C, C, C, C, H, H, ...\n",
       "exact_mass                                                            180.042259\n",
       "feature_selfoverlap_3d                                                      None\n",
       "fingerprint                    00000371C0703800000000000000000000000000000000...\n",
       "h_bond_acceptor_count                                                          4\n",
       "h_bond_donor_count                                                             1\n",
       "heavy_atom_count                                                              13\n",
       "inchi                          InChI=1S/C9H8O4/c1-6(10)13-8-5-3-2-4-7(8)9(11)...\n",
       "inchikey                                             BSYNRYMUTXBXSQ-UHFFFAOYSA-N\n",
       "isomeric_smiles                                         CC(=O)OC1=CC=CC=C1C(=O)O\n",
       "isotope_atom_count                                                             0\n",
       "iupac_name                                               2-acetyloxybenzoic acid\n",
       "mmff94_energy_3d                                                            None\n",
       "mmff94_partial_charges_3d                                                   None\n",
       "molecular_formula                                                         C9H8O4\n",
       "molecular_weight                                                          180.16\n",
       "monoisotopic_mass                                                     180.042259\n",
       "multipoles_3d                                                               None\n",
       "pharmacophore_features_3d                                                   None\n",
       "record                         {'id': {'id': {'cid': 2244}}, 'atoms': {'aid':...\n",
       "rotatable_bond_count                                                           3\n",
       "shape_fingerprint_3d                                                        None\n",
       "shape_selfoverlap_3d                                                        None\n",
       "tpsa                                                                        63.6\n",
       "undefined_atom_stereo_count                                                    0\n",
       "undefined_bond_stereo_count                                                    0\n",
       "volume_3d                                                                   None\n",
       "xlogp                                                                        1.2\n",
       "dtype: object"
      ]
     },
     "execution_count": 32,
     "metadata": {},
     "output_type": "execute_result"
    }
   ],
   "source": [
    "comp_list[0].to_series()"
   ]
  },
  {
   "cell_type": "code",
   "execution_count": 25,
   "metadata": {
    "scrolled": true
   },
   "outputs": [
    {
     "data": {
      "text/plain": [
       "['353-36-6',\n",
       " '354-33-6',\n",
       " '359-35-3',\n",
       " '420-46-2',\n",
       " '430-66-0',\n",
       " '593-53-3',\n",
       " '624-72-6',\n",
       " '74-82-8',\n",
       " '74-84-0',\n",
       " '75-10-5',\n",
       " '75-37-6',\n",
       " '75-46-7',\n",
       " '75-73-0',\n",
       " '76-16-4',\n",
       " '811-97-2']"
      ]
     },
     "execution_count": 25,
     "metadata": {},
     "output_type": "execute_result"
    }
   ],
   "source": [
    "[comp_dict]"
   ]
  }
 ],
 "metadata": {
  "kernelspec": {
   "display_name": "Python 3",
   "language": "python",
   "name": "python3"
  },
  "language_info": {
   "codemirror_mode": {
    "name": "ipython",
    "version": 3
   },
   "file_extension": ".py",
   "mimetype": "text/x-python",
   "name": "python",
   "nbconvert_exporter": "python",
   "pygments_lexer": "ipython3",
   "version": "3.8.6"
  }
 },
 "nbformat": 4,
 "nbformat_minor": 5
}
