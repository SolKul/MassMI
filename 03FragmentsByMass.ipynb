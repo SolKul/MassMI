{
 "cells": [
  {
   "cell_type": "code",
   "execution_count": 1,
   "metadata": {},
   "outputs": [],
   "source": [
    "import pandas as pd\n",
    "import numpy as np\n",
    "import matplotlib.pyplot as plt\n",
    "from rdkit import Chem\n",
    "from rdkit.Chem import Descriptors\n",
    "from rdkit.Chem import AllChem, Draw\n",
    "from PIL import Image\n",
    "\n",
    "from fragenum import fragenum"
   ]
  },
  {
   "cell_type": "code",
   "execution_count": 2,
   "metadata": {},
   "outputs": [],
   "source": [
    "# データを読み込む\n",
    "ms_pcp_interp=pd.read_pickle(\"ProcessedData/ms_pcp_interp.pkl\")"
   ]
  },
  {
   "cell_type": "code",
   "execution_count": 22,
   "metadata": {
    "scrolled": false
   },
   "outputs": [
    {
     "name": "stdout",
     "output_type": "stream",
     "text": [
      "iupac_name: 1,1,1-trifluoroethane\n",
      "molecular_formula: C2H3F3\n",
      "weight: 84.03999999999999\n",
      "SMILES: [H]C([H])([H])C(F)(F)F\n"
     ]
    },
    {
     "data": {
      "image/png": "[encoded data removed]",
      "text/plain": [
       "<rdkit.Chem.rdchem.Mol at 0x7fd5846d9260>"
      ]
     },
     "metadata": {},
     "output_type": "display_data"
    },
    {
     "name": "stdout",
     "output_type": "stream",
     "text": [
      "[ 2. 12. 13. 14. 15. 16. 19. 20. 24. 25. 26. 27. 31. 32. 33. 34. 43. 44.\n",
      " 45. 46. 50. 51. 52. 62. 63. 64. 65. 66. 69. 70. 81. 82. 83. 84. 85.]\n"
     ]
    },
    {
     "data": {
      "image/png": "[encoded data removed]",
      "text/plain": [
       "<Figure size 648x432 with 1 Axes>"
      ]
     },
     "metadata": {
      "needs_background": "light"
     },
     "output_type": "display_data"
    }
   ],
   "source": [
    "i=3\n",
    "# 1つのデータについてみてみる。\n",
    "a_ms_data=ms_pcp_interp.iloc[i,:]\n",
    "print(\"iupac_name:\",a_ms_data[\"iupac_name\"])\n",
    "print(\"molecular_formula:\",a_ms_data[\"molecular_formula\"])\n",
    "mol=Chem.MolFromSmiles(a_ms_data[\"canonical_smiles\"])\n",
    "mol=Chem.AddHs(mol)\n",
    "print(\"weight:\",Descriptors.MolWt(mol))\n",
    "smiles=Chem.MolToSmiles(mol)\n",
    "print(\"SMILES:\",smiles)\n",
    "\n",
    "display(mol)\n",
    "\n",
    "\n",
    "plt.figure(figsize=(9,6))\n",
    "m_z=a_ms_data[\"x\"]\n",
    "intens=a_ms_data[\"y\"]\n",
    "spectrum_num=len(m_z)\n",
    "# 真のデータを図示\n",
    "for j in range(spectrum_num):\n",
    "    plt.plot([m_z[j],m_z[j]],[0,intens[j]],color='C0',alpha=0.7, lw=3)\n",
    "    plt.text(m_z[j], intens[j], m_z[j], ha='center', va='bottom',size=10)\n",
    "print(m_z)"
   ]
  },
  {
   "cell_type": "code",
   "execution_count": 23,
   "metadata": {},
   "outputs": [
    {
     "name": "stderr",
     "output_type": "stream",
     "text": [
      "RDKit WARNING: [10:59:30] WARNING: not removing hydrogen atom without neighbors\n",
      "RDKit WARNING: [10:59:30] WARNING: not removing hydrogen atom without neighbors\n",
      "RDKit WARNING: [10:59:30] WARNING: not removing hydrogen atom without neighbors\n",
      "RDKit WARNING: [10:59:30] WARNING: not removing hydrogen atom without neighbors\n",
      "RDKit WARNING: [10:59:30] WARNING: not removing hydrogen atom without neighbors\n",
      "RDKit WARNING: [10:59:30] WARNING: not removing hydrogen atom without neighbors\n",
      "RDKit WARNING: [10:59:30] WARNING: not removing hydrogen atom without neighbors\n",
      "RDKit WARNING: [10:59:30] WARNING: not removing hydrogen atom without neighbors\n",
      "RDKit WARNING: [10:59:30] WARNING: not removing hydrogen atom without neighbors\n",
      "RDKit WARNING: [10:59:30] WARNING: not removing hydrogen atom without neighbors\n",
      "RDKit WARNING: [10:59:30] WARNING: not removing hydrogen atom without neighbors\n",
      "RDKit WARNING: [10:59:30] WARNING: not removing hydrogen atom without neighbors\n",
      "RDKit WARNING: [10:59:30] WARNING: not removing hydrogen atom without neighbors\n",
      "RDKit WARNING: [10:59:30] WARNING: not removing hydrogen atom without neighbors\n",
      "RDKit WARNING: [10:59:30] WARNING: not removing hydrogen atom without neighbors\n",
      "RDKit WARNING: [10:59:30] WARNING: not removing hydrogen atom without neighbors\n",
      "RDKit WARNING: [10:59:30] WARNING: not removing hydrogen atom without neighbors\n",
      "RDKit WARNING: [10:59:30] WARNING: not removing hydrogen atom without neighbors\n",
      "RDKit WARNING: [10:59:30] WARNING: not removing hydrogen atom without neighbors\n",
      "RDKit WARNING: [10:59:30] WARNING: not removing hydrogen atom without neighbors\n",
      "RDKit WARNING: [10:59:30] WARNING: not removing hydrogen atom without neighbors\n",
      "RDKit WARNING: [10:59:30] WARNING: not removing hydrogen atom without neighbors\n",
      "RDKit WARNING: [10:59:30] WARNING: not removing hydrogen atom without neighbors\n",
      "RDKit WARNING: [10:59:30] WARNING: not removing hydrogen atom without neighbors\n",
      "RDKit WARNING: [10:59:30] WARNING: not removing hydrogen atom without neighbors\n",
      "RDKit WARNING: [10:59:30] WARNING: not removing hydrogen atom without neighbors\n",
      "RDKit WARNING: [10:59:30] WARNING: not removing hydrogen atom without neighbors\n",
      "RDKit WARNING: [10:59:30] WARNING: not removing hydrogen atom without neighbors\n",
      "RDKit WARNING: [10:59:30] WARNING: not removing hydrogen atom without neighbors\n",
      "RDKit WARNING: [10:59:30] WARNING: not removing hydrogen atom without neighbors\n",
      "RDKit WARNING: [10:59:30] WARNING: not removing hydrogen atom without neighbors\n",
      "RDKit WARNING: [10:59:30] WARNING: not removing hydrogen atom without neighbors\n",
      "RDKit WARNING: [10:59:30] WARNING: not removing hydrogen atom without neighbors\n",
      "RDKit WARNING: [10:59:30] WARNING: not removing hydrogen atom without neighbors\n",
      "RDKit WARNING: [10:59:30] WARNING: not removing hydrogen atom without neighbors\n",
      "RDKit WARNING: [10:59:30] WARNING: not removing hydrogen atom without neighbors\n",
      "RDKit WARNING: [10:59:30] WARNING: not removing hydrogen atom without neighbors\n",
      "RDKit WARNING: [10:59:30] WARNING: not removing hydrogen atom without neighbors\n",
      "RDKit WARNING: [10:59:30] WARNING: not removing hydrogen atom without neighbors\n",
      "RDKit WARNING: [10:59:30] WARNING: not removing hydrogen atom without neighbors\n",
      "RDKit WARNING: [10:59:30] WARNING: not removing hydrogen atom without neighbors\n",
      "RDKit WARNING: [10:59:30] WARNING: not removing hydrogen atom without neighbors\n",
      "RDKit WARNING: [10:59:30] WARNING: not removing hydrogen atom without neighbors\n",
      "RDKit WARNING: [10:59:30] WARNING: not removing hydrogen atom without neighbors\n",
      "RDKit WARNING: [10:59:30] WARNING: not removing hydrogen atom without neighbors\n",
      "RDKit WARNING: [10:59:30] WARNING: not removing hydrogen atom without neighbors\n",
      "RDKit WARNING: [10:59:30] WARNING: not removing hydrogen atom without neighbors\n",
      "RDKit WARNING: [10:59:30] WARNING: not removing hydrogen atom without neighbors\n",
      "RDKit WARNING: [10:59:30] WARNING: not removing hydrogen atom without neighbors\n",
      "RDKit WARNING: [10:59:30] WARNING: not removing hydrogen atom without neighbors\n",
      "RDKit WARNING: [10:59:30] WARNING: not removing hydrogen atom without neighbors\n",
      "RDKit WARNING: [10:59:30] WARNING: not removing hydrogen atom without neighbors\n",
      "RDKit WARNING: [10:59:30] WARNING: not removing hydrogen atom without neighbors\n",
      "RDKit WARNING: [10:59:30] WARNING: not removing hydrogen atom without neighbors\n",
      "RDKit WARNING: [10:59:30] WARNING: not removing hydrogen atom without neighbors\n",
      "RDKit WARNING: [10:59:30] WARNING: not removing hydrogen atom without neighbors\n",
      "RDKit WARNING: [10:59:30] WARNING: not removing hydrogen atom without neighbors\n",
      "RDKit WARNING: [10:59:30] WARNING: not removing hydrogen atom without neighbors\n",
      "RDKit WARNING: [10:59:30] WARNING: not removing hydrogen atom without neighbors\n",
      "RDKit WARNING: [10:59:30] WARNING: not removing hydrogen atom without neighbors\n",
      "RDKit WARNING: [10:59:30] WARNING: not removing hydrogen atom without neighbors\n",
      "RDKit WARNING: [10:59:30] WARNING: not removing hydrogen atom without neighbors\n",
      "RDKit WARNING: [10:59:30] WARNING: not removing hydrogen atom without neighbors\n",
      "RDKit WARNING: [10:59:30] WARNING: not removing hydrogen atom without neighbors\n",
      "RDKit WARNING: [10:59:30] WARNING: not removing hydrogen atom without neighbors\n",
      "RDKit WARNING: [10:59:30] WARNING: not removing hydrogen atom without neighbors\n",
      "RDKit WARNING: [10:59:30] WARNING: not removing hydrogen atom without neighbors\n",
      "RDKit WARNING: [10:59:30] WARNING: not removing hydrogen atom without neighbors\n",
      "RDKit WARNING: [10:59:30] WARNING: not removing hydrogen atom without neighbors\n",
      "RDKit WARNING: [10:59:30] WARNING: not removing hydrogen atom without neighbors\n",
      "RDKit WARNING: [10:59:30] WARNING: not removing hydrogen atom without neighbors\n",
      "RDKit WARNING: [10:59:30] WARNING: not removing hydrogen atom without neighbors\n",
      "RDKit WARNING: [10:59:30] WARNING: not removing hydrogen atom without neighbors\n",
      "RDKit WARNING: [10:59:30] WARNING: not removing hydrogen atom without neighbors\n",
      "RDKit WARNING: [10:59:30] WARNING: not removing hydrogen atom without neighbors\n",
      "RDKit WARNING: [10:59:30] WARNING: not removing hydrogen atom without neighbors\n",
      "RDKit WARNING: [10:59:30] WARNING: not removing hydrogen atom without neighbors\n",
      "RDKit WARNING: [10:59:30] WARNING: not removing hydrogen atom without neighbors\n",
      "RDKit WARNING: [10:59:30] WARNING: not removing hydrogen atom without neighbors\n",
      "RDKit WARNING: [10:59:30] WARNING: not removing hydrogen atom without neighbors\n",
      "RDKit WARNING: [10:59:30] WARNING: not removing hydrogen atom without neighbors\n",
      "RDKit WARNING: [10:59:30] WARNING: not removing hydrogen atom without neighbors\n",
      "RDKit WARNING: [10:59:30] WARNING: not removing hydrogen atom without neighbors\n",
      "RDKit WARNING: [10:59:30] WARNING: not removing hydrogen atom without neighbors\n",
      "RDKit WARNING: [10:59:30] WARNING: not removing hydrogen atom without neighbors\n",
      "RDKit WARNING: [10:59:30] WARNING: not removing hydrogen atom without neighbors\n",
      "RDKit WARNING: [10:59:30] WARNING: not removing hydrogen atom without neighbors\n",
      "RDKit WARNING: [10:59:30] WARNING: not removing hydrogen atom without neighbors\n",
      "RDKit WARNING: [10:59:30] WARNING: not removing hydrogen atom without neighbors\n",
      "RDKit WARNING: [10:59:30] WARNING: not removing hydrogen atom without neighbors\n",
      "RDKit WARNING: [10:59:30] WARNING: not removing hydrogen atom without neighbors\n",
      "RDKit WARNING: [10:59:30] WARNING: not removing hydrogen atom without neighbors\n",
      "RDKit WARNING: [10:59:30] WARNING: not removing hydrogen atom without neighbors\n",
      "RDKit WARNING: [10:59:30] WARNING: not removing hydrogen atom without neighbors\n",
      "RDKit WARNING: [10:59:30] WARNING: not removing hydrogen atom without neighbors\n",
      "RDKit WARNING: [10:59:30] WARNING: not removing hydrogen atom without neighbors\n",
      "RDKit WARNING: [10:59:30] WARNING: not removing hydrogen atom without neighbors\n",
      "RDKit WARNING: [10:59:30] WARNING: not removing hydrogen atom without neighbors\n",
      "RDKit WARNING: [10:59:30] WARNING: not removing hydrogen atom without neighbors\n",
      "RDKit WARNING: [10:59:30] WARNING: not removing hydrogen atom without neighbors\n",
      "RDKit WARNING: [10:59:30] WARNING: not removing hydrogen atom without neighbors\n",
      "RDKit WARNING: [10:59:30] WARNING: not removing hydrogen atom without neighbors\n",
      "RDKit WARNING: [10:59:30] WARNING: not removing hydrogen atom without neighbors\n",
      "RDKit WARNING: [10:59:30] WARNING: not removing hydrogen atom without neighbors\n",
      "RDKit WARNING: [10:59:30] WARNING: not removing hydrogen atom without neighbors\n",
      "RDKit WARNING: [10:59:30] WARNING: not removing hydrogen atom without neighbors\n",
      "RDKit WARNING: [10:59:30] WARNING: not removing hydrogen atom without neighbors\n",
      "RDKit WARNING: [10:59:30] WARNING: not removing hydrogen atom without neighbors\n",
      "RDKit WARNING: [10:59:30] WARNING: not removing hydrogen atom without neighbors\n",
      "RDKit WARNING: [10:59:30] WARNING: not removing hydrogen atom without neighbors\n",
      "RDKit WARNING: [10:59:30] WARNING: not removing hydrogen atom without neighbors\n",
      "RDKit WARNING: [10:59:30] WARNING: not removing hydrogen atom without neighbors\n",
      "RDKit WARNING: [10:59:30] WARNING: not removing hydrogen atom without neighbors\n",
      "RDKit WARNING: [10:59:30] WARNING: not removing hydrogen atom without neighbors\n",
      "RDKit WARNING: [10:59:30] WARNING: not removing hydrogen atom without neighbors\n",
      "RDKit WARNING: [10:59:30] WARNING: not removing hydrogen atom without neighbors\n",
      "RDKit WARNING: [10:59:30] WARNING: not removing hydrogen atom without neighbors\n",
      "RDKit WARNING: [10:59:30] WARNING: not removing hydrogen atom without neighbors\n",
      "RDKit WARNING: [10:59:30] WARNING: not removing hydrogen atom without neighbors\n",
      "RDKit WARNING: [10:59:30] WARNING: not removing hydrogen atom without neighbors\n",
      "RDKit WARNING: [10:59:30] WARNING: not removing hydrogen atom without neighbors\n",
      "RDKit WARNING: [10:59:30] WARNING: not removing hydrogen atom without neighbors\n",
      "RDKit WARNING: [10:59:30] WARNING: not removing hydrogen atom without neighbors\n",
      "RDKit WARNING: [10:59:30] WARNING: not removing hydrogen atom without neighbors\n",
      "RDKit WARNING: [10:59:30] WARNING: not removing hydrogen atom without neighbors\n",
      "RDKit WARNING: [10:59:30] WARNING: not removing hydrogen atom without neighbors\n",
      "RDKit WARNING: [10:59:30] WARNING: not removing hydrogen atom without neighbors\n",
      "RDKit WARNING: [10:59:30] WARNING: not removing hydrogen atom without neighbors\n",
      "RDKit WARNING: [10:59:30] WARNING: not removing hydrogen atom without neighbors\n",
      "RDKit WARNING: [10:59:30] WARNING: not removing hydrogen atom without neighbors\n",
      "RDKit WARNING: [10:59:30] WARNING: not removing hydrogen atom without neighbors\n",
      "RDKit WARNING: [10:59:30] WARNING: not removing hydrogen atom without neighbors\n",
      "RDKit WARNING: [10:59:30] WARNING: not removing hydrogen atom without neighbors\n",
      "RDKit WARNING: [10:59:30] WARNING: not removing hydrogen atom without neighbors\n",
      "RDKit WARNING: [10:59:30] WARNING: not removing hydrogen atom without neighbors\n",
      "RDKit WARNING: [10:59:30] WARNING: not removing hydrogen atom without neighbors\n",
      "RDKit WARNING: [10:59:30] WARNING: not removing hydrogen atom without neighbors\n",
      "RDKit WARNING: [10:59:30] WARNING: not removing hydrogen atom without neighbors\n",
      "RDKit WARNING: [10:59:30] WARNING: not removing hydrogen atom without neighbors\n",
      "RDKit WARNING: [10:59:30] WARNING: not removing hydrogen atom without neighbors\n",
      "RDKit WARNING: [10:59:30] WARNING: not removing hydrogen atom without neighbors\n",
      "RDKit WARNING: [10:59:30] WARNING: not removing hydrogen atom without neighbors\n",
      "RDKit WARNING: [10:59:30] WARNING: not removing hydrogen atom without neighbors\n",
      "RDKit WARNING: [10:59:30] WARNING: not removing hydrogen atom without neighbors\n",
      "RDKit WARNING: [10:59:30] WARNING: not removing hydrogen atom without neighbors\n",
      "RDKit WARNING: [10:59:30] WARNING: not removing hydrogen atom without neighbors\n",
      "RDKit WARNING: [10:59:30] WARNING: not removing hydrogen atom without neighbors\n",
      "RDKit WARNING: [10:59:30] WARNING: not removing hydrogen atom without neighbors\n",
      "RDKit WARNING: [10:59:30] WARNING: not removing hydrogen atom without neighbors\n",
      "RDKit WARNING: [10:59:30] WARNING: not removing hydrogen atom without neighbors\n",
      "RDKit WARNING: [10:59:30] WARNING: not removing hydrogen atom without neighbors\n",
      "RDKit WARNING: [10:59:30] WARNING: not removing hydrogen atom without neighbors\n",
      "RDKit WARNING: [10:59:30] WARNING: not removing hydrogen atom without neighbors\n",
      "RDKit WARNING: [10:59:30] WARNING: not removing hydrogen atom without neighbors\n",
      "RDKit WARNING: [10:59:30] WARNING: not removing hydrogen atom without neighbors\n",
      "RDKit WARNING: [10:59:30] WARNING: not removing hydrogen atom without neighbors\n",
      "RDKit WARNING: [10:59:30] WARNING: not removing hydrogen atom without neighbors\n",
      "RDKit WARNING: [10:59:30] WARNING: not removing hydrogen atom without neighbors\n",
      "RDKit WARNING: [10:59:30] WARNING: not removing hydrogen atom without neighbors\n",
      "RDKit WARNING: [10:59:30] WARNING: not removing hydrogen atom without neighbors\n",
      "RDKit WARNING: [10:59:30] WARNING: not removing hydrogen atom without neighbors\n",
      "RDKit WARNING: [10:59:30] WARNING: not removing hydrogen atom without neighbors\n",
      "RDKit WARNING: [10:59:30] WARNING: not removing hydrogen atom without neighbors\n",
      "RDKit WARNING: [10:59:30] WARNING: not removing hydrogen atom without neighbors\n",
      "RDKit WARNING: [10:59:30] WARNING: not removing hydrogen atom without neighbors\n",
      "RDKit WARNING: [10:59:30] WARNING: not removing hydrogen atom without neighbors\n",
      "RDKit WARNING: [10:59:30] WARNING: not removing hydrogen atom without neighbors\n",
      "RDKit WARNING: [10:59:30] WARNING: not removing hydrogen atom without neighbors\n",
      "RDKit WARNING: [10:59:30] WARNING: not removing hydrogen atom without neighbors\n",
      "RDKit WARNING: [10:59:30] WARNING: not removing hydrogen atom without neighbors\n",
      "RDKit WARNING: [10:59:30] WARNING: not removing hydrogen atom without neighbors\n",
      "RDKit WARNING: [10:59:30] WARNING: not removing hydrogen atom without neighbors\n",
      "RDKit WARNING: [10:59:30] WARNING: not removing hydrogen atom without neighbors\n",
      "RDKit WARNING: [10:59:30] WARNING: not removing hydrogen atom without neighbors\n",
      "RDKit WARNING: [10:59:30] WARNING: not removing hydrogen atom without neighbors\n",
      "RDKit WARNING: [10:59:30] WARNING: not removing hydrogen atom without neighbors\n",
      "RDKit WARNING: [10:59:30] WARNING: not removing hydrogen atom without neighbors\n",
      "RDKit WARNING: [10:59:30] WARNING: not removing hydrogen atom without neighbors\n",
      "RDKit WARNING: [10:59:30] WARNING: not removing hydrogen atom without neighbors\n",
      "RDKit WARNING: [10:59:30] WARNING: not removing hydrogen atom without neighbors\n",
      "RDKit WARNING: [10:59:30] WARNING: not removing hydrogen atom without neighbors\n",
      "RDKit WARNING: [10:59:30] WARNING: not removing hydrogen atom without neighbors\n",
      "RDKit WARNING: [10:59:30] WARNING: not removing hydrogen atom without neighbors\n",
      "RDKit WARNING: [10:59:30] WARNING: not removing hydrogen atom without neighbors\n",
      "RDKit WARNING: [10:59:30] WARNING: not removing hydrogen atom without neighbors\n",
      "RDKit WARNING: [10:59:30] WARNING: not removing hydrogen atom without neighbors\n",
      "RDKit WARNING: [10:59:30] WARNING: not removing hydrogen atom without neighbors\n",
      "RDKit WARNING: [10:59:30] WARNING: not removing hydrogen atom without neighbors\n",
      "RDKit WARNING: [10:59:30] WARNING: not removing hydrogen atom without neighbors\n",
      "RDKit WARNING: [10:59:30] WARNING: not removing hydrogen atom without neighbors\n",
      "RDKit WARNING: [10:59:30] WARNING: not removing hydrogen atom without neighbors\n",
      "RDKit WARNING: [10:59:30] WARNING: not removing hydrogen atom without neighbors\n",
      "RDKit WARNING: [10:59:30] WARNING: not removing hydrogen atom without neighbors\n",
      "RDKit WARNING: [10:59:30] WARNING: not removing hydrogen atom without neighbors\n",
      "RDKit WARNING: [10:59:30] WARNING: not removing hydrogen atom without neighbors\n",
      "RDKit WARNING: [10:59:30] WARNING: not removing hydrogen atom without neighbors\n",
      "RDKit WARNING: [10:59:30] WARNING: not removing hydrogen atom without neighbors\n",
      "RDKit WARNING: [10:59:30] WARNING: not removing hydrogen atom without neighbors\n",
      "RDKit WARNING: [10:59:30] WARNING: not removing hydrogen atom without neighbors\n",
      "RDKit WARNING: [10:59:30] WARNING: not removing hydrogen atom without neighbors\n",
      "RDKit WARNING: [10:59:30] WARNING: not removing hydrogen atom without neighbors\n",
      "RDKit WARNING: [10:59:30] WARNING: not removing hydrogen atom without neighbors\n",
      "RDKit WARNING: [10:59:30] WARNING: not removing hydrogen atom without neighbors\n",
      "RDKit WARNING: [10:59:30] WARNING: not removing hydrogen atom without neighbors\n",
      "RDKit WARNING: [10:59:30] WARNING: not removing hydrogen atom without neighbors\n",
      "RDKit WARNING: [10:59:30] WARNING: not removing hydrogen atom without neighbors\n",
      "RDKit WARNING: [10:59:30] WARNING: not removing hydrogen atom without neighbors\n",
      "RDKit WARNING: [10:59:30] WARNING: not removing hydrogen atom without neighbors\n",
      "RDKit WARNING: [10:59:30] WARNING: not removing hydrogen atom without neighbors\n",
      "RDKit WARNING: [10:59:30] WARNING: not removing hydrogen atom without neighbors\n",
      "RDKit WARNING: [10:59:30] WARNING: not removing hydrogen atom without neighbors\n",
      "RDKit WARNING: [10:59:30] WARNING: not removing hydrogen atom without neighbors\n",
      "RDKit WARNING: [10:59:30] WARNING: not removing hydrogen atom without neighbors\n",
      "RDKit WARNING: [10:59:30] WARNING: not removing hydrogen atom without neighbors\n",
      "RDKit WARNING: [10:59:30] WARNING: not removing hydrogen atom without neighbors\n",
      "RDKit WARNING: [10:59:30] WARNING: not removing hydrogen atom without neighbors\n",
      "RDKit WARNING: [10:59:30] WARNING: not removing hydrogen atom without neighbors\n",
      "RDKit WARNING: [10:59:30] WARNING: not removing hydrogen atom without neighbors\n",
      "RDKit WARNING: [10:59:30] WARNING: not removing hydrogen atom without neighbors\n",
      "RDKit WARNING: [10:59:30] WARNING: not removing hydrogen atom without neighbors\n",
      "RDKit WARNING: [10:59:30] WARNING: not removing hydrogen atom without neighbors\n",
      "RDKit WARNING: [10:59:30] WARNING: not removing hydrogen atom without neighbors\n",
      "RDKit WARNING: [10:59:30] WARNING: not removing hydrogen atom without neighbors\n",
      "RDKit WARNING: [10:59:30] WARNING: not removing hydrogen atom without neighbors\n",
      "RDKit WARNING: [10:59:30] WARNING: not removing hydrogen atom without neighbors\n",
      "RDKit WARNING: [10:59:30] WARNING: not removing hydrogen atom without neighbors\n",
      "RDKit WARNING: [10:59:30] WARNING: not removing hydrogen atom without neighbors\n",
      "RDKit WARNING: [10:59:30] WARNING: not removing hydrogen atom without neighbors\n",
      "RDKit WARNING: [10:59:30] WARNING: not removing hydrogen atom without neighbors\n",
      "RDKit WARNING: [10:59:30] WARNING: not removing hydrogen atom without neighbors\n",
      "RDKit WARNING: [10:59:30] WARNING: not removing hydrogen atom without neighbors\n",
      "RDKit WARNING: [10:59:30] WARNING: not removing hydrogen atom without neighbors\n",
      "RDKit WARNING: [10:59:30] WARNING: not removing hydrogen atom without neighbors\n",
      "RDKit WARNING: [10:59:30] WARNING: not removing hydrogen atom without neighbors\n",
      "RDKit WARNING: [10:59:30] WARNING: not removing hydrogen atom without neighbors\n",
      "RDKit WARNING: [10:59:30] WARNING: not removing hydrogen atom without neighbors\n",
      "RDKit WARNING: [10:59:30] WARNING: not removing hydrogen atom without neighbors\n",
      "RDKit WARNING: [10:59:30] WARNING: not removing hydrogen atom without neighbors\n",
      "RDKit WARNING: [10:59:30] WARNING: not removing hydrogen atom without neighbors\n",
      "RDKit WARNING: [10:59:30] WARNING: not removing hydrogen atom without neighbors\n",
      "RDKit WARNING: [10:59:30] WARNING: not removing hydrogen atom without neighbors\n",
      "RDKit WARNING: [10:59:30] WARNING: not removing hydrogen atom without neighbors\n",
      "RDKit WARNING: [10:59:30] WARNING: not removing hydrogen atom without neighbors\n",
      "RDKit WARNING: [10:59:30] WARNING: not removing hydrogen atom without neighbors\n",
      "RDKit WARNING: [10:59:30] WARNING: not removing hydrogen atom without neighbors\n",
      "RDKit WARNING: [10:59:30] WARNING: not removing hydrogen atom without neighbors\n",
      "RDKit WARNING: [10:59:30] WARNING: not removing hydrogen atom without neighbors\n",
      "RDKit WARNING: [10:59:30] WARNING: not removing hydrogen atom without neighbors\n",
      "RDKit WARNING: [10:59:30] WARNING: not removing hydrogen atom without neighbors\n",
      "RDKit WARNING: [10:59:30] WARNING: not removing hydrogen atom without neighbors\n",
      "RDKit WARNING: [10:59:30] WARNING: not removing hydrogen atom without neighbors\n",
      "RDKit WARNING: [10:59:30] WARNING: not removing hydrogen atom without neighbors\n",
      "RDKit WARNING: [10:59:30] WARNING: not removing hydrogen atom without neighbors\n",
      "RDKit WARNING: [10:59:30] WARNING: not removing hydrogen atom without neighbors\n",
      "RDKit WARNING: [10:59:30] WARNING: not removing hydrogen atom without neighbors\n",
      "RDKit WARNING: [10:59:30] WARNING: not removing hydrogen atom without neighbors\n",
      "RDKit WARNING: [10:59:30] WARNING: not removing hydrogen atom without neighbors\n",
      "RDKit WARNING: [10:59:30] WARNING: not removing hydrogen atom without neighbors\n",
      "RDKit WARNING: [10:59:30] WARNING: not removing hydrogen atom without neighbors\n",
      "RDKit WARNING: [10:59:30] WARNING: not removing hydrogen atom without neighbors\n",
      "RDKit WARNING: [10:59:30] WARNING: not removing hydrogen atom without neighbors\n",
      "RDKit WARNING: [10:59:30] WARNING: not removing hydrogen atom without neighbors\n",
      "RDKit WARNING: [10:59:30] WARNING: not removing hydrogen atom without neighbors\n",
      "RDKit WARNING: [10:59:30] WARNING: not removing hydrogen atom without neighbors\n",
      "RDKit WARNING: [10:59:30] WARNING: not removing hydrogen atom without neighbors\n",
      "RDKit WARNING: [10:59:30] WARNING: not removing hydrogen atom without neighbors\n",
      "RDKit WARNING: [10:59:30] WARNING: not removing hydrogen atom without neighbors\n",
      "RDKit WARNING: [10:59:30] WARNING: not removing hydrogen atom without neighbors\n",
      "RDKit WARNING: [10:59:30] WARNING: not removing hydrogen atom without neighbors\n",
      "RDKit WARNING: [10:59:30] WARNING: not removing hydrogen atom without neighbors\n",
      "RDKit WARNING: [10:59:30] WARNING: not removing hydrogen atom without neighbors\n",
      "RDKit WARNING: [10:59:30] WARNING: not removing hydrogen atom without neighbors\n",
      "RDKit WARNING: [10:59:30] WARNING: not removing hydrogen atom without neighbors\n",
      "RDKit WARNING: [10:59:30] WARNING: not removing hydrogen atom without neighbors\n",
      "RDKit WARNING: [10:59:30] WARNING: not removing hydrogen atom without neighbors\n",
      "RDKit WARNING: [10:59:30] WARNING: not removing hydrogen atom without neighbors\n",
      "RDKit WARNING: [10:59:30] WARNING: not removing hydrogen atom without neighbors\n",
      "RDKit WARNING: [10:59:30] WARNING: not removing hydrogen atom without neighbors\n",
      "RDKit WARNING: [10:59:30] WARNING: not removing hydrogen atom without neighbors\n",
      "RDKit WARNING: [10:59:30] WARNING: not removing hydrogen atom without neighbors\n",
      "RDKit WARNING: [10:59:30] WARNING: not removing hydrogen atom without neighbors\n",
      "RDKit WARNING: [10:59:30] WARNING: not removing hydrogen atom without neighbors\n",
      "RDKit WARNING: [10:59:30] WARNING: not removing hydrogen atom without neighbors\n",
      "RDKit WARNING: [10:59:30] WARNING: not removing hydrogen atom without neighbors\n",
      "RDKit WARNING: [10:59:30] WARNING: not removing hydrogen atom without neighbors\n",
      "RDKit WARNING: [10:59:30] WARNING: not removing hydrogen atom without neighbors\n",
      "RDKit WARNING: [10:59:30] WARNING: not removing hydrogen atom without neighbors\n",
      "RDKit WARNING: [10:59:30] WARNING: not removing hydrogen atom without neighbors\n",
      "RDKit WARNING: [10:59:30] WARNING: not removing hydrogen atom without neighbors\n",
      "RDKit WARNING: [10:59:30] WARNING: not removing hydrogen atom without neighbors\n",
      "RDKit WARNING: [10:59:30] WARNING: not removing hydrogen atom without neighbors\n",
      "RDKit WARNING: [10:59:30] WARNING: not removing hydrogen atom without neighbors\n",
      "RDKit WARNING: [10:59:30] WARNING: not removing hydrogen atom without neighbors\n",
      "RDKit WARNING: [10:59:30] WARNING: not removing hydrogen atom without neighbors\n",
      "RDKit WARNING: [10:59:30] WARNING: not removing hydrogen atom without neighbors\n",
      "RDKit WARNING: [10:59:30] WARNING: not removing hydrogen atom without neighbors\n",
      "RDKit WARNING: [10:59:30] WARNING: not removing hydrogen atom without neighbors\n",
      "RDKit WARNING: [10:59:30] WARNING: not removing hydrogen atom without neighbors\n",
      "RDKit WARNING: [10:59:30] WARNING: not removing hydrogen atom without neighbors\n",
      "RDKit WARNING: [10:59:30] WARNING: not removing hydrogen atom without neighbors\n",
      "RDKit WARNING: [10:59:30] WARNING: not removing hydrogen atom without neighbors\n",
      "RDKit WARNING: [10:59:30] WARNING: not removing hydrogen atom without neighbors\n",
      "RDKit WARNING: [10:59:30] WARNING: not removing hydrogen atom without neighbors\n",
      "RDKit WARNING: [10:59:30] WARNING: not removing hydrogen atom without neighbors\n",
      "RDKit WARNING: [10:59:30] WARNING: not removing hydrogen atom without neighbors\n",
      "RDKit WARNING: [10:59:30] WARNING: not removing hydrogen atom without neighbors\n",
      "RDKit WARNING: [10:59:30] WARNING: not removing hydrogen atom without neighbors\n",
      "RDKit WARNING: [10:59:30] WARNING: not removing hydrogen atom without neighbors\n",
      "RDKit WARNING: [10:59:30] WARNING: not removing hydrogen atom without neighbors\n",
      "RDKit WARNING: [10:59:30] WARNING: not removing hydrogen atom without neighbors\n",
      "RDKit WARNING: [10:59:30] WARNING: not removing hydrogen atom without neighbors\n",
      "RDKit WARNING: [10:59:30] WARNING: not removing hydrogen atom without neighbors\n",
      "RDKit WARNING: [10:59:30] WARNING: not removing hydrogen atom without neighbors\n",
      "RDKit WARNING: [10:59:30] WARNING: not removing hydrogen atom without neighbors\n",
      "RDKit WARNING: [10:59:30] WARNING: not removing hydrogen atom without neighbors\n",
      "RDKit WARNING: [10:59:30] WARNING: not removing hydrogen atom without neighbors\n",
      "RDKit WARNING: [10:59:30] WARNING: not removing hydrogen atom without neighbors\n",
      "RDKit WARNING: [10:59:30] WARNING: not removing hydrogen atom without neighbors\n",
      "RDKit WARNING: [10:59:30] WARNING: not removing hydrogen atom without neighbors\n",
      "RDKit WARNING: [10:59:30] WARNING: not removing hydrogen atom without neighbors\n",
      "RDKit WARNING: [10:59:30] WARNING: not removing hydrogen atom without neighbors\n",
      "RDKit WARNING: [10:59:30] WARNING: not removing hydrogen atom without neighbors\n",
      "RDKit WARNING: [10:59:30] WARNING: not removing hydrogen atom without neighbors\n",
      "RDKit WARNING: [10:59:30] WARNING: not removing hydrogen atom without neighbors\n",
      "RDKit WARNING: [10:59:30] WARNING: not removing hydrogen atom without neighbors\n",
      "RDKit WARNING: [10:59:30] WARNING: not removing hydrogen atom without neighbors\n",
      "RDKit WARNING: [10:59:30] WARNING: not removing hydrogen atom without neighbors\n",
      "RDKit WARNING: [10:59:30] WARNING: not removing hydrogen atom without neighbors\n",
      "RDKit WARNING: [10:59:30] WARNING: not removing hydrogen atom without neighbors\n",
      "RDKit WARNING: [10:59:30] WARNING: not removing hydrogen atom without neighbors\n",
      "RDKit WARNING: [10:59:30] WARNING: not removing hydrogen atom without neighbors\n",
      "RDKit WARNING: [10:59:30] WARNING: not removing hydrogen atom without neighbors\n",
      "RDKit WARNING: [10:59:30] WARNING: not removing hydrogen atom without neighbors\n",
      "RDKit WARNING: [10:59:30] WARNING: not removing hydrogen atom without neighbors\n",
      "RDKit WARNING: [10:59:30] WARNING: not removing hydrogen atom without neighbors\n",
      "RDKit WARNING: [10:59:30] WARNING: not removing hydrogen atom without neighbors\n",
      "RDKit WARNING: [10:59:30] WARNING: not removing hydrogen atom without neighbors\n",
      "RDKit WARNING: [10:59:30] WARNING: not removing hydrogen atom without neighbors\n",
      "RDKit WARNING: [10:59:30] WARNING: not removing hydrogen atom without neighbors\n",
      "RDKit WARNING: [10:59:30] WARNING: not removing hydrogen atom without neighbors\n",
      "RDKit WARNING: [10:59:30] WARNING: not removing hydrogen atom without neighbors\n",
      "RDKit WARNING: [10:59:30] WARNING: not removing hydrogen atom without neighbors\n",
      "RDKit WARNING: [10:59:30] WARNING: not removing hydrogen atom without neighbors\n",
      "RDKit WARNING: [10:59:30] WARNING: not removing hydrogen atom without neighbors\n",
      "RDKit WARNING: [10:59:30] WARNING: not removing hydrogen atom without neighbors\n",
      "RDKit WARNING: [10:59:30] WARNING: not removing hydrogen atom without neighbors\n",
      "RDKit WARNING: [10:59:30] WARNING: not removing hydrogen atom without neighbors\n",
      "RDKit WARNING: [10:59:30] WARNING: not removing hydrogen atom without neighbors\n",
      "RDKit WARNING: [10:59:30] WARNING: not removing hydrogen atom without neighbors\n",
      "RDKit WARNING: [10:59:30] WARNING: not removing hydrogen atom without neighbors\n",
      "RDKit WARNING: [10:59:30] WARNING: not removing hydrogen atom without neighbors\n",
      "RDKit WARNING: [10:59:30] WARNING: not removing hydrogen atom without neighbors\n",
      "RDKit WARNING: [10:59:30] WARNING: not removing hydrogen atom without neighbors\n",
      "RDKit WARNING: [10:59:30] WARNING: not removing hydrogen atom without neighbors\n",
      "RDKit WARNING: [10:59:30] WARNING: not removing hydrogen atom without neighbors\n",
      "RDKit WARNING: [10:59:30] WARNING: not removing hydrogen atom without neighbors\n",
      "RDKit WARNING: [10:59:30] WARNING: not removing hydrogen atom without neighbors\n",
      "RDKit WARNING: [10:59:30] WARNING: not removing hydrogen atom without neighbors\n",
      "RDKit WARNING: [10:59:30] WARNING: not removing hydrogen atom without neighbors\n",
      "RDKit WARNING: [10:59:30] WARNING: not removing hydrogen atom without neighbors\n",
      "RDKit WARNING: [10:59:30] WARNING: not removing hydrogen atom without neighbors\n",
      "RDKit WARNING: [10:59:30] WARNING: not removing hydrogen atom without neighbors\n",
      "RDKit WARNING: [10:59:30] WARNING: not removing hydrogen atom without neighbors\n",
      "RDKit WARNING: [10:59:30] WARNING: not removing hydrogen atom without neighbors\n",
      "RDKit WARNING: [10:59:30] WARNING: not removing hydrogen atom without neighbors\n",
      "RDKit WARNING: [10:59:30] WARNING: not removing hydrogen atom without neighbors\n",
      "RDKit WARNING: [10:59:30] WARNING: not removing hydrogen atom without neighbors\n",
      "RDKit WARNING: [10:59:30] WARNING: not removing hydrogen atom without neighbors\n",
      "RDKit WARNING: [10:59:30] WARNING: not removing hydrogen atom without neighbors\n",
      "RDKit WARNING: [10:59:30] WARNING: not removing hydrogen atom without neighbors\n",
      "RDKit WARNING: [10:59:30] WARNING: not removing hydrogen atom without neighbors\n",
      "RDKit WARNING: [10:59:30] WARNING: not removing hydrogen atom without neighbors\n",
      "RDKit WARNING: [10:59:30] WARNING: not removing hydrogen atom without neighbors\n",
      "RDKit WARNING: [10:59:30] WARNING: not removing hydrogen atom without neighbors\n",
      "RDKit WARNING: [10:59:30] WARNING: not removing hydrogen atom without neighbors\n",
      "RDKit WARNING: [10:59:30] WARNING: not removing hydrogen atom without neighbors\n",
      "RDKit WARNING: [10:59:30] WARNING: not removing hydrogen atom without neighbors\n",
      "RDKit WARNING: [10:59:30] WARNING: not removing hydrogen atom without neighbors\n",
      "RDKit WARNING: [10:59:30] WARNING: not removing hydrogen atom without neighbors\n",
      "RDKit WARNING: [10:59:30] WARNING: not removing hydrogen atom without neighbors\n",
      "RDKit WARNING: [10:59:30] WARNING: not removing hydrogen atom without neighbors\n",
      "RDKit WARNING: [10:59:30] WARNING: not removing hydrogen atom without neighbors\n",
      "RDKit WARNING: [10:59:30] WARNING: not removing hydrogen atom without neighbors\n",
      "RDKit WARNING: [10:59:30] WARNING: not removing hydrogen atom without neighbors\n",
      "RDKit WARNING: [10:59:30] WARNING: not removing hydrogen atom without neighbors\n",
      "RDKit WARNING: [10:59:30] WARNING: not removing hydrogen atom without neighbors\n",
      "RDKit WARNING: [10:59:30] WARNING: not removing hydrogen atom without neighbors\n",
      "RDKit WARNING: [10:59:30] WARNING: not removing hydrogen atom without neighbors\n",
      "RDKit WARNING: [10:59:30] WARNING: not removing hydrogen atom without neighbors\n",
      "RDKit WARNING: [10:59:30] WARNING: not removing hydrogen atom without neighbors\n",
      "RDKit WARNING: [10:59:30] WARNING: not removing hydrogen atom without neighbors\n",
      "RDKit WARNING: [10:59:30] WARNING: not removing hydrogen atom without neighbors\n",
      "RDKit WARNING: [10:59:30] WARNING: not removing hydrogen atom without neighbors\n",
      "RDKit WARNING: [10:59:30] WARNING: not removing hydrogen atom without neighbors\n",
      "RDKit WARNING: [10:59:30] WARNING: not removing hydrogen atom without neighbors\n",
      "RDKit WARNING: [10:59:30] WARNING: not removing hydrogen atom without neighbors\n",
      "RDKit WARNING: [10:59:30] WARNING: not removing hydrogen atom without neighbors\n",
      "RDKit WARNING: [10:59:30] WARNING: not removing hydrogen atom without neighbors\n",
      "RDKit WARNING: [10:59:30] WARNING: not removing hydrogen atom without neighbors\n",
      "RDKit WARNING: [10:59:30] WARNING: not removing hydrogen atom without neighbors\n",
      "RDKit WARNING: [10:59:30] WARNING: not removing hydrogen atom without neighbors\n",
      "RDKit WARNING: [10:59:30] WARNING: not removing hydrogen atom without neighbors\n",
      "RDKit WARNING: [10:59:30] WARNING: not removing hydrogen atom without neighbors\n",
      "RDKit WARNING: [10:59:30] WARNING: not removing hydrogen atom without neighbors\n",
      "RDKit WARNING: [10:59:30] WARNING: not removing hydrogen atom without neighbors\n",
      "RDKit WARNING: [10:59:30] WARNING: not removing hydrogen atom without neighbors\n",
      "RDKit WARNING: [10:59:30] WARNING: not removing hydrogen atom without neighbors\n",
      "RDKit WARNING: [10:59:30] WARNING: not removing hydrogen atom without neighbors\n",
      "RDKit WARNING: [10:59:30] WARNING: not removing hydrogen atom without neighbors\n",
      "RDKit WARNING: [10:59:30] WARNING: not removing hydrogen atom without neighbors\n",
      "RDKit WARNING: [10:59:30] WARNING: not removing hydrogen atom without neighbors\n",
      "RDKit WARNING: [10:59:30] WARNING: not removing hydrogen atom without neighbors\n",
      "RDKit WARNING: [10:59:30] WARNING: not removing hydrogen atom without neighbors\n",
      "RDKit WARNING: [10:59:30] WARNING: not removing hydrogen atom without neighbors\n",
      "RDKit WARNING: [10:59:30] WARNING: not removing hydrogen atom without neighbors\n",
      "RDKit WARNING: [10:59:30] WARNING: not removing hydrogen atom without neighbors\n",
      "RDKit WARNING: [10:59:30] WARNING: not removing hydrogen atom without neighbors\n",
      "RDKit WARNING: [10:59:30] WARNING: not removing hydrogen atom without neighbors\n",
      "RDKit WARNING: [10:59:30] WARNING: not removing hydrogen atom without neighbors\n",
      "RDKit WARNING: [10:59:30] WARNING: not removing hydrogen atom without neighbors\n",
      "RDKit WARNING: [10:59:30] WARNING: not removing hydrogen atom without neighbors\n",
      "RDKit WARNING: [10:59:30] WARNING: not removing hydrogen atom without neighbors\n",
      "RDKit WARNING: [10:59:30] WARNING: not removing hydrogen atom without neighbors\n",
      "RDKit WARNING: [10:59:30] WARNING: not removing hydrogen atom without neighbors\n",
      "RDKit WARNING: [10:59:30] WARNING: not removing hydrogen atom without neighbors\n"
     ]
    },
    {
     "name": "stderr",
     "output_type": "stream",
     "text": [
      "RDKit WARNING: [10:59:30] WARNING: not removing hydrogen atom without neighbors\n",
      "RDKit WARNING: [10:59:30] WARNING: not removing hydrogen atom without neighbors\n",
      "RDKit WARNING: [10:59:30] WARNING: not removing hydrogen atom without neighbors\n",
      "RDKit WARNING: [10:59:30] WARNING: not removing hydrogen atom without neighbors\n",
      "RDKit WARNING: [10:59:30] WARNING: not removing hydrogen atom without neighbors\n",
      "RDKit WARNING: [10:59:30] WARNING: not removing hydrogen atom without neighbors\n",
      "RDKit WARNING: [10:59:30] WARNING: not removing hydrogen atom without neighbors\n",
      "RDKit WARNING: [10:59:30] WARNING: not removing hydrogen atom without neighbors\n",
      "RDKit WARNING: [10:59:30] WARNING: not removing hydrogen atom without neighbors\n",
      "RDKit WARNING: [10:59:30] WARNING: not removing hydrogen atom without neighbors\n",
      "RDKit WARNING: [10:59:30] WARNING: not removing hydrogen atom without neighbors\n",
      "RDKit WARNING: [10:59:30] WARNING: not removing hydrogen atom without neighbors\n",
      "RDKit WARNING: [10:59:30] WARNING: not removing hydrogen atom without neighbors\n",
      "RDKit WARNING: [10:59:30] WARNING: not removing hydrogen atom without neighbors\n",
      "RDKit WARNING: [10:59:30] WARNING: not removing hydrogen atom without neighbors\n",
      "RDKit WARNING: [10:59:30] WARNING: not removing hydrogen atom without neighbors\n",
      "RDKit WARNING: [10:59:30] WARNING: not removing hydrogen atom without neighbors\n",
      "RDKit WARNING: [10:59:30] WARNING: not removing hydrogen atom without neighbors\n",
      "RDKit WARNING: [10:59:30] WARNING: not removing hydrogen atom without neighbors\n",
      "RDKit WARNING: [10:59:30] WARNING: not removing hydrogen atom without neighbors\n",
      "RDKit WARNING: [10:59:30] WARNING: not removing hydrogen atom without neighbors\n",
      "RDKit WARNING: [10:59:30] WARNING: not removing hydrogen atom without neighbors\n",
      "RDKit WARNING: [10:59:30] WARNING: not removing hydrogen atom without neighbors\n",
      "RDKit WARNING: [10:59:30] WARNING: not removing hydrogen atom without neighbors\n",
      "RDKit WARNING: [10:59:30] WARNING: not removing hydrogen atom without neighbors\n",
      "RDKit WARNING: [10:59:30] WARNING: not removing hydrogen atom without neighbors\n",
      "RDKit WARNING: [10:59:30] WARNING: not removing hydrogen atom without neighbors\n",
      "RDKit WARNING: [10:59:30] WARNING: not removing hydrogen atom without neighbors\n",
      "RDKit WARNING: [10:59:30] WARNING: not removing hydrogen atom without neighbors\n",
      "RDKit WARNING: [10:59:30] WARNING: not removing hydrogen atom without neighbors\n",
      "RDKit WARNING: [10:59:30] WARNING: not removing hydrogen atom without neighbors\n",
      "RDKit WARNING: [10:59:30] WARNING: not removing hydrogen atom without neighbors\n",
      "RDKit WARNING: [10:59:30] WARNING: not removing hydrogen atom without neighbors\n",
      "RDKit WARNING: [10:59:30] WARNING: not removing hydrogen atom without neighbors\n",
      "RDKit WARNING: [10:59:30] WARNING: not removing hydrogen atom without neighbors\n",
      "RDKit WARNING: [10:59:30] WARNING: not removing hydrogen atom without neighbors\n",
      "RDKit WARNING: [10:59:30] WARNING: not removing hydrogen atom without neighbors\n",
      "RDKit WARNING: [10:59:30] WARNING: not removing hydrogen atom without neighbors\n",
      "RDKit WARNING: [10:59:30] WARNING: not removing hydrogen atom without neighbors\n",
      "RDKit WARNING: [10:59:30] WARNING: not removing hydrogen atom without neighbors\n",
      "RDKit WARNING: [10:59:30] WARNING: not removing hydrogen atom without neighbors\n",
      "RDKit WARNING: [10:59:30] WARNING: not removing hydrogen atom without neighbors\n",
      "RDKit WARNING: [10:59:30] WARNING: not removing hydrogen atom without neighbors\n",
      "RDKit WARNING: [10:59:30] WARNING: not removing hydrogen atom without neighbors\n",
      "RDKit WARNING: [10:59:30] WARNING: not removing hydrogen atom without neighbors\n",
      "RDKit WARNING: [10:59:30] WARNING: not removing hydrogen atom without neighbors\n",
      "RDKit WARNING: [10:59:30] WARNING: not removing hydrogen atom without neighbors\n",
      "RDKit WARNING: [10:59:30] WARNING: not removing hydrogen atom without neighbors\n",
      "RDKit WARNING: [10:59:30] WARNING: not removing hydrogen atom without neighbors\n",
      "RDKit WARNING: [10:59:30] WARNING: not removing hydrogen atom without neighbors\n",
      "RDKit WARNING: [10:59:30] WARNING: not removing hydrogen atom without neighbors\n",
      "RDKit WARNING: [10:59:30] WARNING: not removing hydrogen atom without neighbors\n",
      "RDKit WARNING: [10:59:30] WARNING: not removing hydrogen atom without neighbors\n",
      "RDKit WARNING: [10:59:30] WARNING: not removing hydrogen atom without neighbors\n",
      "RDKit WARNING: [10:59:30] WARNING: not removing hydrogen atom without neighbors\n",
      "RDKit WARNING: [10:59:30] WARNING: not removing hydrogen atom without neighbors\n",
      "RDKit WARNING: [10:59:30] WARNING: not removing hydrogen atom without neighbors\n",
      "RDKit WARNING: [10:59:30] WARNING: not removing hydrogen atom without neighbors\n",
      "RDKit WARNING: [10:59:30] WARNING: not removing hydrogen atom without neighbors\n",
      "RDKit WARNING: [10:59:30] WARNING: not removing hydrogen atom without neighbors\n",
      "RDKit WARNING: [10:59:30] WARNING: not removing hydrogen atom without neighbors\n",
      "RDKit WARNING: [10:59:30] WARNING: not removing hydrogen atom without neighbors\n",
      "RDKit WARNING: [10:59:30] WARNING: not removing hydrogen atom without neighbors\n",
      "RDKit WARNING: [10:59:30] WARNING: not removing hydrogen atom without neighbors\n",
      "RDKit WARNING: [10:59:30] WARNING: not removing hydrogen atom without neighbors\n",
      "RDKit WARNING: [10:59:30] WARNING: not removing hydrogen atom without neighbors\n",
      "RDKit WARNING: [10:59:30] WARNING: not removing hydrogen atom without neighbors\n",
      "RDKit WARNING: [10:59:30] WARNING: not removing hydrogen atom without neighbors\n",
      "RDKit WARNING: [10:59:30] WARNING: not removing hydrogen atom without neighbors\n",
      "RDKit WARNING: [10:59:30] WARNING: not removing hydrogen atom without neighbors\n",
      "RDKit WARNING: [10:59:30] WARNING: not removing hydrogen atom without neighbors\n",
      "RDKit WARNING: [10:59:30] WARNING: not removing hydrogen atom without neighbors\n",
      "RDKit WARNING: [10:59:30] WARNING: not removing hydrogen atom without neighbors\n",
      "RDKit WARNING: [10:59:30] WARNING: not removing hydrogen atom without neighbors\n",
      "RDKit WARNING: [10:59:30] WARNING: not removing hydrogen atom without neighbors\n",
      "RDKit WARNING: [10:59:30] WARNING: not removing hydrogen atom without neighbors\n",
      "RDKit WARNING: [10:59:30] WARNING: not removing hydrogen atom without neighbors\n",
      "RDKit WARNING: [10:59:30] WARNING: not removing hydrogen atom without neighbors\n",
      "RDKit WARNING: [10:59:30] WARNING: not removing hydrogen atom without neighbors\n",
      "RDKit WARNING: [10:59:30] WARNING: not removing hydrogen atom without neighbors\n",
      "RDKit WARNING: [10:59:30] WARNING: not removing hydrogen atom without neighbors\n",
      "RDKit WARNING: [10:59:30] WARNING: not removing hydrogen atom without neighbors\n",
      "RDKit WARNING: [10:59:30] WARNING: not removing hydrogen atom without neighbors\n",
      "RDKit WARNING: [10:59:30] WARNING: not removing hydrogen atom without neighbors\n",
      "RDKit WARNING: [10:59:30] WARNING: not removing hydrogen atom without neighbors\n",
      "RDKit WARNING: [10:59:30] WARNING: not removing hydrogen atom without neighbors\n",
      "RDKit WARNING: [10:59:30] WARNING: not removing hydrogen atom without neighbors\n",
      "RDKit WARNING: [10:59:30] WARNING: not removing hydrogen atom without neighbors\n",
      "RDKit WARNING: [10:59:30] WARNING: not removing hydrogen atom without neighbors\n",
      "RDKit WARNING: [10:59:30] WARNING: not removing hydrogen atom without neighbors\n",
      "RDKit WARNING: [10:59:30] WARNING: not removing hydrogen atom without neighbors\n",
      "RDKit WARNING: [10:59:30] WARNING: not removing hydrogen atom without neighbors\n",
      "RDKit WARNING: [10:59:30] WARNING: not removing hydrogen atom without neighbors\n",
      "RDKit WARNING: [10:59:30] WARNING: not removing hydrogen atom without neighbors\n",
      "RDKit WARNING: [10:59:30] WARNING: not removing hydrogen atom without neighbors\n",
      "RDKit WARNING: [10:59:30] WARNING: not removing hydrogen atom without neighbors\n",
      "RDKit WARNING: [10:59:30] WARNING: not removing hydrogen atom without neighbors\n",
      "RDKit WARNING: [10:59:30] WARNING: not removing hydrogen atom without neighbors\n",
      "RDKit WARNING: [10:59:30] WARNING: not removing hydrogen atom without neighbors\n",
      "RDKit WARNING: [10:59:30] WARNING: not removing hydrogen atom without neighbors\n",
      "RDKit WARNING: [10:59:30] WARNING: not removing hydrogen atom without neighbors\n"
     ]
    }
   ],
   "source": [
    "CP_t=fragenum.CombProducts(b_exist_atm=True,b_exist_rad=True)\n",
    "CP_t.set_mol(mol)\n",
    "CP_t.GenProComb()\n",
    "# CP_t.DispComb()"
   ]
  },
  {
   "cell_type": "code",
   "execution_count": 26,
   "metadata": {},
   "outputs": [],
   "source": [
    "frag_data=[]\n",
    "# 分子から考えられるフラグメントの集まり(Products)のリスト\n",
    "for j in range(len(CP_t.l_prod)):\n",
    "    if len(CP_t.l_prod[j].l_comp)!=2:\n",
    "        continue\n",
    "    # フラグメントのリストの集まり(Products)から\n",
    "    # SMILESのリストとMolのリストをとり出す\n",
    "    smiles_list=CP_t.l_prod[j].smiles_list\n",
    "    mol_list=CP_t.l_prod[j].mol_list\n",
    "    # フラグメントの数\n",
    "    frag_num=len(smiles_list)\n",
    "    \n",
    "    # 重複がないようにset化してSMILESを取り出す。\n",
    "    for smi in set(smiles_list):\n",
    "        # 当該SMILESのindex\n",
    "        frag_idx=smiles_list.index(smi)\n",
    "        # これが候補fragmentとなる\n",
    "        candidate_frag=mol_list[frag_idx]\n",
    "        frag_counter=0\n",
    "        # fragmentの質量(MSのm/zとなる)\n",
    "        weight=Descriptors.MolWt(candidate_frag)\n",
    "        weight=int(np.round(weight,0))\n",
    "        data_dict={\n",
    "            \"source_mol_no\":i,\n",
    "            \"source\":mol,\n",
    "            \"source_smiles\":smiles,\n",
    "            \"candidate_frag\":candidate_frag,\n",
    "            \"candidate_frag_smiles\":smiles_list[frag_idx],\n",
    "            \"weight\":weight,\n",
    "            \"intensity\":a_ms_data[weight]}\n",
    "        # 候補fragment以外を辞書に格納\n",
    "        for k in range(frag_idx):\n",
    "            data_dict[\"other_frag_{:0=2}\".format(frag_counter)]=mol_list[k]\n",
    "            data_dict[\"other_frag_{:0=2}_smiles\".format(frag_counter)]=smiles_list[k]\n",
    "            frag_counter+=1\n",
    "        for k in range(frag_idx+1,frag_num):\n",
    "            data_dict[\"other_frag_{:0=2}\".format(frag_counter)]=mol_list[k]\n",
    "            data_dict[\"other_frag_{:0=2}_smiles\".format(frag_counter)]=smiles_list[k]\n",
    "            frag_counter+=1\n",
    "        frag_data.append(data_dict)"
   ]
  },
  {
   "cell_type": "code",
   "execution_count": 27,
   "metadata": {},
   "outputs": [
    {
     "data": {
      "text/html": [
       "<div>\n",
       "<style scoped>\n",
       "    .dataframe tbody tr th:only-of-type {\n",
       "        vertical-align: middle;\n",
       "    }\n",
       "\n",
       "    .dataframe tbody tr th {\n",
       "        vertical-align: top;\n",
       "    }\n",
       "\n",
       "    .dataframe thead th {\n",
       "        text-align: right;\n",
       "    }\n",
       "</style>\n",
       "<table border=\"1\" class=\"dataframe\">\n",
       "  <thead>\n",
       "    <tr style=\"text-align: right;\">\n",
       "      <th></th>\n",
       "      <th>source_mol_no</th>\n",
       "      <th>source</th>\n",
       "      <th>source_smiles</th>\n",
       "      <th>candidate_frag</th>\n",
       "      <th>candidate_frag_smiles</th>\n",
       "      <th>weight</th>\n",
       "      <th>intensity</th>\n",
       "      <th>other_frag_00</th>\n",
       "      <th>other_frag_00_smiles</th>\n",
       "    </tr>\n",
       "  </thead>\n",
       "  <tbody>\n",
       "    <tr>\n",
       "      <th>0</th>\n",
       "      <td>3</td>\n",
       "      <td>&lt;rdkit.Chem.rdchem.Mol object at 0x7fd5846d9260&gt;</td>\n",
       "      <td>[H]C([H])([H])C(F)(F)F</td>\n",
       "      <td>&lt;rdkit.Chem.rdchem.Mol object at 0x7fd5799817b0&gt;</td>\n",
       "      <td>[H][H]</td>\n",
       "      <td>2</td>\n",
       "      <td>30.0</td>\n",
       "      <td>&lt;rdkit.Chem.rdchem.Mol object at 0x7fd579981210&gt;</td>\n",
       "      <td>[H]C(F)=C(F)F</td>\n",
       "    </tr>\n",
       "    <tr>\n",
       "      <th>1</th>\n",
       "      <td>3</td>\n",
       "      <td>&lt;rdkit.Chem.rdchem.Mol object at 0x7fd5846d9260&gt;</td>\n",
       "      <td>[H]C([H])([H])C(F)(F)F</td>\n",
       "      <td>&lt;rdkit.Chem.rdchem.Mol object at 0x7fd579981210&gt;</td>\n",
       "      <td>[H]C(F)=C(F)F</td>\n",
       "      <td>82</td>\n",
       "      <td>30.0</td>\n",
       "      <td>&lt;rdkit.Chem.rdchem.Mol object at 0x7fd5799817b0&gt;</td>\n",
       "      <td>[H][H]</td>\n",
       "    </tr>\n",
       "    <tr>\n",
       "      <th>2</th>\n",
       "      <td>3</td>\n",
       "      <td>&lt;rdkit.Chem.rdchem.Mol object at 0x7fd5846d9260&gt;</td>\n",
       "      <td>[H]C([H])([H])C(F)(F)F</td>\n",
       "      <td>&lt;rdkit.Chem.rdchem.Mol object at 0x7fd57995a940&gt;</td>\n",
       "      <td>[H]F</td>\n",
       "      <td>20</td>\n",
       "      <td>20.0</td>\n",
       "      <td>&lt;rdkit.Chem.rdchem.Mol object at 0x7fd579981ee0&gt;</td>\n",
       "      <td>[H]C([H])=C(F)F</td>\n",
       "    </tr>\n",
       "    <tr>\n",
       "      <th>3</th>\n",
       "      <td>3</td>\n",
       "      <td>&lt;rdkit.Chem.rdchem.Mol object at 0x7fd5846d9260&gt;</td>\n",
       "      <td>[H]C([H])([H])C(F)(F)F</td>\n",
       "      <td>&lt;rdkit.Chem.rdchem.Mol object at 0x7fd579981ee0&gt;</td>\n",
       "      <td>[H]C([H])=C(F)F</td>\n",
       "      <td>64</td>\n",
       "      <td>661.0</td>\n",
       "      <td>&lt;rdkit.Chem.rdchem.Mol object at 0x7fd57995a940&gt;</td>\n",
       "      <td>[H]F</td>\n",
       "    </tr>\n",
       "    <tr>\n",
       "      <th>4</th>\n",
       "      <td>3</td>\n",
       "      <td>&lt;rdkit.Chem.rdchem.Mol object at 0x7fd5846d9260&gt;</td>\n",
       "      <td>[H]C([H])([H])C(F)(F)F</td>\n",
       "      <td>&lt;rdkit.Chem.rdchem.Mol object at 0x7fd5798d1710&gt;</td>\n",
       "      <td>[H]F</td>\n",
       "      <td>20</td>\n",
       "      <td>20.0</td>\n",
       "      <td>&lt;rdkit.Chem.rdchem.Mol object at 0x7fd5798d1530&gt;</td>\n",
       "      <td>[H]C(F)=C([H])F</td>\n",
       "    </tr>\n",
       "    <tr>\n",
       "      <th>5</th>\n",
       "      <td>3</td>\n",
       "      <td>&lt;rdkit.Chem.rdchem.Mol object at 0x7fd5846d9260&gt;</td>\n",
       "      <td>[H]C([H])([H])C(F)(F)F</td>\n",
       "      <td>&lt;rdkit.Chem.rdchem.Mol object at 0x7fd5798d1530&gt;</td>\n",
       "      <td>[H]C(F)=C([H])F</td>\n",
       "      <td>64</td>\n",
       "      <td>661.0</td>\n",
       "      <td>&lt;rdkit.Chem.rdchem.Mol object at 0x7fd5798d1710&gt;</td>\n",
       "      <td>[H]F</td>\n",
       "    </tr>\n",
       "    <tr>\n",
       "      <th>6</th>\n",
       "      <td>3</td>\n",
       "      <td>&lt;rdkit.Chem.rdchem.Mol object at 0x7fd5846d9260&gt;</td>\n",
       "      <td>[H]C([H])([H])C(F)(F)F</td>\n",
       "      <td>&lt;rdkit.Chem.rdchem.Mol object at 0x7fd57993bf80&gt;</td>\n",
       "      <td>FF</td>\n",
       "      <td>38</td>\n",
       "      <td>0.0</td>\n",
       "      <td>&lt;rdkit.Chem.rdchem.Mol object at 0x7fd57993b2b0&gt;</td>\n",
       "      <td>[H]C([H])=C([H])F</td>\n",
       "    </tr>\n",
       "    <tr>\n",
       "      <th>7</th>\n",
       "      <td>3</td>\n",
       "      <td>&lt;rdkit.Chem.rdchem.Mol object at 0x7fd5846d9260&gt;</td>\n",
       "      <td>[H]C([H])([H])C(F)(F)F</td>\n",
       "      <td>&lt;rdkit.Chem.rdchem.Mol object at 0x7fd57993b2b0&gt;</td>\n",
       "      <td>[H]C([H])=C([H])F</td>\n",
       "      <td>46</td>\n",
       "      <td>30.0</td>\n",
       "      <td>&lt;rdkit.Chem.rdchem.Mol object at 0x7fd57993bf80&gt;</td>\n",
       "      <td>FF</td>\n",
       "    </tr>\n",
       "    <tr>\n",
       "      <th>8</th>\n",
       "      <td>3</td>\n",
       "      <td>&lt;rdkit.Chem.rdchem.Mol object at 0x7fd5846d9260&gt;</td>\n",
       "      <td>[H]C([H])([H])C(F)(F)F</td>\n",
       "      <td>&lt;rdkit.Chem.rdchem.Mol object at 0x7fd579881170&gt;</td>\n",
       "      <td>[H][C]([H])C(F)(F)F</td>\n",
       "      <td>83</td>\n",
       "      <td>130.0</td>\n",
       "      <td>&lt;rdkit.Chem.rdchem.Mol object at 0x7fd5798810d0&gt;</td>\n",
       "      <td>[H]</td>\n",
       "    </tr>\n",
       "    <tr>\n",
       "      <th>9</th>\n",
       "      <td>3</td>\n",
       "      <td>&lt;rdkit.Chem.rdchem.Mol object at 0x7fd5846d9260&gt;</td>\n",
       "      <td>[H]C([H])([H])C(F)(F)F</td>\n",
       "      <td>&lt;rdkit.Chem.rdchem.Mol object at 0x7fd5798810d0&gt;</td>\n",
       "      <td>[H]</td>\n",
       "      <td>1</td>\n",
       "      <td>0.0</td>\n",
       "      <td>&lt;rdkit.Chem.rdchem.Mol object at 0x7fd579881170&gt;</td>\n",
       "      <td>[H][C]([H])C(F)(F)F</td>\n",
       "    </tr>\n",
       "    <tr>\n",
       "      <th>10</th>\n",
       "      <td>3</td>\n",
       "      <td>&lt;rdkit.Chem.rdchem.Mol object at 0x7fd5846d9260&gt;</td>\n",
       "      <td>[H]C([H])([H])C(F)(F)F</td>\n",
       "      <td>&lt;rdkit.Chem.rdchem.Mol object at 0x7fd5798818a0&gt;</td>\n",
       "      <td>[H][H]</td>\n",
       "      <td>2</td>\n",
       "      <td>30.0</td>\n",
       "      <td>&lt;rdkit.Chem.rdchem.Mol object at 0x7fd5799ae120&gt;</td>\n",
       "      <td>[H][C]C(F)(F)F</td>\n",
       "    </tr>\n",
       "    <tr>\n",
       "      <th>11</th>\n",
       "      <td>3</td>\n",
       "      <td>&lt;rdkit.Chem.rdchem.Mol object at 0x7fd5846d9260&gt;</td>\n",
       "      <td>[H]C([H])([H])C(F)(F)F</td>\n",
       "      <td>&lt;rdkit.Chem.rdchem.Mol object at 0x7fd5799ae120&gt;</td>\n",
       "      <td>[H][C]C(F)(F)F</td>\n",
       "      <td>82</td>\n",
       "      <td>30.0</td>\n",
       "      <td>&lt;rdkit.Chem.rdchem.Mol object at 0x7fd5798818a0&gt;</td>\n",
       "      <td>[H][H]</td>\n",
       "    </tr>\n",
       "    <tr>\n",
       "      <th>12</th>\n",
       "      <td>3</td>\n",
       "      <td>&lt;rdkit.Chem.rdchem.Mol object at 0x7fd5846d9260&gt;</td>\n",
       "      <td>[H]C([H])([H])C(F)(F)F</td>\n",
       "      <td>&lt;rdkit.Chem.rdchem.Mol object at 0x7fd5798613a0&gt;</td>\n",
       "      <td>[H]</td>\n",
       "      <td>1</td>\n",
       "      <td>0.0</td>\n",
       "      <td>&lt;rdkit.Chem.rdchem.Mol object at 0x7fd579861440&gt;</td>\n",
       "      <td>[H][C](F)C([H])(F)F</td>\n",
       "    </tr>\n",
       "    <tr>\n",
       "      <th>13</th>\n",
       "      <td>3</td>\n",
       "      <td>&lt;rdkit.Chem.rdchem.Mol object at 0x7fd5846d9260&gt;</td>\n",
       "      <td>[H]C([H])([H])C(F)(F)F</td>\n",
       "      <td>&lt;rdkit.Chem.rdchem.Mol object at 0x7fd579861440&gt;</td>\n",
       "      <td>[H][C](F)C([H])(F)F</td>\n",
       "      <td>83</td>\n",
       "      <td>130.0</td>\n",
       "      <td>&lt;rdkit.Chem.rdchem.Mol object at 0x7fd5798613a0&gt;</td>\n",
       "      <td>[H]</td>\n",
       "    </tr>\n",
       "    <tr>\n",
       "      <th>14</th>\n",
       "      <td>3</td>\n",
       "      <td>&lt;rdkit.Chem.rdchem.Mol object at 0x7fd5846d9260&gt;</td>\n",
       "      <td>[H]C([H])([H])C(F)(F)F</td>\n",
       "      <td>&lt;rdkit.Chem.rdchem.Mol object at 0x7fd579861260&gt;</td>\n",
       "      <td>[H][H]</td>\n",
       "      <td>2</td>\n",
       "      <td>30.0</td>\n",
       "      <td>&lt;rdkit.Chem.rdchem.Mol object at 0x7fd579861c60&gt;</td>\n",
       "      <td>[H]C(F)(F)[C]F</td>\n",
       "    </tr>\n",
       "    <tr>\n",
       "      <th>15</th>\n",
       "      <td>3</td>\n",
       "      <td>&lt;rdkit.Chem.rdchem.Mol object at 0x7fd5846d9260&gt;</td>\n",
       "      <td>[H]C([H])([H])C(F)(F)F</td>\n",
       "      <td>&lt;rdkit.Chem.rdchem.Mol object at 0x7fd579861c60&gt;</td>\n",
       "      <td>[H]C(F)(F)[C]F</td>\n",
       "      <td>82</td>\n",
       "      <td>30.0</td>\n",
       "      <td>&lt;rdkit.Chem.rdchem.Mol object at 0x7fd579861260&gt;</td>\n",
       "      <td>[H][H]</td>\n",
       "    </tr>\n",
       "    <tr>\n",
       "      <th>16</th>\n",
       "      <td>3</td>\n",
       "      <td>&lt;rdkit.Chem.rdchem.Mol object at 0x7fd5846d9260&gt;</td>\n",
       "      <td>[H]C([H])([H])C(F)(F)F</td>\n",
       "      <td>&lt;rdkit.Chem.rdchem.Mol object at 0x7fd5798619e0&gt;</td>\n",
       "      <td>[H]</td>\n",
       "      <td>1</td>\n",
       "      <td>0.0</td>\n",
       "      <td>&lt;rdkit.Chem.rdchem.Mol object at 0x7fd579861940&gt;</td>\n",
       "      <td>[H]C([H])(F)[C](F)F</td>\n",
       "    </tr>\n",
       "    <tr>\n",
       "      <th>17</th>\n",
       "      <td>3</td>\n",
       "      <td>&lt;rdkit.Chem.rdchem.Mol object at 0x7fd5846d9260&gt;</td>\n",
       "      <td>[H]C([H])([H])C(F)(F)F</td>\n",
       "      <td>&lt;rdkit.Chem.rdchem.Mol object at 0x7fd579861940&gt;</td>\n",
       "      <td>[H]C([H])(F)[C](F)F</td>\n",
       "      <td>83</td>\n",
       "      <td>130.0</td>\n",
       "      <td>&lt;rdkit.Chem.rdchem.Mol object at 0x7fd5798619e0&gt;</td>\n",
       "      <td>[H]</td>\n",
       "    </tr>\n",
       "    <tr>\n",
       "      <th>18</th>\n",
       "      <td>3</td>\n",
       "      <td>&lt;rdkit.Chem.rdchem.Mol object at 0x7fd5846d9260&gt;</td>\n",
       "      <td>[H]C([H])([H])C(F)(F)F</td>\n",
       "      <td>&lt;rdkit.Chem.rdchem.Mol object at 0x7fd57c573da0&gt;</td>\n",
       "      <td>[F]</td>\n",
       "      <td>19</td>\n",
       "      <td>50.0</td>\n",
       "      <td>&lt;rdkit.Chem.rdchem.Mol object at 0x7fd57c573c10&gt;</td>\n",
       "      <td>[H][C]([H])C([H])(F)F</td>\n",
       "    </tr>\n",
       "    <tr>\n",
       "      <th>19</th>\n",
       "      <td>3</td>\n",
       "      <td>&lt;rdkit.Chem.rdchem.Mol object at 0x7fd5846d9260&gt;</td>\n",
       "      <td>[H]C([H])([H])C(F)(F)F</td>\n",
       "      <td>&lt;rdkit.Chem.rdchem.Mol object at 0x7fd57c573c10&gt;</td>\n",
       "      <td>[H][C]([H])C([H])(F)F</td>\n",
       "      <td>65</td>\n",
       "      <td>2783.0</td>\n",
       "      <td>&lt;rdkit.Chem.rdchem.Mol object at 0x7fd57c573da0&gt;</td>\n",
       "      <td>[F]</td>\n",
       "    </tr>\n",
       "    <tr>\n",
       "      <th>20</th>\n",
       "      <td>3</td>\n",
       "      <td>&lt;rdkit.Chem.rdchem.Mol object at 0x7fd5846d9260&gt;</td>\n",
       "      <td>[H]C([H])([H])C(F)(F)F</td>\n",
       "      <td>&lt;rdkit.Chem.rdchem.Mol object at 0x7fd57c573c60&gt;</td>\n",
       "      <td>[H]F</td>\n",
       "      <td>20</td>\n",
       "      <td>20.0</td>\n",
       "      <td>&lt;rdkit.Chem.rdchem.Mol object at 0x7fd57c573760&gt;</td>\n",
       "      <td>[H][C]C([H])(F)F</td>\n",
       "    </tr>\n",
       "    <tr>\n",
       "      <th>21</th>\n",
       "      <td>3</td>\n",
       "      <td>&lt;rdkit.Chem.rdchem.Mol object at 0x7fd5846d9260&gt;</td>\n",
       "      <td>[H]C([H])([H])C(F)(F)F</td>\n",
       "      <td>&lt;rdkit.Chem.rdchem.Mol object at 0x7fd57c573760&gt;</td>\n",
       "      <td>[H][C]C([H])(F)F</td>\n",
       "      <td>64</td>\n",
       "      <td>661.0</td>\n",
       "      <td>&lt;rdkit.Chem.rdchem.Mol object at 0x7fd57c573c60&gt;</td>\n",
       "      <td>[H]F</td>\n",
       "    </tr>\n",
       "    <tr>\n",
       "      <th>22</th>\n",
       "      <td>3</td>\n",
       "      <td>&lt;rdkit.Chem.rdchem.Mol object at 0x7fd5846d9260&gt;</td>\n",
       "      <td>[H]C([H])([H])C(F)(F)F</td>\n",
       "      <td>&lt;rdkit.Chem.rdchem.Mol object at 0x7fd57c58f6c0&gt;</td>\n",
       "      <td>[H]C([H])([H])[C](F)F</td>\n",
       "      <td>65</td>\n",
       "      <td>2783.0</td>\n",
       "      <td>&lt;rdkit.Chem.rdchem.Mol object at 0x7fd57c58f580&gt;</td>\n",
       "      <td>[F]</td>\n",
       "    </tr>\n",
       "    <tr>\n",
       "      <th>23</th>\n",
       "      <td>3</td>\n",
       "      <td>&lt;rdkit.Chem.rdchem.Mol object at 0x7fd5846d9260&gt;</td>\n",
       "      <td>[H]C([H])([H])C(F)(F)F</td>\n",
       "      <td>&lt;rdkit.Chem.rdchem.Mol object at 0x7fd57c58f580&gt;</td>\n",
       "      <td>[F]</td>\n",
       "      <td>19</td>\n",
       "      <td>50.0</td>\n",
       "      <td>&lt;rdkit.Chem.rdchem.Mol object at 0x7fd57c58f6c0&gt;</td>\n",
       "      <td>[H]C([H])([H])[C](F)F</td>\n",
       "    </tr>\n",
       "    <tr>\n",
       "      <th>24</th>\n",
       "      <td>3</td>\n",
       "      <td>&lt;rdkit.Chem.rdchem.Mol object at 0x7fd5846d9260&gt;</td>\n",
       "      <td>[H]C([H])([H])C(F)(F)F</td>\n",
       "      <td>&lt;rdkit.Chem.rdchem.Mol object at 0x7fd57c58f1c0&gt;</td>\n",
       "      <td>[F]</td>\n",
       "      <td>19</td>\n",
       "      <td>50.0</td>\n",
       "      <td>&lt;rdkit.Chem.rdchem.Mol object at 0x7fd57c58f2b0&gt;</td>\n",
       "      <td>[H][C](F)C([H])([H])F</td>\n",
       "    </tr>\n",
       "    <tr>\n",
       "      <th>25</th>\n",
       "      <td>3</td>\n",
       "      <td>&lt;rdkit.Chem.rdchem.Mol object at 0x7fd5846d9260&gt;</td>\n",
       "      <td>[H]C([H])([H])C(F)(F)F</td>\n",
       "      <td>&lt;rdkit.Chem.rdchem.Mol object at 0x7fd57c58f2b0&gt;</td>\n",
       "      <td>[H][C](F)C([H])([H])F</td>\n",
       "      <td>65</td>\n",
       "      <td>2783.0</td>\n",
       "      <td>&lt;rdkit.Chem.rdchem.Mol object at 0x7fd57c58f1c0&gt;</td>\n",
       "      <td>[F]</td>\n",
       "    </tr>\n",
       "    <tr>\n",
       "      <th>26</th>\n",
       "      <td>3</td>\n",
       "      <td>&lt;rdkit.Chem.rdchem.Mol object at 0x7fd5846d9260&gt;</td>\n",
       "      <td>[H]C([H])([H])C(F)(F)F</td>\n",
       "      <td>&lt;rdkit.Chem.rdchem.Mol object at 0x7fd57c58fb20&gt;</td>\n",
       "      <td>[H]F</td>\n",
       "      <td>20</td>\n",
       "      <td>20.0</td>\n",
       "      <td>&lt;rdkit.Chem.rdchem.Mol object at 0x7fd57c58f940&gt;</td>\n",
       "      <td>[H]C([H])(F)[C]F</td>\n",
       "    </tr>\n",
       "    <tr>\n",
       "      <th>27</th>\n",
       "      <td>3</td>\n",
       "      <td>&lt;rdkit.Chem.rdchem.Mol object at 0x7fd5846d9260&gt;</td>\n",
       "      <td>[H]C([H])([H])C(F)(F)F</td>\n",
       "      <td>&lt;rdkit.Chem.rdchem.Mol object at 0x7fd57c58f940&gt;</td>\n",
       "      <td>[H]C([H])(F)[C]F</td>\n",
       "      <td>64</td>\n",
       "      <td>661.0</td>\n",
       "      <td>&lt;rdkit.Chem.rdchem.Mol object at 0x7fd57c58fb20&gt;</td>\n",
       "      <td>[H]F</td>\n",
       "    </tr>\n",
       "    <tr>\n",
       "      <th>28</th>\n",
       "      <td>3</td>\n",
       "      <td>&lt;rdkit.Chem.rdchem.Mol object at 0x7fd5846d9260&gt;</td>\n",
       "      <td>[H]C([H])([H])C(F)(F)F</td>\n",
       "      <td>&lt;rdkit.Chem.rdchem.Mol object at 0x7fd57c58fd00&gt;</td>\n",
       "      <td>FF</td>\n",
       "      <td>38</td>\n",
       "      <td>0.0</td>\n",
       "      <td>&lt;rdkit.Chem.rdchem.Mol object at 0x7fd57c58fdf0&gt;</td>\n",
       "      <td>[H][C]C([H])([H])F</td>\n",
       "    </tr>\n",
       "    <tr>\n",
       "      <th>29</th>\n",
       "      <td>3</td>\n",
       "      <td>&lt;rdkit.Chem.rdchem.Mol object at 0x7fd5846d9260&gt;</td>\n",
       "      <td>[H]C([H])([H])C(F)(F)F</td>\n",
       "      <td>&lt;rdkit.Chem.rdchem.Mol object at 0x7fd57c58fdf0&gt;</td>\n",
       "      <td>[H][C]C([H])([H])F</td>\n",
       "      <td>46</td>\n",
       "      <td>30.0</td>\n",
       "      <td>&lt;rdkit.Chem.rdchem.Mol object at 0x7fd57c58fd00&gt;</td>\n",
       "      <td>FF</td>\n",
       "    </tr>\n",
       "    <tr>\n",
       "      <th>30</th>\n",
       "      <td>3</td>\n",
       "      <td>&lt;rdkit.Chem.rdchem.Mol object at 0x7fd5846d9260&gt;</td>\n",
       "      <td>[H]C([H])([H])C(F)(F)F</td>\n",
       "      <td>&lt;rdkit.Chem.rdchem.Mol object at 0x7fd57c547800&gt;</td>\n",
       "      <td>FF</td>\n",
       "      <td>38</td>\n",
       "      <td>0.0</td>\n",
       "      <td>&lt;rdkit.Chem.rdchem.Mol object at 0x7fd58884b440&gt;</td>\n",
       "      <td>[H]C([H])([H])[C]F</td>\n",
       "    </tr>\n",
       "    <tr>\n",
       "      <th>31</th>\n",
       "      <td>3</td>\n",
       "      <td>&lt;rdkit.Chem.rdchem.Mol object at 0x7fd5846d9260&gt;</td>\n",
       "      <td>[H]C([H])([H])C(F)(F)F</td>\n",
       "      <td>&lt;rdkit.Chem.rdchem.Mol object at 0x7fd58884b440&gt;</td>\n",
       "      <td>[H]C([H])([H])[C]F</td>\n",
       "      <td>46</td>\n",
       "      <td>30.0</td>\n",
       "      <td>&lt;rdkit.Chem.rdchem.Mol object at 0x7fd57c547800&gt;</td>\n",
       "      <td>FF</td>\n",
       "    </tr>\n",
       "    <tr>\n",
       "      <th>32</th>\n",
       "      <td>3</td>\n",
       "      <td>&lt;rdkit.Chem.rdchem.Mol object at 0x7fd5846d9260&gt;</td>\n",
       "      <td>[H]C([H])([H])C(F)(F)F</td>\n",
       "      <td>&lt;rdkit.Chem.rdchem.Mol object at 0x7fd57c580c60&gt;</td>\n",
       "      <td>[H][C][H]</td>\n",
       "      <td>14</td>\n",
       "      <td>290.0</td>\n",
       "      <td>&lt;rdkit.Chem.rdchem.Mol object at 0x7fd57c5808a0&gt;</td>\n",
       "      <td>[H]C(F)(F)F</td>\n",
       "    </tr>\n",
       "    <tr>\n",
       "      <th>33</th>\n",
       "      <td>3</td>\n",
       "      <td>&lt;rdkit.Chem.rdchem.Mol object at 0x7fd5846d9260&gt;</td>\n",
       "      <td>[H]C([H])([H])C(F)(F)F</td>\n",
       "      <td>&lt;rdkit.Chem.rdchem.Mol object at 0x7fd57c5808a0&gt;</td>\n",
       "      <td>[H]C(F)(F)F</td>\n",
       "      <td>70</td>\n",
       "      <td>110.0</td>\n",
       "      <td>&lt;rdkit.Chem.rdchem.Mol object at 0x7fd57c580c60&gt;</td>\n",
       "      <td>[H][C][H]</td>\n",
       "    </tr>\n",
       "    <tr>\n",
       "      <th>34</th>\n",
       "      <td>3</td>\n",
       "      <td>&lt;rdkit.Chem.rdchem.Mol object at 0x7fd5846d9260&gt;</td>\n",
       "      <td>[H]C([H])([H])C(F)(F)F</td>\n",
       "      <td>&lt;rdkit.Chem.rdchem.Mol object at 0x7fd584746d50&gt;</td>\n",
       "      <td>F[C](F)F</td>\n",
       "      <td>69</td>\n",
       "      <td>9999.0</td>\n",
       "      <td>&lt;rdkit.Chem.rdchem.Mol object at 0x7fd584746f80&gt;</td>\n",
       "      <td>[H][C]([H])[H]</td>\n",
       "    </tr>\n",
       "    <tr>\n",
       "      <th>35</th>\n",
       "      <td>3</td>\n",
       "      <td>&lt;rdkit.Chem.rdchem.Mol object at 0x7fd5846d9260&gt;</td>\n",
       "      <td>[H]C([H])([H])C(F)(F)F</td>\n",
       "      <td>&lt;rdkit.Chem.rdchem.Mol object at 0x7fd584746f80&gt;</td>\n",
       "      <td>[H][C]([H])[H]</td>\n",
       "      <td>15</td>\n",
       "      <td>911.0</td>\n",
       "      <td>&lt;rdkit.Chem.rdchem.Mol object at 0x7fd584746d50&gt;</td>\n",
       "      <td>F[C](F)F</td>\n",
       "    </tr>\n",
       "    <tr>\n",
       "      <th>36</th>\n",
       "      <td>3</td>\n",
       "      <td>&lt;rdkit.Chem.rdchem.Mol object at 0x7fd5846d9260&gt;</td>\n",
       "      <td>[H]C([H])([H])C(F)(F)F</td>\n",
       "      <td>&lt;rdkit.Chem.rdchem.Mol object at 0x7fd57c5a55d0&gt;</td>\n",
       "      <td>[H][C]F</td>\n",
       "      <td>32</td>\n",
       "      <td>120.0</td>\n",
       "      <td>&lt;rdkit.Chem.rdchem.Mol object at 0x7fd57c5a5c60&gt;</td>\n",
       "      <td>[H]C([H])(F)F</td>\n",
       "    </tr>\n",
       "    <tr>\n",
       "      <th>37</th>\n",
       "      <td>3</td>\n",
       "      <td>&lt;rdkit.Chem.rdchem.Mol object at 0x7fd5846d9260&gt;</td>\n",
       "      <td>[H]C([H])([H])C(F)(F)F</td>\n",
       "      <td>&lt;rdkit.Chem.rdchem.Mol object at 0x7fd57c5a5c60&gt;</td>\n",
       "      <td>[H]C([H])(F)F</td>\n",
       "      <td>52</td>\n",
       "      <td>10.0</td>\n",
       "      <td>&lt;rdkit.Chem.rdchem.Mol object at 0x7fd57c5a55d0&gt;</td>\n",
       "      <td>[H][C]F</td>\n",
       "    </tr>\n",
       "    <tr>\n",
       "      <th>38</th>\n",
       "      <td>3</td>\n",
       "      <td>&lt;rdkit.Chem.rdchem.Mol object at 0x7fd5846d9260&gt;</td>\n",
       "      <td>[H]C([H])([H])C(F)(F)F</td>\n",
       "      <td>&lt;rdkit.Chem.rdchem.Mol object at 0x7fd57c5a5210&gt;</td>\n",
       "      <td>[H][C](F)F</td>\n",
       "      <td>51</td>\n",
       "      <td>160.0</td>\n",
       "      <td>&lt;rdkit.Chem.rdchem.Mol object at 0x7fd57c5a5030&gt;</td>\n",
       "      <td>[H][C]([H])F</td>\n",
       "    </tr>\n",
       "    <tr>\n",
       "      <th>39</th>\n",
       "      <td>3</td>\n",
       "      <td>&lt;rdkit.Chem.rdchem.Mol object at 0x7fd5846d9260&gt;</td>\n",
       "      <td>[H]C([H])([H])C(F)(F)F</td>\n",
       "      <td>&lt;rdkit.Chem.rdchem.Mol object at 0x7fd57c5a5030&gt;</td>\n",
       "      <td>[H][C]([H])F</td>\n",
       "      <td>33</td>\n",
       "      <td>781.0</td>\n",
       "      <td>&lt;rdkit.Chem.rdchem.Mol object at 0x7fd57c5a5210&gt;</td>\n",
       "      <td>[H][C](F)F</td>\n",
       "    </tr>\n",
       "    <tr>\n",
       "      <th>40</th>\n",
       "      <td>3</td>\n",
       "      <td>&lt;rdkit.Chem.rdchem.Mol object at 0x7fd5846d9260&gt;</td>\n",
       "      <td>[H]C([H])([H])C(F)(F)F</td>\n",
       "      <td>&lt;rdkit.Chem.rdchem.Mol object at 0x7fd57c5a0c60&gt;</td>\n",
       "      <td>[H]C([H])([H])F</td>\n",
       "      <td>34</td>\n",
       "      <td>10.0</td>\n",
       "      <td>&lt;rdkit.Chem.rdchem.Mol object at 0x7fd57c5a0c10&gt;</td>\n",
       "      <td>F[C]F</td>\n",
       "    </tr>\n",
       "    <tr>\n",
       "      <th>41</th>\n",
       "      <td>3</td>\n",
       "      <td>&lt;rdkit.Chem.rdchem.Mol object at 0x7fd5846d9260&gt;</td>\n",
       "      <td>[H]C([H])([H])C(F)(F)F</td>\n",
       "      <td>&lt;rdkit.Chem.rdchem.Mol object at 0x7fd57c5a0c10&gt;</td>\n",
       "      <td>F[C]F</td>\n",
       "      <td>50</td>\n",
       "      <td>120.0</td>\n",
       "      <td>&lt;rdkit.Chem.rdchem.Mol object at 0x7fd57c5a0c60&gt;</td>\n",
       "      <td>[H]C([H])([H])F</td>\n",
       "    </tr>\n",
       "  </tbody>\n",
       "</table>\n",
       "</div>"
      ],
      "text/plain": [
       "    source_mol_no                                            source  \\\n",
       "0               3  <rdkit.Chem.rdchem.Mol object at 0x7fd5846d9260>   \n",
       "1               3  <rdkit.Chem.rdchem.Mol object at 0x7fd5846d9260>   \n",
       "2               3  <rdkit.Chem.rdchem.Mol object at 0x7fd5846d9260>   \n",
       "3               3  <rdkit.Chem.rdchem.Mol object at 0x7fd5846d9260>   \n",
       "4               3  <rdkit.Chem.rdchem.Mol object at 0x7fd5846d9260>   \n",
       "5               3  <rdkit.Chem.rdchem.Mol object at 0x7fd5846d9260>   \n",
       "6               3  <rdkit.Chem.rdchem.Mol object at 0x7fd5846d9260>   \n",
       "7               3  <rdkit.Chem.rdchem.Mol object at 0x7fd5846d9260>   \n",
       "8               3  <rdkit.Chem.rdchem.Mol object at 0x7fd5846d9260>   \n",
       "9               3  <rdkit.Chem.rdchem.Mol object at 0x7fd5846d9260>   \n",
       "10              3  <rdkit.Chem.rdchem.Mol object at 0x7fd5846d9260>   \n",
       "11              3  <rdkit.Chem.rdchem.Mol object at 0x7fd5846d9260>   \n",
       "12              3  <rdkit.Chem.rdchem.Mol object at 0x7fd5846d9260>   \n",
       "13              3  <rdkit.Chem.rdchem.Mol object at 0x7fd5846d9260>   \n",
       "14              3  <rdkit.Chem.rdchem.Mol object at 0x7fd5846d9260>   \n",
       "15              3  <rdkit.Chem.rdchem.Mol object at 0x7fd5846d9260>   \n",
       "16              3  <rdkit.Chem.rdchem.Mol object at 0x7fd5846d9260>   \n",
       "17              3  <rdkit.Chem.rdchem.Mol object at 0x7fd5846d9260>   \n",
       "18              3  <rdkit.Chem.rdchem.Mol object at 0x7fd5846d9260>   \n",
       "19              3  <rdkit.Chem.rdchem.Mol object at 0x7fd5846d9260>   \n",
       "20              3  <rdkit.Chem.rdchem.Mol object at 0x7fd5846d9260>   \n",
       "21              3  <rdkit.Chem.rdchem.Mol object at 0x7fd5846d9260>   \n",
       "22              3  <rdkit.Chem.rdchem.Mol object at 0x7fd5846d9260>   \n",
       "23              3  <rdkit.Chem.rdchem.Mol object at 0x7fd5846d9260>   \n",
       "24              3  <rdkit.Chem.rdchem.Mol object at 0x7fd5846d9260>   \n",
       "25              3  <rdkit.Chem.rdchem.Mol object at 0x7fd5846d9260>   \n",
       "26              3  <rdkit.Chem.rdchem.Mol object at 0x7fd5846d9260>   \n",
       "27              3  <rdkit.Chem.rdchem.Mol object at 0x7fd5846d9260>   \n",
       "28              3  <rdkit.Chem.rdchem.Mol object at 0x7fd5846d9260>   \n",
       "29              3  <rdkit.Chem.rdchem.Mol object at 0x7fd5846d9260>   \n",
       "30              3  <rdkit.Chem.rdchem.Mol object at 0x7fd5846d9260>   \n",
       "31              3  <rdkit.Chem.rdchem.Mol object at 0x7fd5846d9260>   \n",
       "32              3  <rdkit.Chem.rdchem.Mol object at 0x7fd5846d9260>   \n",
       "33              3  <rdkit.Chem.rdchem.Mol object at 0x7fd5846d9260>   \n",
       "34              3  <rdkit.Chem.rdchem.Mol object at 0x7fd5846d9260>   \n",
       "35              3  <rdkit.Chem.rdchem.Mol object at 0x7fd5846d9260>   \n",
       "36              3  <rdkit.Chem.rdchem.Mol object at 0x7fd5846d9260>   \n",
       "37              3  <rdkit.Chem.rdchem.Mol object at 0x7fd5846d9260>   \n",
       "38              3  <rdkit.Chem.rdchem.Mol object at 0x7fd5846d9260>   \n",
       "39              3  <rdkit.Chem.rdchem.Mol object at 0x7fd5846d9260>   \n",
       "40              3  <rdkit.Chem.rdchem.Mol object at 0x7fd5846d9260>   \n",
       "41              3  <rdkit.Chem.rdchem.Mol object at 0x7fd5846d9260>   \n",
       "\n",
       "             source_smiles                                    candidate_frag  \\\n",
       "0   [H]C([H])([H])C(F)(F)F  <rdkit.Chem.rdchem.Mol object at 0x7fd5799817b0>   \n",
       "1   [H]C([H])([H])C(F)(F)F  <rdkit.Chem.rdchem.Mol object at 0x7fd579981210>   \n",
       "2   [H]C([H])([H])C(F)(F)F  <rdkit.Chem.rdchem.Mol object at 0x7fd57995a940>   \n",
       "3   [H]C([H])([H])C(F)(F)F  <rdkit.Chem.rdchem.Mol object at 0x7fd579981ee0>   \n",
       "4   [H]C([H])([H])C(F)(F)F  <rdkit.Chem.rdchem.Mol object at 0x7fd5798d1710>   \n",
       "5   [H]C([H])([H])C(F)(F)F  <rdkit.Chem.rdchem.Mol object at 0x7fd5798d1530>   \n",
       "6   [H]C([H])([H])C(F)(F)F  <rdkit.Chem.rdchem.Mol object at 0x7fd57993bf80>   \n",
       "7   [H]C([H])([H])C(F)(F)F  <rdkit.Chem.rdchem.Mol object at 0x7fd57993b2b0>   \n",
       "8   [H]C([H])([H])C(F)(F)F  <rdkit.Chem.rdchem.Mol object at 0x7fd579881170>   \n",
       "9   [H]C([H])([H])C(F)(F)F  <rdkit.Chem.rdchem.Mol object at 0x7fd5798810d0>   \n",
       "10  [H]C([H])([H])C(F)(F)F  <rdkit.Chem.rdchem.Mol object at 0x7fd5798818a0>   \n",
       "11  [H]C([H])([H])C(F)(F)F  <rdkit.Chem.rdchem.Mol object at 0x7fd5799ae120>   \n",
       "12  [H]C([H])([H])C(F)(F)F  <rdkit.Chem.rdchem.Mol object at 0x7fd5798613a0>   \n",
       "13  [H]C([H])([H])C(F)(F)F  <rdkit.Chem.rdchem.Mol object at 0x7fd579861440>   \n",
       "14  [H]C([H])([H])C(F)(F)F  <rdkit.Chem.rdchem.Mol object at 0x7fd579861260>   \n",
       "15  [H]C([H])([H])C(F)(F)F  <rdkit.Chem.rdchem.Mol object at 0x7fd579861c60>   \n",
       "16  [H]C([H])([H])C(F)(F)F  <rdkit.Chem.rdchem.Mol object at 0x7fd5798619e0>   \n",
       "17  [H]C([H])([H])C(F)(F)F  <rdkit.Chem.rdchem.Mol object at 0x7fd579861940>   \n",
       "18  [H]C([H])([H])C(F)(F)F  <rdkit.Chem.rdchem.Mol object at 0x7fd57c573da0>   \n",
       "19  [H]C([H])([H])C(F)(F)F  <rdkit.Chem.rdchem.Mol object at 0x7fd57c573c10>   \n",
       "20  [H]C([H])([H])C(F)(F)F  <rdkit.Chem.rdchem.Mol object at 0x7fd57c573c60>   \n",
       "21  [H]C([H])([H])C(F)(F)F  <rdkit.Chem.rdchem.Mol object at 0x7fd57c573760>   \n",
       "22  [H]C([H])([H])C(F)(F)F  <rdkit.Chem.rdchem.Mol object at 0x7fd57c58f6c0>   \n",
       "23  [H]C([H])([H])C(F)(F)F  <rdkit.Chem.rdchem.Mol object at 0x7fd57c58f580>   \n",
       "24  [H]C([H])([H])C(F)(F)F  <rdkit.Chem.rdchem.Mol object at 0x7fd57c58f1c0>   \n",
       "25  [H]C([H])([H])C(F)(F)F  <rdkit.Chem.rdchem.Mol object at 0x7fd57c58f2b0>   \n",
       "26  [H]C([H])([H])C(F)(F)F  <rdkit.Chem.rdchem.Mol object at 0x7fd57c58fb20>   \n",
       "27  [H]C([H])([H])C(F)(F)F  <rdkit.Chem.rdchem.Mol object at 0x7fd57c58f940>   \n",
       "28  [H]C([H])([H])C(F)(F)F  <rdkit.Chem.rdchem.Mol object at 0x7fd57c58fd00>   \n",
       "29  [H]C([H])([H])C(F)(F)F  <rdkit.Chem.rdchem.Mol object at 0x7fd57c58fdf0>   \n",
       "30  [H]C([H])([H])C(F)(F)F  <rdkit.Chem.rdchem.Mol object at 0x7fd57c547800>   \n",
       "31  [H]C([H])([H])C(F)(F)F  <rdkit.Chem.rdchem.Mol object at 0x7fd58884b440>   \n",
       "32  [H]C([H])([H])C(F)(F)F  <rdkit.Chem.rdchem.Mol object at 0x7fd57c580c60>   \n",
       "33  [H]C([H])([H])C(F)(F)F  <rdkit.Chem.rdchem.Mol object at 0x7fd57c5808a0>   \n",
       "34  [H]C([H])([H])C(F)(F)F  <rdkit.Chem.rdchem.Mol object at 0x7fd584746d50>   \n",
       "35  [H]C([H])([H])C(F)(F)F  <rdkit.Chem.rdchem.Mol object at 0x7fd584746f80>   \n",
       "36  [H]C([H])([H])C(F)(F)F  <rdkit.Chem.rdchem.Mol object at 0x7fd57c5a55d0>   \n",
       "37  [H]C([H])([H])C(F)(F)F  <rdkit.Chem.rdchem.Mol object at 0x7fd57c5a5c60>   \n",
       "38  [H]C([H])([H])C(F)(F)F  <rdkit.Chem.rdchem.Mol object at 0x7fd57c5a5210>   \n",
       "39  [H]C([H])([H])C(F)(F)F  <rdkit.Chem.rdchem.Mol object at 0x7fd57c5a5030>   \n",
       "40  [H]C([H])([H])C(F)(F)F  <rdkit.Chem.rdchem.Mol object at 0x7fd57c5a0c60>   \n",
       "41  [H]C([H])([H])C(F)(F)F  <rdkit.Chem.rdchem.Mol object at 0x7fd57c5a0c10>   \n",
       "\n",
       "    candidate_frag_smiles  weight  intensity  \\\n",
       "0                  [H][H]       2       30.0   \n",
       "1           [H]C(F)=C(F)F      82       30.0   \n",
       "2                    [H]F      20       20.0   \n",
       "3         [H]C([H])=C(F)F      64      661.0   \n",
       "4                    [H]F      20       20.0   \n",
       "5         [H]C(F)=C([H])F      64      661.0   \n",
       "6                      FF      38        0.0   \n",
       "7       [H]C([H])=C([H])F      46       30.0   \n",
       "8     [H][C]([H])C(F)(F)F      83      130.0   \n",
       "9                     [H]       1        0.0   \n",
       "10                 [H][H]       2       30.0   \n",
       "11         [H][C]C(F)(F)F      82       30.0   \n",
       "12                    [H]       1        0.0   \n",
       "13    [H][C](F)C([H])(F)F      83      130.0   \n",
       "14                 [H][H]       2       30.0   \n",
       "15         [H]C(F)(F)[C]F      82       30.0   \n",
       "16                    [H]       1        0.0   \n",
       "17    [H]C([H])(F)[C](F)F      83      130.0   \n",
       "18                    [F]      19       50.0   \n",
       "19  [H][C]([H])C([H])(F)F      65     2783.0   \n",
       "20                   [H]F      20       20.0   \n",
       "21       [H][C]C([H])(F)F      64      661.0   \n",
       "22  [H]C([H])([H])[C](F)F      65     2783.0   \n",
       "23                    [F]      19       50.0   \n",
       "24                    [F]      19       50.0   \n",
       "25  [H][C](F)C([H])([H])F      65     2783.0   \n",
       "26                   [H]F      20       20.0   \n",
       "27       [H]C([H])(F)[C]F      64      661.0   \n",
       "28                     FF      38        0.0   \n",
       "29     [H][C]C([H])([H])F      46       30.0   \n",
       "30                     FF      38        0.0   \n",
       "31     [H]C([H])([H])[C]F      46       30.0   \n",
       "32              [H][C][H]      14      290.0   \n",
       "33            [H]C(F)(F)F      70      110.0   \n",
       "34               F[C](F)F      69     9999.0   \n",
       "35         [H][C]([H])[H]      15      911.0   \n",
       "36                [H][C]F      32      120.0   \n",
       "37          [H]C([H])(F)F      52       10.0   \n",
       "38             [H][C](F)F      51      160.0   \n",
       "39           [H][C]([H])F      33      781.0   \n",
       "40        [H]C([H])([H])F      34       10.0   \n",
       "41                  F[C]F      50      120.0   \n",
       "\n",
       "                                       other_frag_00   other_frag_00_smiles  \n",
       "0   <rdkit.Chem.rdchem.Mol object at 0x7fd579981210>          [H]C(F)=C(F)F  \n",
       "1   <rdkit.Chem.rdchem.Mol object at 0x7fd5799817b0>                 [H][H]  \n",
       "2   <rdkit.Chem.rdchem.Mol object at 0x7fd579981ee0>        [H]C([H])=C(F)F  \n",
       "3   <rdkit.Chem.rdchem.Mol object at 0x7fd57995a940>                   [H]F  \n",
       "4   <rdkit.Chem.rdchem.Mol object at 0x7fd5798d1530>        [H]C(F)=C([H])F  \n",
       "5   <rdkit.Chem.rdchem.Mol object at 0x7fd5798d1710>                   [H]F  \n",
       "6   <rdkit.Chem.rdchem.Mol object at 0x7fd57993b2b0>      [H]C([H])=C([H])F  \n",
       "7   <rdkit.Chem.rdchem.Mol object at 0x7fd57993bf80>                     FF  \n",
       "8   <rdkit.Chem.rdchem.Mol object at 0x7fd5798810d0>                    [H]  \n",
       "9   <rdkit.Chem.rdchem.Mol object at 0x7fd579881170>    [H][C]([H])C(F)(F)F  \n",
       "10  <rdkit.Chem.rdchem.Mol object at 0x7fd5799ae120>         [H][C]C(F)(F)F  \n",
       "11  <rdkit.Chem.rdchem.Mol object at 0x7fd5798818a0>                 [H][H]  \n",
       "12  <rdkit.Chem.rdchem.Mol object at 0x7fd579861440>    [H][C](F)C([H])(F)F  \n",
       "13  <rdkit.Chem.rdchem.Mol object at 0x7fd5798613a0>                    [H]  \n",
       "14  <rdkit.Chem.rdchem.Mol object at 0x7fd579861c60>         [H]C(F)(F)[C]F  \n",
       "15  <rdkit.Chem.rdchem.Mol object at 0x7fd579861260>                 [H][H]  \n",
       "16  <rdkit.Chem.rdchem.Mol object at 0x7fd579861940>    [H]C([H])(F)[C](F)F  \n",
       "17  <rdkit.Chem.rdchem.Mol object at 0x7fd5798619e0>                    [H]  \n",
       "18  <rdkit.Chem.rdchem.Mol object at 0x7fd57c573c10>  [H][C]([H])C([H])(F)F  \n",
       "19  <rdkit.Chem.rdchem.Mol object at 0x7fd57c573da0>                    [F]  \n",
       "20  <rdkit.Chem.rdchem.Mol object at 0x7fd57c573760>       [H][C]C([H])(F)F  \n",
       "21  <rdkit.Chem.rdchem.Mol object at 0x7fd57c573c60>                   [H]F  \n",
       "22  <rdkit.Chem.rdchem.Mol object at 0x7fd57c58f580>                    [F]  \n",
       "23  <rdkit.Chem.rdchem.Mol object at 0x7fd57c58f6c0>  [H]C([H])([H])[C](F)F  \n",
       "24  <rdkit.Chem.rdchem.Mol object at 0x7fd57c58f2b0>  [H][C](F)C([H])([H])F  \n",
       "25  <rdkit.Chem.rdchem.Mol object at 0x7fd57c58f1c0>                    [F]  \n",
       "26  <rdkit.Chem.rdchem.Mol object at 0x7fd57c58f940>       [H]C([H])(F)[C]F  \n",
       "27  <rdkit.Chem.rdchem.Mol object at 0x7fd57c58fb20>                   [H]F  \n",
       "28  <rdkit.Chem.rdchem.Mol object at 0x7fd57c58fdf0>     [H][C]C([H])([H])F  \n",
       "29  <rdkit.Chem.rdchem.Mol object at 0x7fd57c58fd00>                     FF  \n",
       "30  <rdkit.Chem.rdchem.Mol object at 0x7fd58884b440>     [H]C([H])([H])[C]F  \n",
       "31  <rdkit.Chem.rdchem.Mol object at 0x7fd57c547800>                     FF  \n",
       "32  <rdkit.Chem.rdchem.Mol object at 0x7fd57c5808a0>            [H]C(F)(F)F  \n",
       "33  <rdkit.Chem.rdchem.Mol object at 0x7fd57c580c60>              [H][C][H]  \n",
       "34  <rdkit.Chem.rdchem.Mol object at 0x7fd584746f80>         [H][C]([H])[H]  \n",
       "35  <rdkit.Chem.rdchem.Mol object at 0x7fd584746d50>               F[C](F)F  \n",
       "36  <rdkit.Chem.rdchem.Mol object at 0x7fd57c5a5c60>          [H]C([H])(F)F  \n",
       "37  <rdkit.Chem.rdchem.Mol object at 0x7fd57c5a55d0>                [H][C]F  \n",
       "38  <rdkit.Chem.rdchem.Mol object at 0x7fd57c5a5030>           [H][C]([H])F  \n",
       "39  <rdkit.Chem.rdchem.Mol object at 0x7fd57c5a5210>             [H][C](F)F  \n",
       "40  <rdkit.Chem.rdchem.Mol object at 0x7fd57c5a0c10>                  F[C]F  \n",
       "41  <rdkit.Chem.rdchem.Mol object at 0x7fd57c5a0c60>        [H]C([H])([H])F  "
      ]
     },
     "execution_count": 27,
     "metadata": {},
     "output_type": "execute_result"
    }
   ],
   "source": [
    "df=pd.DataFrame(frag_data)\n",
    "df"
   ]
  },
  {
   "cell_type": "code",
   "execution_count": 28,
   "metadata": {},
   "outputs": [],
   "source": [
    "desc_list = Descriptors.descList"
   ]
  },
  {
   "cell_type": "code",
   "execution_count": 29,
   "metadata": {
    "scrolled": true
   },
   "outputs": [
    {
     "name": "stderr",
     "output_type": "stream",
     "text": [
      "RDKit WARNING: [11:00:11] WARNING: not removing hydrogen atom without neighbors\n",
      "RDKit WARNING: [11:00:11] WARNING: not removing hydrogen atom without neighbors\n",
      "RDKit WARNING: [11:00:11] WARNING: not removing hydrogen atom without neighbors\n",
      "RDKit WARNING: [11:00:11] WARNING: not removing hydrogen atom without neighbors\n",
      "RDKit WARNING: [11:00:11] WARNING: not removing hydrogen atom without neighbors\n",
      "RDKit WARNING: [11:00:11] WARNING: not removing hydrogen atom without neighbors\n"
     ]
    }
   ],
   "source": [
    "# 候補フラグメントのデータについて記述子を計算\n",
    "desc_data=[]\n",
    "invalid_desc_set=set()\n",
    "for index,row in df.iterrows():\n",
    "    c_mol=row[\"candidate_frag\"]\n",
    "    desc_dict={}\n",
    "    for desc,func in desc_list:\n",
    "        try:\n",
    "            desc_dict[desc]=func(c_mol)\n",
    "        except:\n",
    "            # エラーが発生したものについてはpd.NAを代入\n",
    "            invalid_desc_set.add(desc)\n",
    "            desc_dict[desc]=pd.NA\n",
    "    desc_data.append(desc_dict)"
   ]
  },
  {
   "cell_type": "code",
   "execution_count": 30,
   "metadata": {},
   "outputs": [],
   "source": [
    "cand_desc_df=pd.DataFrame(desc_data)\n",
    "# 欠損値のある列を削除する\n",
    "cand_desc_df=cand_desc_df.dropna(how=\"any\",axis=1)\n",
    "\n",
    "# 有効な値が入っている記述子のみ抽出する\n",
    "eff_desc_list=[]\n",
    "cand_rename_dict={}\n",
    "for desc in cand_desc_df:\n",
    "    if cand_desc_df[desc].std() >0:\n",
    "        eff_desc_list.append(desc)\n",
    "        cand_rename_dict[desc]=\"cand_frag_\"+desc\n",
    "        \n",
    "cand_desc_df=cand_desc_df[eff_desc_list]     \n",
    "cand_desc_df=cand_desc_df.rename(columns=cand_rename_dict)"
   ]
  },
  {
   "cell_type": "code",
   "execution_count": 31,
   "metadata": {},
   "outputs": [
    {
     "name": "stderr",
     "output_type": "stream",
     "text": [
      "RDKit WARNING: [11:00:12] WARNING: not removing hydrogen atom without neighbors\n",
      "RDKit WARNING: [11:00:12] WARNING: not removing hydrogen atom without neighbors\n",
      "RDKit WARNING: [11:00:12] WARNING: not removing hydrogen atom without neighbors\n"
     ]
    }
   ],
   "source": [
    "# もう片方のフラグメントのデータについて記述子を計算\n",
    "desc_data=[]\n",
    "invalid_desc_set=set()\n",
    "for index,row in df.iterrows():\n",
    "    o_mol=row[\"other_frag_00\"]\n",
    "    desc_dict={}\n",
    "    for desc,func in desc_list:\n",
    "        try:\n",
    "            desc_dict[desc]=func(o_mol)\n",
    "        except:\n",
    "            invalid_desc_set.add(desc)\n",
    "            desc_dict[desc]=pd.NA\n",
    "    desc_data.append(desc_dict)"
   ]
  },
  {
   "cell_type": "code",
   "execution_count": 32,
   "metadata": {},
   "outputs": [],
   "source": [
    "other_desc_df=pd.DataFrame(desc_data)\n",
    "other_desc_df=other_desc_df.dropna(how=\"any\",axis=1)\n",
    "\n",
    "eff_desc_list=[]\n",
    "other_rename_dict={}\n",
    "for desc in other_desc_df:\n",
    "    if other_desc_df[desc].std() >0:\n",
    "        eff_desc_list.append(desc)\n",
    "        other_rename_dict[desc]=\"other_frag_\"+desc\n",
    "        \n",
    "other_desc_df=other_desc_df[eff_desc_list]        \n",
    "other_desc_df=other_desc_df.rename(columns=other_rename_dict)"
   ]
  },
  {
   "cell_type": "code",
   "execution_count": 33,
   "metadata": {
    "scrolled": true
   },
   "outputs": [],
   "source": [
    "whole_data=pd.concat([df,cand_desc_df,other_desc_df],axis=1)"
   ]
  },
  {
   "cell_type": "code",
   "execution_count": 34,
   "metadata": {},
   "outputs": [],
   "source": [
    "null_data=whole_data.isnull().sum()\n",
    "for col,val in null_data.iteritems():\n",
    "    if val>0:\n",
    "        print(col,val)"
   ]
  },
  {
   "cell_type": "code",
   "execution_count": 35,
   "metadata": {
    "scrolled": true
   },
   "outputs": [],
   "source": [
    "X=whole_data[list(cand_rename_dict.values())+list(other_rename_dict.values())].values\n",
    "Y=whole_data[\"intensity\"].values"
   ]
  },
  {
   "cell_type": "code",
   "execution_count": 36,
   "metadata": {},
   "outputs": [
    {
     "data": {
      "text/plain": [
       "LinearRegression()"
      ]
     },
     "execution_count": 36,
     "metadata": {},
     "output_type": "execute_result"
    }
   ],
   "source": [
    "from sklearn.linear_model import LinearRegression\n",
    "lr = LinearRegression()\n",
    "lr.fit(X,Y)"
   ]
  },
  {
   "cell_type": "code",
   "execution_count": 37,
   "metadata": {},
   "outputs": [
    {
     "data": {
      "text/plain": [
       "[<matplotlib.lines.Line2D at 0x7fd584684430>]"
      ]
     },
     "execution_count": 37,
     "metadata": {},
     "output_type": "execute_result"
    },
    {
     "data": {
      "image/png": "[encoded data removed]",
      "text/plain": [
       "<Figure size 432x288 with 1 Axes>"
      ]
     },
     "metadata": {
      "needs_background": "light"
     },
     "output_type": "display_data"
    }
   ],
   "source": [
    "est_intensity=np.maximum(lr.predict(X),0)\n",
    "plt.plot(Y,est_intensity,'o')"
   ]
  },
  {
   "cell_type": "code",
   "execution_count": 165,
   "metadata": {},
   "outputs": [
    {
     "data": {
      "text/plain": [
       "1.0"
      ]
     },
     "execution_count": 165,
     "metadata": {},
     "output_type": "execute_result"
    }
   ],
   "source": [
    "desc_to_func[\"FractionCSP3\"](sp3_mol)"
   ]
  },
  {
   "cell_type": "code",
   "execution_count": 164,
   "metadata": {
    "collapsed": true
   },
   "outputs": [
    {
     "data": {
      "image/png": "[encoded data removed]",
      "text/plain": [
       "<rdkit.Chem.rdchem.Mol at 0x7f614034e8a0>"
      ]
     },
     "execution_count": 164,
     "metadata": {},
     "output_type": "execute_result"
    }
   ],
   "source": [
    "sp3_mol=Chem.MolFromSmiles(\"[H]C([H])(F)F\")\n",
    "sp3_mol=Chem.AddHs(sp3_mol)\n",
    "sp3_mol"
   ]
  },
  {
   "cell_type": "code",
   "execution_count": 169,
   "metadata": {},
   "outputs": [
    {
     "data": {
      "image/png": "[encoded data removed]",
      "text/plain": [
       "<rdkit.Chem.rdchem.Mol at 0x7fc22d4490d0>"
      ]
     },
     "execution_count": 169,
     "metadata": {},
     "output_type": "execute_result"
    }
   ],
   "source": []
  },
  {
   "cell_type": "code",
   "execution_count": 142,
   "metadata": {},
   "outputs": [],
   "source": [
    "desc_list=Descriptors.descList\n",
    "len(desc_list)\n",
    "desc_name_2_func={}\n",
    "for name,func in desc_list:\n",
    "    desc_name_2_func[name]=func"
   ]
  },
  {
   "cell_type": "code",
   "execution_count": 153,
   "metadata": {},
   "outputs": [
    {
     "name": "stdout",
     "output_type": "stream",
     "text": [
      "6\n",
      "0\n",
      "6\n",
      "2\n",
      "4\n",
      "8\n",
      "4\n",
      "5\n",
      "0\n",
      "5\n",
      "5\n",
      "0\n",
      "2\n",
      "6\n",
      "2\n",
      "5\n",
      "0\n",
      "4\n",
      "2\n",
      "4\n",
      "4\n",
      "2\n",
      "2\n",
      "7\n",
      "4\n",
      "4\n",
      "4\n",
      "7\n",
      "5\n",
      "1\n",
      "5\n",
      "2\n",
      "4\n",
      "6\n",
      "2\n",
      "8\n",
      "3\n",
      "3\n"
     ]
    }
   ],
   "source": [
    "for s_mol in s_mol_list:\n",
    "    maccs_sum=np.sum(\n",
    "        list(AllChem.GetMACCSKeysFingerprint(s_mol)))\n",
    "    print(maccs_sum)"
   ]
  },
  {
   "cell_type": "code",
   "execution_count": 57,
   "metadata": {},
   "outputs": [],
   "source": [
    "s_mol\n",
    "for atm in s_mol.GetAtoms():\n",
    "    num_rad=atm.GetNumRadicalElectrons()\n",
    "    if num_rad>0:\n",
    "        atm.SetNumRadicalElectrons(0)\n",
    "        atm.SetNumExplicitHs(num_rad)"
   ]
  },
  {
   "cell_type": "code",
   "execution_count": 81,
   "metadata": {
    "scrolled": true
   },
   "outputs": [
    {
     "data": {
      "image/png": "[encoded data removed]",
      "text/plain": [
       "<rdkit.Chem.rdchem.Mol at 0x7fc22d380530>"
      ]
     },
     "execution_count": 81,
     "metadata": {},
     "output_type": "execute_result"
    }
   ],
   "source": [
    "s_mol"
   ]
  },
  {
   "cell_type": "code",
   "execution_count": 64,
   "metadata": {},
   "outputs": [],
   "source": [
    "noH_mol=Chem.RemoveHs(mol)\n",
    "noS_mol=Chem.AddHs(s_mol)"
   ]
  },
  {
   "cell_type": "code",
   "execution_count": 65,
   "metadata": {
    "scrolled": true
   },
   "outputs": [
    {
     "data": {
      "image/png": "[encoded data removed]",
      "text/plain": [
       "<rdkit.Chem.rdchem.Mol at 0x7fc22ca49c10>"
      ]
     },
     "execution_count": 65,
     "metadata": {},
     "output_type": "execute_result"
    }
   ],
   "source": [
    "noS_mol"
   ]
  },
  {
   "cell_type": "code",
   "execution_count": 68,
   "metadata": {},
   "outputs": [
    {
     "data": {
      "image/png": "[encoded data removed]",
      "text/plain": [
       "<rdkit.Chem.rdchem.Mol at 0x7fc23643fd00>"
      ]
     },
     "execution_count": 68,
     "metadata": {},
     "output_type": "execute_result"
    }
   ],
   "source": [
    "mol"
   ]
  },
  {
   "cell_type": "code",
   "execution_count": 69,
   "metadata": {},
   "outputs": [
    {
     "data": {
      "text/plain": [
       "False"
      ]
     },
     "execution_count": 69,
     "metadata": {},
     "output_type": "execute_result"
    }
   ],
   "source": [
    "mol.HasSubstructMatch(noS_mol)"
   ]
  },
  {
   "cell_type": "code",
   "execution_count": 26,
   "metadata": {},
   "outputs": [],
   "source": [
    "noH_mol=Chem.RemoveHs(mol)\n",
    "noS_mol=Chem.RemoveHs(s_mol)"
   ]
  },
  {
   "cell_type": "code",
   "execution_count": 105,
   "metadata": {},
   "outputs": [],
   "source": [
    "atm_Li=Chem.AtomFromSmiles(\"[Li]\")\n",
    "atm_Na=Chem.AtomFromSmiles(\"[Na]\")"
   ]
  },
  {
   "cell_type": "code",
   "execution_count": 123,
   "metadata": {},
   "outputs": [
    {
     "data": {
      "image/png": "[encoded data removed]",
      "text/plain": [
       "<rdkit.Chem.rdchem.Mol at 0x7fc22ccb27b0>"
      ]
     },
     "execution_count": 123,
     "metadata": {},
     "output_type": "execute_result"
    }
   ],
   "source": [
    "li_mol=replace_H_with_Li(mol)\n",
    "li_mol"
   ]
  },
  {
   "cell_type": "code",
   "execution_count": 122,
   "metadata": {},
   "outputs": [
    {
     "data": {
      "image/png": "[encoded data removed]",
      "text/plain": [
       "<rdkit.Chem.rdchem.Mol at 0x7fc22d4103a0>"
      ]
     },
     "execution_count": 122,
     "metadata": {},
     "output_type": "execute_result"
    }
   ],
   "source": [
    "e_s_mol=replace_H_with_Li(s_mol)\n",
    "e_s_mol=replace_rad_with_H(e_s_mol)\n",
    "e_s_mol"
   ]
  },
  {
   "cell_type": "code",
   "execution_count": null,
   "metadata": {},
   "outputs": [],
   "source": [
    "atm.SetNumExplicitHs()"
   ]
  },
  {
   "cell_type": "code",
   "execution_count": 107,
   "metadata": {},
   "outputs": [
    {
     "data": {
      "image/png": "[encoded data removed]",
      "text/plain": [
       "<rdkit.Chem.rdchem.Mol at 0x7fc22cd9fc60>"
      ]
     },
     "execution_count": 107,
     "metadata": {},
     "output_type": "execute_result"
    }
   ],
   "source": [
    "replace_rad_with_na(s_mol)"
   ]
  },
  {
   "cell_type": "code",
   "execution_count": 97,
   "metadata": {},
   "outputs": [
    {
     "data": {
      "text/plain": [
       "0"
      ]
     },
     "execution_count": 97,
     "metadata": {},
     "output_type": "execute_result"
    }
   ],
   "source": [
    "atm.GetNumRadicalElectrons()"
   ]
  },
  {
   "cell_type": "code",
   "execution_count": 94,
   "metadata": {},
   "outputs": [
    {
     "data": {
      "image/png": "[encoded data removed]",
      "text/plain": [
       "<rdkit.Chem.rdchem.Mol at 0x7fc22cb61760>"
      ]
     },
     "execution_count": 94,
     "metadata": {},
     "output_type": "execute_result"
    }
   ],
   "source": [
    "replace_h_with_li(s_mol)"
   ]
  },
  {
   "cell_type": "code",
   "execution_count": 72,
   "metadata": {},
   "outputs": [
    {
     "data": {
      "text/plain": [
       "0"
      ]
     },
     "execution_count": 72,
     "metadata": {},
     "output_type": "execute_result"
    }
   ],
   "source": []
  },
  {
   "cell_type": "code",
   "execution_count": 44,
   "metadata": {},
   "outputs": [],
   "source": [
    "rad_cf_mol=Chem.MolFromSmiles(\"[C][F]\")\n",
    "reg_cf_mol=Chem.MolFromSmiles(\"CF\")"
   ]
  },
  {
   "cell_type": "code",
   "execution_count": 51,
   "metadata": {
    "scrolled": true
   },
   "outputs": [
    {
     "data": {
      "text/plain": [
       "True"
      ]
     },
     "execution_count": 51,
     "metadata": {},
     "output_type": "execute_result"
    }
   ],
   "source": [
    "noH_mol.HasSubstructMatch(reg_cf_mol)"
   ]
  },
  {
   "cell_type": "code",
   "execution_count": 52,
   "metadata": {},
   "outputs": [
    {
     "data": {
      "image/png": "[encoded data removed]",
      "text/plain": [
       "<rdkit.Chem.rdchem.Mol at 0x7fc22cc395d0>"
      ]
     },
     "execution_count": 52,
     "metadata": {},
     "output_type": "execute_result"
    }
   ],
   "source": [
    "noH_mol"
   ]
  },
  {
   "cell_type": "code",
   "execution_count": 53,
   "metadata": {},
   "outputs": [
    {
     "data": {
      "image/png": "[encoded data removed]",
      "text/plain": [
       "<rdkit.Chem.rdchem.Mol at 0x7fc23643fd00>"
      ]
     },
     "execution_count": 53,
     "metadata": {},
     "output_type": "execute_result"
    }
   ],
   "source": [
    "mol"
   ]
  },
  {
   "cell_type": "code",
   "execution_count": 5,
   "metadata": {},
   "outputs": [
    {
     "data": {
      "text/plain": [
       "['C', 'C', 'F', 'F', 'F', 'F', 'H', 'H']"
      ]
     },
     "execution_count": 5,
     "metadata": {},
     "output_type": "execute_result"
    }
   ],
   "source": [
    "atm_list"
   ]
  },
  {
   "cell_type": "code",
   "execution_count": 3,
   "metadata": {},
   "outputs": [
    {
     "data": {
      "text/plain": [
       "{1, 2, 3}"
      ]
     },
     "execution_count": 3,
     "metadata": {},
     "output_type": "execute_result"
    }
   ],
   "source": [
    "set_a=set([1,2])\n",
    "set_b=set([2,3])\n",
    "set_a.union([1,3])"
   ]
  },
  {
   "cell_type": "code",
   "execution_count": 17,
   "metadata": {},
   "outputs": [
    {
     "data": {
      "text/plain": [
       "{'FF', '[H]C#[C]'}"
      ]
     },
     "execution_count": 17,
     "metadata": {},
     "output_type": "execute_result"
    }
   ],
   "source": [
    "set(CP_t.l_prod[0].ar_smiles.tolist()"
   ]
  },
  {
   "cell_type": "code",
   "execution_count": 19,
   "metadata": {},
   "outputs": [
    {
     "data": {
      "image/png": "[encoded data removed]",
      "text/plain": [
       "<PIL.PngImagePlugin.PngImageFile image mode=RGB size=300x300 at 0x7F94B2C83520>"
      ]
     },
     "execution_count": 19,
     "metadata": {},
     "output_type": "execute_result"
    }
   ],
   "source": [
    "mol=Chem.AddHs(mol)\n",
    "Draw.MolToImage(mol)"
   ]
  },
  {
   "cell_type": "code",
   "execution_count": 125,
   "metadata": {},
   "outputs": [
    {
     "data": {
      "text/plain": [
       "<rdkit.Chem.rdchem.Atom at 0x7f16cb4868f0>"
      ]
     },
     "execution_count": 125,
     "metadata": {},
     "output_type": "execute_result"
    }
   ],
   "source": [
    "atom=Chem.rdmolfiles.AtomFromSmiles(\"[C]\")\n",
    "atom"
   ]
  },
  {
   "cell_type": "code",
   "execution_count": 172,
   "metadata": {},
   "outputs": [
    {
     "data": {
      "text/plain": [
       "<rdkit.Chem.rdchem.Atom at 0x7f16cb6c1940>"
      ]
     },
     "execution_count": 172,
     "metadata": {},
     "output_type": "execute_result"
    }
   ],
   "source": [
    "H_atom=Chem.AtomFromSmiles('[H]')\n",
    "H_atom.SetNumRadicalElectrons(1)\n"
   ]
  },
  {
   "cell_type": "code",
   "execution_count": 183,
   "metadata": {},
   "outputs": [
    {
     "data": {
      "text/plain": [
       "rdkit.Chem.rdchem.BondType.SINGLE"
      ]
     },
     "execution_count": 183,
     "metadata": {},
     "output_type": "execute_result"
    }
   ],
   "source": [
    "Chem.BondType.SINGLE"
   ]
  },
  {
   "cell_type": "code",
   "execution_count": 164,
   "metadata": {
    "scrolled": true
   },
   "outputs": [
    {
     "name": "stdout",
     "output_type": "stream",
     "text": [
      "None\n",
      "None\n"
     ]
    },
    {
     "data": {
      "image/png": "[encoded data removed]",
      "text/plain": [
       "<rdkit.Chem.rdchem.RWMol at 0x7f16cb6ab1f0>"
      ]
     },
     "execution_count": 164,
     "metadata": {},
     "output_type": "execute_result"
    }
   ],
   "source": [
    "mol = Chem.MolFromSmiles(\"[C]\")\n",
    "C_atom=Chem.AtomFromSmiles('C')\n",
    "C_atom.SetNumRadicalElectrons(4)\n",
    "rwmol = Chem.RWMol(mol)\n",
    "rwmol.AddAtom(C_atom)\n",
    "rwmol.AddBond(0,1,Chem.BondType.SINGLE)\n",
    "for i in rwmol.GetAtoms():\n",
    "    print(i.SetNumRadicalElectrons(3))\n",
    "rwmol"
   ]
  },
  {
   "cell_type": "code",
   "execution_count": 151,
   "metadata": {},
   "outputs": [],
   "source": []
  },
  {
   "cell_type": "code",
   "execution_count": 150,
   "metadata": {},
   "outputs": [
    {
     "name": "stderr",
     "output_type": "stream",
     "text": [
      "RDKit WARNING: [08:35:04] unsupported number of radical electrons 4\n"
     ]
    },
    {
     "data": {
      "image/png": "[encoded data removed]",
      "text/plain": [
       "<rdkit.Chem.rdchem.Mol at 0x7f16cb3a2ad0>"
      ]
     },
     "execution_count": 150,
     "metadata": {},
     "output_type": "execute_result"
    }
   ],
   "source": [
    "mol"
   ]
  },
  {
   "cell_type": "code",
   "execution_count": 118,
   "metadata": {
    "scrolled": true
   },
   "outputs": [
    {
     "name": "stderr",
     "output_type": "stream",
     "text": [
      "RDKit WARNING: [08:22:48] unsupported number of radical electrons 4\n"
     ]
    },
    {
     "data": {
      "image/png": "[encoded data removed]",
      "text/plain": [
       "<rdkit.Chem.rdchem.Mol at 0x7f16cb6c1440>"
      ]
     },
     "execution_count": 118,
     "metadata": {},
     "output_type": "execute_result"
    }
   ],
   "source": [
    "mol"
   ]
  },
  {
   "cell_type": "code",
   "execution_count": 156,
   "metadata": {},
   "outputs": [
    {
     "data": {
      "text/plain": [
       "33.025000000000006"
      ]
     },
     "execution_count": 156,
     "metadata": {},
     "output_type": "execute_result"
    }
   ],
   "source": [
    "frag=Chem.MolFromSmiles(\"[C]([H])([H])[F]\")\n",
    "frag=Chem.AddHs(frag)\n",
    "Descriptors.MolWt(frag)"
   ]
  },
  {
   "cell_type": "code",
   "execution_count": 160,
   "metadata": {
    "scrolled": true
   },
   "outputs": [
    {
     "data": {
      "text/plain": [
       "False"
      ]
     },
     "execution_count": 160,
     "metadata": {},
     "output_type": "execute_result"
    }
   ],
   "source": [
    "fragSm=Chem.MolFromSmarts(\"[C]([H])[F]\")\n",
    "mol.HasSubstructMatch(fragSm)"
   ]
  },
  {
   "cell_type": "code",
   "execution_count": 163,
   "metadata": {
    "scrolled": true
   },
   "outputs": [
    {
     "data": {
      "text/plain": [
       "True"
      ]
     },
     "execution_count": 163,
     "metadata": {},
     "output_type": "execute_result"
    }
   ],
   "source": [
    "Chem.AddHs(mol).HasSubstructMatch(fragSm)"
   ]
  },
  {
   "cell_type": "code",
   "execution_count": 395,
   "metadata": {},
   "outputs": [],
   "source": [
    "l_p_atm=['C','C','F','F','H']\n",
    "CP_t=CombProducts(l_p_atm,b_exist_atm=True,b_exist_rad=True)\n",
    "CP_t.CalcComb()\n",
    "p_t=Products(CP_t.l_p_atm,CP_t.ar_bond_can[1],CP_t.l_vlc)\n",
    "p_t.GenMols()"
   ]
  },
  {
   "cell_type": "code",
   "execution_count": 396,
   "metadata": {},
   "outputs": [
    {
     "data": {
      "text/plain": [
       "array([[0, 3, 1, 0, 0],\n",
       "       [3, 1, 0, 0, 0],\n",
       "       [1, 0, 0, 0, 0],\n",
       "       [0, 0, 0, 0, 1],\n",
       "       [0, 0, 0, 1, 0]])"
      ]
     },
     "execution_count": 396,
     "metadata": {},
     "output_type": "execute_result"
    }
   ],
   "source": [
    "CP_t.ar_bond_can[1]"
   ]
  },
  {
   "cell_type": "code",
   "execution_count": 351,
   "metadata": {
    "scrolled": true
   },
   "outputs": [
    {
     "data": {
      "text/plain": [
       "array([[1, 3, 0, 0, 0],\n",
       "       [3, 0, 1, 0, 0],\n",
       "       [0, 1, 0, 0, 0],\n",
       "       [0, 0, 0, 0, 1],\n",
       "       [0, 0, 0, 1, 0]])"
      ]
     },
     "execution_count": 351,
     "metadata": {},
     "output_type": "execute_result"
    }
   ],
   "source": [
    "p_t.m_bnd"
   ]
  },
  {
   "cell_type": "code",
   "execution_count": 378,
   "metadata": {},
   "outputs": [
    {
     "data": {
      "text/plain": [
       "[<__main__.Compound at 0x7f16cb4768e0>,\n",
       " <__main__.Compound at 0x7f16cb1b1430>,\n",
       " <__main__.Compound at 0x7f16cb1792e0>]"
      ]
     },
     "execution_count": 378,
     "metadata": {},
     "output_type": "execute_result"
    }
   ],
   "source": [
    "p_t.l_comp"
   ]
  },
  {
   "cell_type": "code",
   "execution_count": 380,
   "metadata": {},
   "outputs": [],
   "source": [
    "comp=p_t.l_comp[0]"
   ]
  },
  {
   "cell_type": "code",
   "execution_count": 381,
   "metadata": {},
   "outputs": [
    {
     "data": {
      "text/plain": [
       "[1, 0]"
      ]
     },
     "execution_count": 381,
     "metadata": {},
     "output_type": "execute_result"
    }
   ],
   "source": [
    "comp.l_atm"
   ]
  },
  {
   "cell_type": "code",
   "execution_count": 388,
   "metadata": {},
   "outputs": [
    {
     "data": {
      "text/plain": [
       "0"
      ]
     },
     "execution_count": 388,
     "metadata": {},
     "output_type": "execute_result"
    }
   ],
   "source": [
    "j"
   ]
  },
  {
   "cell_type": "code",
   "execution_count": 383,
   "metadata": {},
   "outputs": [
    {
     "data": {
      "text/plain": [
       "{1: 'C', 0: 'C'}"
      ]
     },
     "execution_count": 383,
     "metadata": {},
     "output_type": "execute_result"
    }
   ],
   "source": [
    "comp.d_atm"
   ]
  },
  {
   "cell_type": "code",
   "execution_count": 245,
   "metadata": {},
   "outputs": [
    {
     "data": {
      "image/png": "[encoded data removed]",
      "text/plain": [
       "<rdkit.Chem.rdchem.RWMol at 0x7f16cb4fc230>"
      ]
     },
     "execution_count": 245,
     "metadata": {},
     "output_type": "execute_result"
    }
   ],
   "source": [
    "rwmol = Chem.RWMol()\n",
    "for i in comp.l_atm:\n",
    "    rwmol.AddAtom(Chem.AtomFromSmiles(\"[\"+comp.d_atm[i]+\"]\"))\n",
    "for i in range(len(comp.l_atm)):\n",
    "    rwmol.AddBond(0,1,Chem.BondType.SINGLE)"
   ]
  },
  {
   "cell_type": "code",
   "execution_count": 301,
   "metadata": {},
   "outputs": [
    {
     "data": {
      "text/plain": [
       "[1, 0, 2]"
      ]
     },
     "execution_count": 301,
     "metadata": {},
     "output_type": "execute_result"
    }
   ],
   "source": [
    "comp.l_atm"
   ]
  },
  {
   "cell_type": "code",
   "execution_count": 302,
   "metadata": {},
   "outputs": [
    {
     "data": {
      "text/plain": [
       "1"
      ]
     },
     "execution_count": 302,
     "metadata": {},
     "output_type": "execute_result"
    }
   ],
   "source": [
    "comp.m_o_b[comp.l_atm[0],comp.l_atm[0]]"
   ]
  },
  {
   "cell_type": "code",
   "execution_count": 283,
   "metadata": {},
   "outputs": [
    {
     "data": {
      "text/plain": [
       "[1, 0, 2]"
      ]
     },
     "execution_count": 283,
     "metadata": {},
     "output_type": "execute_result"
    }
   ],
   "source": [
    "comp.l_atm"
   ]
  },
  {
   "cell_type": "code",
   "execution_count": 284,
   "metadata": {},
   "outputs": [
    {
     "data": {
      "text/plain": [
       "{1: 'C', 0: 'C', 2: 'H'}"
      ]
     },
     "execution_count": 284,
     "metadata": {},
     "output_type": "execute_result"
    }
   ],
   "source": [
    "comp.d_atm"
   ]
  },
  {
   "cell_type": "code",
   "execution_count": 285,
   "metadata": {},
   "outputs": [
    {
     "data": {
      "text/plain": [
       "array([[0, 3, 1, 0, 0],\n",
       "       [3, 1, 0, 0, 0],\n",
       "       [1, 0, 0, 0, 0],\n",
       "       [0, 0, 0, 0, 1],\n",
       "       [0, 0, 0, 1, 0]])"
      ]
     },
     "execution_count": 285,
     "metadata": {},
     "output_type": "execute_result"
    }
   ],
   "source": [
    "comp.m_o_b"
   ]
  },
  {
   "cell_type": "code",
   "execution_count": 289,
   "metadata": {},
   "outputs": [],
   "source": [
    "bond_d={\n",
    "    1:Chem.BondType.SINGLE,\n",
    "    2:Chem.BondType.DOUBLE,\n",
    "    3:Chem.BondType.TRIPLE\n",
    "}"
   ]
  },
  {
   "cell_type": "code",
   "execution_count": 293,
   "metadata": {},
   "outputs": [
    {
     "data": {
      "text/plain": [
       "'[H]C#[C]'"
      ]
     },
     "execution_count": 293,
     "metadata": {},
     "output_type": "execute_result"
    }
   ],
   "source": [
    "Chem.MolToSmiles(rwmol.GetMol())"
   ]
  },
  {
   "cell_type": "code",
   "execution_count": 281,
   "metadata": {},
   "outputs": [
    {
     "data": {
      "text/plain": [
       "int"
      ]
     },
     "execution_count": 281,
     "metadata": {},
     "output_type": "execute_result"
    }
   ],
   "source": [
    "type(int(num_radical))"
   ]
  },
  {
   "cell_type": "code",
   "execution_count": 251,
   "metadata": {
    "scrolled": true
   },
   "outputs": [
    {
     "data": {
      "text/plain": [
       "array([[0, 3, 1],\n",
       "       [3, 1, 0],\n",
       "       [1, 0, 0]])"
      ]
     },
     "execution_count": 251,
     "metadata": {},
     "output_type": "execute_result"
    }
   ],
   "source": [
    "comp.m_o_b[[0,1,2],:][:,[0,1,2]]"
   ]
  },
  {
   "cell_type": "code",
   "execution_count": 247,
   "metadata": {},
   "outputs": [
    {
     "data": {
      "text/plain": [
       "1"
      ]
     },
     "execution_count": 247,
     "metadata": {},
     "output_type": "execute_result"
    }
   ],
   "source": [
    "comp.l_atm"
   ]
  },
  {
   "cell_type": "code",
   "execution_count": 239,
   "metadata": {},
   "outputs": [
    {
     "name": "stdout",
     "output_type": "stream",
     "text": [
      "C\n",
      "C\n",
      "H\n"
     ]
    },
    {
     "data": {
      "text/plain": [
       "'[H][C][C]'"
      ]
     },
     "execution_count": 239,
     "metadata": {},
     "output_type": "execute_result"
    }
   ],
   "source": [
    "rwmol.AddAtom(C_atom)\n",
    "rwmol.AddBond(0,1,Chem.BondType.SINGLE)\n",
    "atom0=rwmol.GetAtomWithIdx(0)\n",
    "atom0.SetNumRadicalElectrons(3)\n",
    "atom1=rwmol.GetAtomWithIdx(1)\n",
    "atom1.SetNumRadicalElectrons(3)\n",
    "\n",
    "rwmol.AddAtom(H_atom)\n",
    "\n",
    "for i in rwmol.GetAtoms():\n",
    "    print(i.GetSymbol())\n",
    "    \n",
    "    \n",
    "rwmol.AddBond(1,2,Chem.BondType.SINGLE)\n",
    "atom1=rwmol.GetAtomWithIdx(1)\n",
    "atom1.SetNumRadicalElectrons(2)\n",
    "atom2=rwmol.GetAtomWithIdx(2)\n",
    "atom2.SetNumRadicalElectrons(0)\n",
    "Chem.MolToSmiles(rwmol)"
   ]
  },
  {
   "cell_type": "code",
   "execution_count": 236,
   "metadata": {},
   "outputs": [
    {
     "data": {
      "text/plain": [
       "[array([1, 3, 0]), array([3, 0, 1]), array([0, 1, 0])]"
      ]
     },
     "execution_count": 236,
     "metadata": {},
     "output_type": "execute_result"
    }
   ],
   "source": [
    "l_adm"
   ]
  },
  {
   "cell_type": "code",
   "execution_count": 210,
   "metadata": {},
   "outputs": [
    {
     "data": {
      "text/plain": [
       "[1, 0, 2]"
      ]
     },
     "execution_count": 210,
     "metadata": {},
     "output_type": "execute_result"
    }
   ],
   "source": [
    "comp.l_atm"
   ]
  },
  {
   "cell_type": "code",
   "execution_count": 232,
   "metadata": {},
   "outputs": [
    {
     "data": {
      "text/plain": [
       "array([[3, 0, 1],\n",
       "       [1, 3, 0],\n",
       "       [0, 1, 0]])"
      ]
     },
     "execution_count": 232,
     "metadata": {},
     "output_type": "execute_result"
    }
   ],
   "source": [
    "comp.m_o_b[[0,1,2],:][:,[0,1,2]]"
   ]
  },
  {
   "cell_type": "code",
   "execution_count": 218,
   "metadata": {},
   "outputs": [
    {
     "data": {
      "text/plain": [
       "array([[0, 3, 1, 0, 0],\n",
       "       [3, 1, 0, 0, 0],\n",
       "       [1, 0, 0, 0, 0],\n",
       "       [0, 0, 0, 0, 1],\n",
       "       [0, 0, 0, 1, 0]])"
      ]
     },
     "execution_count": 218,
     "metadata": {},
     "output_type": "execute_result"
    }
   ],
   "source": [
    "comp.m_o_b"
   ]
  },
  {
   "cell_type": "code",
   "execution_count": 234,
   "metadata": {},
   "outputs": [
    {
     "data": {
      "text/plain": [
       "array([[1, 3, 0],\n",
       "       [3, 0, 1],\n",
       "       [0, 1, 0]])"
      ]
     },
     "execution_count": 234,
     "metadata": {},
     "output_type": "execute_result"
    }
   ],
   "source": [
    "comp.m_o_b[comp.l_atm,:][:,comp.l_atm]"
   ]
  },
  {
   "cell_type": "code",
   "execution_count": 212,
   "metadata": {},
   "outputs": [
    {
     "data": {
      "text/plain": [
       "<__main__.Compound at 0x7f16cb5d6220>"
      ]
     },
     "execution_count": 212,
     "metadata": {},
     "output_type": "execute_result"
    }
   ],
   "source": [
    "comp"
   ]
  },
  {
   "cell_type": "code",
   "execution_count": 206,
   "metadata": {},
   "outputs": [
    {
     "data": {
      "text/plain": [
       "['C', 'C', 'H']"
      ]
     },
     "execution_count": 206,
     "metadata": {},
     "output_type": "execute_result"
    }
   ],
   "source": [
    "l_n_atm"
   ]
  },
  {
   "cell_type": "code",
   "execution_count": 193,
   "metadata": {},
   "outputs": [
    {
     "data": {
      "text/plain": [
       "array([[0, 3, 1, 0, 0],\n",
       "       [3, 1, 0, 0, 0],\n",
       "       [1, 0, 0, 0, 0],\n",
       "       [0, 0, 0, 0, 1],\n",
       "       [0, 0, 0, 1, 0]])"
      ]
     },
     "execution_count": 193,
     "metadata": {},
     "output_type": "execute_result"
    }
   ],
   "source": [
    "CP_t.ar_bond_can[0]"
   ]
  },
  {
   "cell_type": "code",
   "execution_count": 96,
   "metadata": {},
   "outputs": [
    {
     "data": {
      "text/plain": [
       "0"
      ]
     },
     "execution_count": 96,
     "metadata": {},
     "output_type": "execute_result"
    }
   ],
   "source": [
    "CP_t.comb_c"
   ]
  },
  {
   "cell_type": "code",
   "execution_count": 207,
   "metadata": {},
   "outputs": [
    {
     "data": {
      "text/plain": [
       "[[3, 0, 0, 0, 0], [2, 0, 0, 0, 0], [1, 0, 0, 0, 0], [0, 0, 0, 0, 0]]"
      ]
     },
     "execution_count": 207,
     "metadata": {},
     "output_type": "execute_result"
    }
   ],
   "source": [
    "l_bond_r_p"
   ]
  },
  {
   "cell_type": "code",
   "execution_count": null,
   "metadata": {
    "scrolled": true
   },
   "outputs": [],
   "source": [
    "l_cr"
   ]
  },
  {
   "cell_type": "code",
   "execution_count": 88,
   "metadata": {},
   "outputs": [
    {
     "data": {
      "text/plain": [
       "array([[[0, 0, 0, 0, 0],\n",
       "        [3, 0, 0, 0, 0],\n",
       "        [1, 0, 0, 0, 0],\n",
       "        [0, 1, 0, 0, 0],\n",
       "        [0, 0, 0, 0, 0]],\n",
       "\n",
       "       [[0, 0, 0, 0, 0],\n",
       "        [3, 0, 0, 0, 0],\n",
       "        [1, 0, 0, 0, 0],\n",
       "        [0, 0, 0, 0, 0],\n",
       "        [0, 1, 0, 0, 0]],\n",
       "\n",
       "       [[0, 0, 0, 0, 0],\n",
       "        [3, 0, 0, 0, 0],\n",
       "        [1, 0, 0, 0, 0],\n",
       "        [0, 0, 0, 0, 0],\n",
       "        [0, 0, 0, 1, 0]],\n",
       "\n",
       "       ...,\n",
       "\n",
       "       [[0, 0, 0, 0, 0],\n",
       "        [0, 0, 0, 0, 0],\n",
       "        [0, 0, 0, 0, 0],\n",
       "        [0, 0, 0, 0, 0],\n",
       "        [0, 0, 1, 0, 0]],\n",
       "\n",
       "       [[0, 0, 0, 0, 0],\n",
       "        [0, 0, 0, 0, 0],\n",
       "        [0, 0, 0, 0, 0],\n",
       "        [0, 0, 0, 0, 0],\n",
       "        [0, 0, 0, 1, 0]],\n",
       "\n",
       "       [[0, 0, 0, 0, 0],\n",
       "        [0, 0, 0, 0, 0],\n",
       "        [0, 0, 0, 0, 0],\n",
       "        [0, 0, 0, 0, 0],\n",
       "        [0, 0, 0, 0, 0]]])"
      ]
     },
     "execution_count": 88,
     "metadata": {},
     "output_type": "execute_result"
    }
   ],
   "source": [
    "ar_bond_can"
   ]
  },
  {
   "cell_type": "code",
   "execution_count": 71,
   "metadata": {},
   "outputs": [
    {
     "data": {
      "text/plain": [
       "[[0, 1875, 16, 8, 0],\n",
       " [0, 1875, 16, 0, 8],\n",
       " [0, 1875, 16, 0, 2],\n",
       " [0, 1875, 16, 0, 0],\n",
       " [0, 1875, 8, 16, 0],\n",
       " [0, 1875, 8, 0, 16],\n",
       " [0, 1875, 8, 0, 2],\n",
       " [0, 1875, 8, 0, 0],\n",
       " [0, 1875, 0, 16, 8],\n",
       " [0, 1875, 0, 16, 4],\n",
       " [0, 1875, 0, 16, 0],\n",
       " [0, 1875, 0, 8, 16],\n",
       " [0, 1875, 0, 8, 4],\n",
       " [0, 1875, 0, 8, 0],\n",
       " [0, 1875, 0, 4, 16],\n",
       " [0, 1875, 0, 4, 8],\n",
       " [0, 1875, 0, 4, 0],\n",
       " [0, 1875, 0, 0, 16],\n",
       " [0, 1875, 0, 0, 8],\n",
       " [0, 1875, 0, 0, 4],\n",
       " [0, 1875, 0, 0, 2],\n",
       " [0, 1875, 0, 0, 0],\n",
       " [0, 1250, 16, 16, 8],\n",
       " [0, 1250, 16, 16, 0],\n",
       " [0, 1250, 16, 8, 16],\n",
       " [0, 1250, 16, 8, 8],\n",
       " [0, 1250, 16, 8, 0],\n",
       " [0, 1250, 16, 0, 16],\n",
       " [0, 1250, 16, 0, 8],\n",
       " [0, 1250, 16, 0, 2],\n",
       " [0, 1250, 16, 0, 0],\n",
       " [0, 1250, 8, 16, 16],\n",
       " [0, 1250, 8, 16, 8],\n",
       " [0, 1250, 8, 16, 0],\n",
       " [0, 1250, 8, 8, 16],\n",
       " [0, 1250, 8, 8, 0],\n",
       " [0, 1250, 8, 0, 16],\n",
       " [0, 1250, 8, 0, 8],\n",
       " [0, 1250, 8, 0, 2],\n",
       " [0, 1250, 8, 0, 0],\n",
       " [0, 1250, 0, 16, 16],\n",
       " [0, 1250, 0, 16, 8],\n",
       " [0, 1250, 0, 16, 4],\n",
       " [0, 1250, 0, 16, 0],\n",
       " [0, 1250, 0, 8, 16],\n",
       " [0, 1250, 0, 8, 8],\n",
       " [0, 1250, 0, 8, 4],\n",
       " [0, 1250, 0, 8, 0],\n",
       " [0, 1250, 0, 4, 16],\n",
       " [0, 1250, 0, 4, 8],\n",
       " [0, 1250, 0, 4, 0],\n",
       " [0, 1250, 0, 0, 16],\n",
       " [0, 1250, 0, 0, 8],\n",
       " [0, 1250, 0, 0, 4],\n",
       " [0, 1250, 0, 0, 2],\n",
       " [0, 1250, 0, 0, 0],\n",
       " [0, 625, 16, 16, 16],\n",
       " [0, 625, 16, 16, 8],\n",
       " [0, 625, 16, 16, 0],\n",
       " [0, 625, 16, 8, 16],\n",
       " [0, 625, 16, 8, 8],\n",
       " [0, 625, 16, 8, 0],\n",
       " [0, 625, 16, 0, 16],\n",
       " [0, 625, 16, 0, 8],\n",
       " [0, 625, 16, 0, 2],\n",
       " [0, 625, 16, 0, 0],\n",
       " [0, 625, 8, 16, 16],\n",
       " [0, 625, 8, 16, 8],\n",
       " [0, 625, 8, 16, 0],\n",
       " [0, 625, 8, 8, 16],\n",
       " [0, 625, 8, 8, 8],\n",
       " [0, 625, 8, 8, 0],\n",
       " [0, 625, 8, 0, 16],\n",
       " [0, 625, 8, 0, 8],\n",
       " [0, 625, 8, 0, 2],\n",
       " [0, 625, 8, 0, 0],\n",
       " [0, 625, 0, 16, 16],\n",
       " [0, 625, 0, 16, 8],\n",
       " [0, 625, 0, 16, 4],\n",
       " [0, 625, 0, 16, 0],\n",
       " [0, 625, 0, 8, 16],\n",
       " [0, 625, 0, 8, 8],\n",
       " [0, 625, 0, 8, 4],\n",
       " [0, 625, 0, 8, 0],\n",
       " [0, 625, 0, 4, 16],\n",
       " [0, 625, 0, 4, 8],\n",
       " [0, 625, 0, 4, 0],\n",
       " [0, 625, 0, 0, 16],\n",
       " [0, 625, 0, 0, 8],\n",
       " [0, 625, 0, 0, 4],\n",
       " [0, 625, 0, 0, 2],\n",
       " [0, 625, 0, 0, 0],\n",
       " [0, 0, 16, 16, 16],\n",
       " [0, 0, 16, 16, 8],\n",
       " [0, 0, 16, 16, 0],\n",
       " [0, 0, 16, 8, 16],\n",
       " [0, 0, 16, 8, 8],\n",
       " [0, 0, 16, 8, 0],\n",
       " [0, 0, 16, 0, 16],\n",
       " [0, 0, 16, 0, 8],\n",
       " [0, 0, 16, 0, 2],\n",
       " [0, 0, 16, 0, 0],\n",
       " [0, 0, 8, 16, 16],\n",
       " [0, 0, 8, 16, 8],\n",
       " [0, 0, 8, 16, 0],\n",
       " [0, 0, 8, 8, 16],\n",
       " [0, 0, 8, 8, 8],\n",
       " [0, 0, 8, 8, 0],\n",
       " [0, 0, 8, 0, 16],\n",
       " [0, 0, 8, 0, 8],\n",
       " [0, 0, 8, 0, 2],\n",
       " [0, 0, 8, 0, 0],\n",
       " [0, 0, 0, 16, 16],\n",
       " [0, 0, 0, 16, 8],\n",
       " [0, 0, 0, 16, 4],\n",
       " [0, 0, 0, 16, 0],\n",
       " [0, 0, 0, 8, 16],\n",
       " [0, 0, 0, 8, 8],\n",
       " [0, 0, 0, 8, 4],\n",
       " [0, 0, 0, 8, 0],\n",
       " [0, 0, 0, 4, 16],\n",
       " [0, 0, 0, 4, 8],\n",
       " [0, 0, 0, 4, 0],\n",
       " [0, 0, 0, 0, 16],\n",
       " [0, 0, 0, 0, 8],\n",
       " [0, 0, 0, 0, 4],\n",
       " [0, 0, 0, 0, 2],\n",
       " [0, 0, 0, 0, 0]]"
      ]
     },
     "execution_count": 71,
     "metadata": {},
     "output_type": "execute_result"
    }
   ],
   "source": [
    "l_l_base"
   ]
  },
  {
   "cell_type": "code",
   "execution_count": 69,
   "metadata": {},
   "outputs": [
    {
     "name": "stdout",
     "output_type": "stream",
     "text": [
      "[1 0 0 0 0] 1\n"
     ]
    },
    {
     "data": {
      "text/plain": [
       "16"
      ]
     },
     "execution_count": 69,
     "metadata": {},
     "output_type": "execute_result"
    }
   ],
   "source": [
    "j=2\n",
    "print(ar_bond_cons[0,j,:],l_vlc[j])\n",
    "Base_n_to_10(ar_bond_cons[0,j,:],l_vlc[j]+1)"
   ]
  },
  {
   "cell_type": "code",
   "execution_count": 39,
   "metadata": {},
   "outputs": [
    {
     "data": {
      "text/plain": [
       "array([[[0, 0, 0, 0, 0],\n",
       "        [3, 0, 0, 0, 0],\n",
       "        [1, 0, 0, 0, 0],\n",
       "        [0, 1, 0, 0, 0],\n",
       "        [0, 0, 0, 0, 0]],\n",
       "\n",
       "       [[0, 0, 0, 0, 0],\n",
       "        [3, 0, 0, 0, 0],\n",
       "        [1, 0, 0, 0, 0],\n",
       "        [0, 0, 0, 0, 0],\n",
       "        [0, 1, 0, 0, 0]],\n",
       "\n",
       "       [[0, 0, 0, 0, 0],\n",
       "        [3, 0, 0, 0, 0],\n",
       "        [1, 0, 0, 0, 0],\n",
       "        [0, 0, 0, 0, 0],\n",
       "        [0, 0, 0, 1, 0]],\n",
       "\n",
       "       ...,\n",
       "\n",
       "       [[0, 0, 0, 0, 0],\n",
       "        [0, 0, 0, 0, 0],\n",
       "        [0, 0, 0, 0, 0],\n",
       "        [0, 0, 0, 0, 0],\n",
       "        [0, 0, 1, 0, 0]],\n",
       "\n",
       "       [[0, 0, 0, 0, 0],\n",
       "        [0, 0, 0, 0, 0],\n",
       "        [0, 0, 0, 0, 0],\n",
       "        [0, 0, 0, 0, 0],\n",
       "        [0, 0, 0, 1, 0]],\n",
       "\n",
       "       [[0, 0, 0, 0, 0],\n",
       "        [0, 0, 0, 0, 0],\n",
       "        [0, 0, 0, 0, 0],\n",
       "        [0, 0, 0, 0, 0],\n",
       "        [0, 0, 0, 0, 0]]])"
      ]
     },
     "execution_count": 39,
     "metadata": {},
     "output_type": "execute_result"
    }
   ],
   "source": [
    "ar_bond_cons"
   ]
  },
  {
   "cell_type": "code",
   "execution_count": 27,
   "metadata": {},
   "outputs": [
    {
     "data": {
      "text/plain": [
       "array([[[0, 3, 1, 1, 1],\n",
       "        [3, 0, 0, 0, 0],\n",
       "        [1, 0, 0, 0, 0],\n",
       "        [1, 0, 0, 0, 0],\n",
       "        [1, 0, 0, 0, 0]],\n",
       "\n",
       "       [[0, 3, 1, 1, 0],\n",
       "        [3, 0, 0, 0, 1],\n",
       "        [1, 0, 0, 0, 0],\n",
       "        [1, 0, 0, 0, 0],\n",
       "        [0, 1, 0, 0, 0]],\n",
       "\n",
       "       [[0, 3, 1, 1, 0],\n",
       "        [3, 0, 0, 0, 0],\n",
       "        [1, 0, 0, 0, 1],\n",
       "        [1, 0, 0, 0, 0],\n",
       "        [0, 0, 1, 0, 0]],\n",
       "\n",
       "       ...,\n",
       "\n",
       "       [[0, 0, 0, 0, 0],\n",
       "        [0, 0, 0, 0, 0],\n",
       "        [0, 0, 0, 0, 1],\n",
       "        [0, 0, 0, 0, 0],\n",
       "        [0, 0, 1, 0, 0]],\n",
       "\n",
       "       [[0, 0, 0, 0, 0],\n",
       "        [0, 0, 0, 0, 0],\n",
       "        [0, 0, 0, 0, 0],\n",
       "        [0, 0, 0, 0, 1],\n",
       "        [0, 0, 0, 1, 0]],\n",
       "\n",
       "       [[0, 0, 0, 0, 0],\n",
       "        [0, 0, 0, 0, 0],\n",
       "        [0, 0, 0, 0, 0],\n",
       "        [0, 0, 0, 0, 0],\n",
       "        [0, 0, 0, 0, 0]]])"
      ]
     },
     "execution_count": 27,
     "metadata": {},
     "output_type": "execute_result"
    }
   ],
   "source": [
    "ar_bond_p"
   ]
  },
  {
   "cell_type": "code",
   "execution_count": 15,
   "metadata": {},
   "outputs": [
    {
     "name": "stdout",
     "output_type": "stream",
     "text": [
      "(1, 1)\n",
      "(1, 2)\n",
      "(1, 1)\n",
      "(1, 2)\n"
     ]
    }
   ],
   "source": [
    "for i in itertools.product([1,1],[1,2]):\n",
    "    print(i)"
   ]
  },
  {
   "cell_type": "code",
   "execution_count": 7,
   "metadata": {},
   "outputs": [
    {
     "data": {
      "text/plain": [
       "[[[0, 0, 0, 0, 0]],\n",
       " [[3, 0, 0, 0, 0], [2, 0, 0, 0, 0], [1, 0, 0, 0, 0], [0, 0, 0, 0, 0]],\n",
       " [[1, 0, 0, 0, 0], [0, 1, 0, 0, 0], [0, 0, 0, 0, 0]],\n",
       " [[1, 0, 0, 0, 0], [0, 1, 0, 0, 0], [0, 0, 1, 0, 0], [0, 0, 0, 0, 0]],\n",
       " [[1, 0, 0, 0, 0],\n",
       "  [0, 1, 0, 0, 0],\n",
       "  [0, 0, 1, 0, 0],\n",
       "  [0, 0, 0, 1, 0],\n",
       "  [0, 0, 0, 0, 0]]]"
      ]
     },
     "execution_count": 7,
     "metadata": {},
     "output_type": "execute_result"
    }
   ],
   "source": [
    "l_bond_p"
   ]
  },
  {
   "cell_type": "code",
   "execution_count": 6,
   "metadata": {},
   "outputs": [
    {
     "data": {
      "text/plain": [
       "array([[[0, 3, 1, 1, 1],\n",
       "        [3, 0, 0, 0, 0],\n",
       "        [1, 0, 0, 0, 0],\n",
       "        [1, 0, 0, 0, 0],\n",
       "        [1, 0, 0, 0, 0]],\n",
       "\n",
       "       [[0, 3, 1, 1, 0],\n",
       "        [3, 0, 0, 0, 1],\n",
       "        [1, 0, 0, 0, 0],\n",
       "        [1, 0, 0, 0, 0],\n",
       "        [0, 1, 0, 0, 0]],\n",
       "\n",
       "       [[0, 3, 1, 1, 0],\n",
       "        [3, 0, 0, 0, 0],\n",
       "        [1, 0, 0, 0, 1],\n",
       "        [1, 0, 0, 0, 0],\n",
       "        [0, 0, 1, 0, 0]],\n",
       "\n",
       "       ...,\n",
       "\n",
       "       [[0, 0, 0, 0, 0],\n",
       "        [0, 0, 0, 0, 0],\n",
       "        [0, 0, 0, 0, 1],\n",
       "        [0, 0, 0, 0, 0],\n",
       "        [0, 0, 1, 0, 0]],\n",
       "\n",
       "       [[0, 0, 0, 0, 0],\n",
       "        [0, 0, 0, 0, 0],\n",
       "        [0, 0, 0, 0, 0],\n",
       "        [0, 0, 0, 0, 1],\n",
       "        [0, 0, 0, 1, 0]],\n",
       "\n",
       "       [[0, 0, 0, 0, 0],\n",
       "        [0, 0, 0, 0, 0],\n",
       "        [0, 0, 0, 0, 0],\n",
       "        [0, 0, 0, 0, 0],\n",
       "        [0, 0, 0, 0, 0]]])"
      ]
     },
     "execution_count": 6,
     "metadata": {},
     "output_type": "execute_result"
    }
   ],
   "source": [
    "ar_bond_p"
   ]
  },
  {
   "cell_type": "code",
   "execution_count": 167,
   "metadata": {},
   "outputs": [
    {
     "ename": "NameError",
     "evalue": "name 'Base_n_to_10' is not defined",
     "output_type": "error",
     "traceback": [
      "\u001b[0;31m---------------------------------------------------------------------------\u001b[0m",
      "\u001b[0;31mNameError\u001b[0m                                 Traceback (most recent call last)",
      "\u001b[0;32m<ipython-input-167-7049c7d7fcc8>\u001b[0m in \u001b[0;36m<module>\u001b[0;34m\u001b[0m\n\u001b[1;32m      1\u001b[0m \u001b[0ml_p_atm\u001b[0m\u001b[0;34m=\u001b[0m\u001b[0;34m[\u001b[0m\u001b[0;34m'C'\u001b[0m\u001b[0;34m,\u001b[0m\u001b[0;34m'C'\u001b[0m\u001b[0;34m,\u001b[0m\u001b[0;34m'F'\u001b[0m\u001b[0;34m,\u001b[0m\u001b[0;34m'F'\u001b[0m\u001b[0;34m,\u001b[0m\u001b[0;34m'H'\u001b[0m\u001b[0;34m]\u001b[0m\u001b[0;34m\u001b[0m\u001b[0;34m\u001b[0m\u001b[0m\n\u001b[1;32m      2\u001b[0m \u001b[0mCP_t\u001b[0m\u001b[0;34m=\u001b[0m\u001b[0mCombProducts\u001b[0m\u001b[0;34m(\u001b[0m\u001b[0ml_p_atm\u001b[0m\u001b[0;34m)\u001b[0m\u001b[0;34m\u001b[0m\u001b[0;34m\u001b[0m\u001b[0m\n\u001b[0;32m----> 3\u001b[0;31m \u001b[0mCP_t\u001b[0m\u001b[0;34m.\u001b[0m\u001b[0mCalcComb\u001b[0m\u001b[0;34m(\u001b[0m\u001b[0;34m)\u001b[0m\u001b[0;34m\u001b[0m\u001b[0;34m\u001b[0m\u001b[0m\n\u001b[0m",
      "\u001b[0;32m<ipython-input-165-eb81d8bff929>\u001b[0m in \u001b[0;36mCalcComb\u001b[0;34m(self)\u001b[0m\n\u001b[1;32m     57\u001b[0m             \u001b[0ml_base\u001b[0m\u001b[0;34m=\u001b[0m\u001b[0;34m[\u001b[0m\u001b[0;34m]\u001b[0m\u001b[0;34m\u001b[0m\u001b[0;34m\u001b[0m\u001b[0m\n\u001b[1;32m     58\u001b[0m             \u001b[0;32mfor\u001b[0m \u001b[0mj\u001b[0m \u001b[0;32min\u001b[0m \u001b[0mrange\u001b[0m\u001b[0;34m(\u001b[0m\u001b[0mar_bond_cons\u001b[0m\u001b[0;34m.\u001b[0m\u001b[0mshape\u001b[0m\u001b[0;34m[\u001b[0m\u001b[0;36m1\u001b[0m\u001b[0;34m]\u001b[0m\u001b[0;34m)\u001b[0m\u001b[0;34m:\u001b[0m\u001b[0;34m\u001b[0m\u001b[0;34m\u001b[0m\u001b[0m\n\u001b[0;32m---> 59\u001b[0;31m                 \u001b[0ml_base\u001b[0m\u001b[0;34m.\u001b[0m\u001b[0mappend\u001b[0m\u001b[0;34m(\u001b[0m\u001b[0mBase_n_to_10\u001b[0m\u001b[0;34m(\u001b[0m\u001b[0mar_bond_cons\u001b[0m\u001b[0;34m[\u001b[0m\u001b[0mi\u001b[0m\u001b[0;34m,\u001b[0m\u001b[0mj\u001b[0m\u001b[0;34m,\u001b[0m\u001b[0;34m:\u001b[0m\u001b[0;34m]\u001b[0m\u001b[0;34m,\u001b[0m\u001b[0mself\u001b[0m\u001b[0;34m.\u001b[0m\u001b[0ml_vlc\u001b[0m\u001b[0;34m[\u001b[0m\u001b[0mj\u001b[0m\u001b[0;34m]\u001b[0m\u001b[0;34m+\u001b[0m\u001b[0;36m1\u001b[0m\u001b[0;34m)\u001b[0m\u001b[0;34m)\u001b[0m\u001b[0;34m\u001b[0m\u001b[0;34m\u001b[0m\u001b[0m\n\u001b[0m\u001b[1;32m     60\u001b[0m                 \u001b[0;31m#隣接行列を原子価+1進数とみなして十進数に直す。\u001b[0m\u001b[0;34m\u001b[0m\u001b[0;34m\u001b[0m\u001b[0;34m\u001b[0m\u001b[0m\n\u001b[1;32m     61\u001b[0m                 \u001b[0;31m#この十進数にした数字で並び替えて、\u001b[0m\u001b[0;34m\u001b[0m\u001b[0;34m\u001b[0m\u001b[0;34m\u001b[0m\u001b[0m\n",
      "\u001b[0;31mNameError\u001b[0m: name 'Base_n_to_10' is not defined"
     ]
    }
   ],
   "source": [
    "l_p_atm=['C','C','F','F','H']\n",
    "CP_t=CombProducts(l_p_atm)\n",
    "CP_t.CalcComb()"
   ]
  },
  {
   "cell_type": "code",
   "execution_count": 138,
   "metadata": {
    "scrolled": true
   },
   "outputs": [
    {
     "data": {
      "text/plain": [
       "102.03000000000002"
      ]
     },
     "execution_count": 138,
     "metadata": {},
     "output_type": "execute_result"
    }
   ],
   "source": [
    "Descriptors.MolWt(mol)"
   ]
  },
  {
   "cell_type": "code",
   "execution_count": 85,
   "metadata": {},
   "outputs": [
    {
     "data": {
      "text/plain": [
       "array([  60.,   60.,   10.,  130.,  480., 1772.,  681.,  220.,  130.,\n",
       "        190., 2692.,   50.,   10.,  430.,  701., 1021., 9999., 1151.,\n",
       "         30.])"
      ]
     },
     "execution_count": 85,
     "metadata": {},
     "output_type": "execute_result"
    }
   ],
   "source": [
    "intens"
   ]
  },
  {
   "cell_type": "code",
   "execution_count": 78,
   "metadata": {
    "scrolled": true
   },
   "outputs": [
    {
     "data": {
      "text/plain": [
       "4"
      ]
     },
     "execution_count": 78,
     "metadata": {},
     "output_type": "execute_result"
    }
   ],
   "source": [
    "pt=Chem.GetPeriodicTable()\n",
    "pt.GetDefaultValence('C')"
   ]
  },
  {
   "cell_type": "code",
   "execution_count": 66,
   "metadata": {},
   "outputs": [
    {
     "data": {
      "text/plain": [
       "313.21218382809"
      ]
     },
     "execution_count": 66,
     "metadata": {},
     "output_type": "execute_result"
    }
   ],
   "source": [
    "Descriptors.ExactMolWt(mol)"
   ]
  },
  {
   "cell_type": "code",
   "execution_count": 7,
   "metadata": {},
   "outputs": [],
   "source": [
    "mol = Chem.MolFromSmiles('CCC(CC)O[C@@H]1C=C(C[C@@H]([C@H]1NC(=O)C)[NH3+])C(=O)OCC')"
   ]
  },
  {
   "cell_type": "code",
   "execution_count": 36,
   "metadata": {},
   "outputs": [],
   "source": [
    "CH4=Chem.MolFromSmiles('C')"
   ]
  },
  {
   "cell_type": "code",
   "execution_count": 37,
   "metadata": {},
   "outputs": [
    {
     "data": {
      "text/plain": [
       "16.043"
      ]
     },
     "execution_count": 37,
     "metadata": {},
     "output_type": "execute_result"
    }
   ],
   "source": [
    "Descriptors.MolWt(CH4)"
   ]
  },
  {
   "cell_type": "code",
   "execution_count": 20,
   "metadata": {},
   "outputs": [],
   "source": [
    "atom=mol.GetAtoms()"
   ]
  }
 ],
 "metadata": {
  "kernelspec": {
   "display_name": "Python 3",
   "language": "python",
   "name": "python3"
  },
  "language_info": {
   "codemirror_mode": {
    "name": "ipython",
    "version": 3
   },
   "file_extension": ".py",
   "mimetype": "text/x-python",
   "name": "python",
   "nbconvert_exporter": "python",
   "pygments_lexer": "ipython3",
   "version": "3.8.6"
  }
 },
 "nbformat": 4,
 "nbformat_minor": 4
}
